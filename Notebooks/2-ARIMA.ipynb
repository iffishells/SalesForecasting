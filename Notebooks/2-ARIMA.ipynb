{
 "cells": [
  {
   "cell_type": "markdown",
   "metadata": {},
   "source": [
    "# loading libraries"
   ]
  },
  {
   "cell_type": "code",
   "execution_count": 26,
   "metadata": {},
   "outputs": [],
   "source": [
    "import pandas as pd\n",
    "import numpy as np\n",
    "import matplotlib.pyplot as plt\n",
    "import os\n",
    "import glob\n",
    "import pathlib\n",
    "import pandas as pd\n",
    "import numpy as np\n",
    "import darts\n",
    "from darts.models.forecasting.arima import ARIMA\n",
    "from darts import TimeSeries\n",
    "import matplotlib.pyplot as plt\n",
    "from statsmodels.tsa.stattools import adfuller\n",
    "import os\n",
    "import glob\n",
    "from tqdm import tqdm\n",
    "from darts.dataprocessing.transformers.scaler import Scaler"
   ]
  },
  {
   "cell_type": "markdown",
   "metadata": {},
   "source": [
    "# Helping Functions\n"
   ]
  },
  {
   "cell_type": "code",
   "execution_count": 27,
   "metadata": {},
   "outputs": [],
   "source": [
    "import numpy as np\n",
    "\n",
    "\n",
    "def calculate_metrics(actual, predicted):\n",
    "    # Convert inputs to numpy arrays for easier calculations\n",
    "    actual = np.array(actual)\n",
    "    predicted = np.array(predicted)\n",
    "\n",
    "    # Calculate individual metrics\n",
    "    mae = np.mean(np.abs(predicted - actual))\n",
    "    rmse = np.sqrt(np.mean((predicted - actual) ** 2))\n",
    "    mape = np.mean(np.abs((predicted - actual) / actual)) * 100\n",
    "    mse = np.mean((predicted - actual) ** 2)\n",
    "\n",
    "    metrics = {\"MAE\": mae, \"RMSE\": rmse, \"MAPE\": mape, \"MSE\": mse}\n",
    "\n",
    "    return metrics"
   ]
  },
  {
   "cell_type": "markdown",
   "metadata": {},
   "source": [
    "# Data Reading 😶"
   ]
  },
  {
   "cell_type": "code",
   "execution_count": 28,
   "metadata": {},
   "outputs": [
    {
     "data": {
      "text/html": [
       "<div>\n",
       "<style scoped>\n",
       "    .dataframe tbody tr th:only-of-type {\n",
       "        vertical-align: middle;\n",
       "    }\n",
       "\n",
       "    .dataframe tbody tr th {\n",
       "        vertical-align: top;\n",
       "    }\n",
       "\n",
       "    .dataframe thead th {\n",
       "        text-align: right;\n",
       "    }\n",
       "</style>\n",
       "<table border=\"1\" class=\"dataframe\">\n",
       "  <thead>\n",
       "    <tr style=\"text-align: right;\">\n",
       "      <th></th>\n",
       "      <th>date</th>\n",
       "      <th>net_sales_total</th>\n",
       "      <th>net_order_entry_total</th>\n",
       "      <th>mitarbeiter_vertrieb</th>\n",
       "      <th>mitarbeiter_service</th>\n",
       "      <th>mitarbeiter_total</th>\n",
       "    </tr>\n",
       "  </thead>\n",
       "  <tbody>\n",
       "    <tr>\n",
       "      <th>0</th>\n",
       "      <td>2014-01-31</td>\n",
       "      <td>9914.85</td>\n",
       "      <td>13197.85</td>\n",
       "      <td>94</td>\n",
       "      <td>178</td>\n",
       "      <td>272</td>\n",
       "    </tr>\n",
       "    <tr>\n",
       "      <th>1</th>\n",
       "      <td>2014-02-28</td>\n",
       "      <td>8793.66</td>\n",
       "      <td>11632.08</td>\n",
       "      <td>96</td>\n",
       "      <td>178</td>\n",
       "      <td>274</td>\n",
       "    </tr>\n",
       "    <tr>\n",
       "      <th>2</th>\n",
       "      <td>2014-03-31</td>\n",
       "      <td>12689.12</td>\n",
       "      <td>14404.37</td>\n",
       "      <td>97</td>\n",
       "      <td>179</td>\n",
       "      <td>276</td>\n",
       "    </tr>\n",
       "    <tr>\n",
       "      <th>3</th>\n",
       "      <td>2014-04-30</td>\n",
       "      <td>12420.60</td>\n",
       "      <td>11512.26</td>\n",
       "      <td>97</td>\n",
       "      <td>180</td>\n",
       "      <td>277</td>\n",
       "    </tr>\n",
       "    <tr>\n",
       "      <th>4</th>\n",
       "      <td>2014-05-31</td>\n",
       "      <td>11825.02</td>\n",
       "      <td>11875.16</td>\n",
       "      <td>99</td>\n",
       "      <td>178</td>\n",
       "      <td>277</td>\n",
       "    </tr>\n",
       "  </tbody>\n",
       "</table>\n",
       "</div>"
      ],
      "text/plain": [
       "         date  net_sales_total  net_order_entry_total  mitarbeiter_vertrieb  \\\n",
       "0  2014-01-31          9914.85               13197.85                    94   \n",
       "1  2014-02-28          8793.66               11632.08                    96   \n",
       "2  2014-03-31         12689.12               14404.37                    97   \n",
       "3  2014-04-30         12420.60               11512.26                    97   \n",
       "4  2014-05-31         11825.02               11875.16                    99   \n",
       "\n",
       "   mitarbeiter_service  mitarbeiter_total  \n",
       "0                  178                272  \n",
       "1                  178                274  \n",
       "2                  179                276  \n",
       "3                  180                277  \n",
       "4                  178                277  "
      ]
     },
     "execution_count": 28,
     "metadata": {},
     "output_type": "execute_result"
    }
   ],
   "source": [
    "fileName = \"highcorrelated_features\"\n",
    "df = pd.read_csv(f\"../ProcessedData/{fileName}/{fileName}.csv\")\n",
    "df.head()"
   ]
  },
  {
   "cell_type": "code",
   "execution_count": 29,
   "metadata": {},
   "outputs": [
    {
     "data": {
      "text/html": [
       "<div>\n",
       "<style scoped>\n",
       "    .dataframe tbody tr th:only-of-type {\n",
       "        vertical-align: middle;\n",
       "    }\n",
       "\n",
       "    .dataframe tbody tr th {\n",
       "        vertical-align: top;\n",
       "    }\n",
       "\n",
       "    .dataframe thead th {\n",
       "        text-align: right;\n",
       "    }\n",
       "</style>\n",
       "<table border=\"1\" class=\"dataframe\">\n",
       "  <thead>\n",
       "    <tr style=\"text-align: right;\">\n",
       "      <th></th>\n",
       "      <th>date</th>\n",
       "      <th>net_sales_total</th>\n",
       "    </tr>\n",
       "  </thead>\n",
       "  <tbody>\n",
       "    <tr>\n",
       "      <th>0</th>\n",
       "      <td>2014-01-31</td>\n",
       "      <td>9914.85</td>\n",
       "    </tr>\n",
       "    <tr>\n",
       "      <th>1</th>\n",
       "      <td>2014-02-28</td>\n",
       "      <td>8793.66</td>\n",
       "    </tr>\n",
       "    <tr>\n",
       "      <th>2</th>\n",
       "      <td>2014-03-31</td>\n",
       "      <td>12689.12</td>\n",
       "    </tr>\n",
       "    <tr>\n",
       "      <th>3</th>\n",
       "      <td>2014-04-30</td>\n",
       "      <td>12420.60</td>\n",
       "    </tr>\n",
       "    <tr>\n",
       "      <th>4</th>\n",
       "      <td>2014-05-31</td>\n",
       "      <td>11825.02</td>\n",
       "    </tr>\n",
       "  </tbody>\n",
       "</table>\n",
       "</div>"
      ],
      "text/plain": [
       "         date  net_sales_total\n",
       "0  2014-01-31          9914.85\n",
       "1  2014-02-28          8793.66\n",
       "2  2014-03-31         12689.12\n",
       "3  2014-04-30         12420.60\n",
       "4  2014-05-31         11825.02"
      ]
     },
     "execution_count": 29,
     "metadata": {},
     "output_type": "execute_result"
    }
   ],
   "source": [
    "df = df[[\"date\", \"net_sales_total\"]]\n",
    "df = df.drop_duplicates()\n",
    "df.head()"
   ]
  },
  {
   "cell_type": "code",
   "execution_count": 30,
   "metadata": {},
   "outputs": [
    {
     "data": {
      "text/plain": [
       "date               0\n",
       "net_sales_total    0\n",
       "dtype: int64"
      ]
     },
     "execution_count": 30,
     "metadata": {},
     "output_type": "execute_result"
    }
   ],
   "source": [
    "df.isna().sum()"
   ]
  },
  {
   "cell_type": "markdown",
   "metadata": {},
   "source": [
    "# Box-Jenkins Framework\n",
    "The Box-Jenkins method is a statistical technique used for time series analysis and forecasting. The approach starts with the assumption that the process that generated the time series can be approximated using an ARMA model if it is stationary or an ARIMA model if it is non-stationary.\n",
    "\n",
    "The Box-Jenkins method applies autoregressive moving average (ARMA) or autoregressive integrated moving average (ARIMA) models to find the best fit of a time-series model to past values of a time series2. The model can analyze several different types of time series data for forecasting purposes.\n",
    "\n",
    "## ARIMA Model Pipeline\n",
    "Autoregressive Integrated Moving Average (ARIMA) Model\n",
    "\n",
    "* autoregressive models: AR(p)\n",
    "* moving average models: MA(q)\n",
    "* mixed autoregressive moving average models: ARMA(p, q)\n",
    "* integration models: ARIMA(p, d, q)\n",
    "### Stationary Test\n",
    "What is stationary Data ?\n",
    "Stationary data refers to time series data that mean and variance do not vary across time. The data is considered non-stationary if there is a strong trend or seasonality observed from the data.\n",
    "\n",
    "* **Why we need stationary Data for ARIMA Model**  \n",
    "ARIMA models rely on the assumption that the time series being modeled is stationary. Therefore that assumption needs to hold if you want to use these models. The ARIMA model uses differenced data to make the data stationary, which means there’s a consistency of the data over time. This function removes the effect of trends or seasonality, such as market or economic data. We make the data stationary only in case of ARIMA because the ARIMA model looks at the past data to predict future values."
   ]
  },
  {
   "cell_type": "code",
   "execution_count": 31,
   "metadata": {},
   "outputs": [],
   "source": [
    "def adfuller_test(values):\n",
    "    result = adfuller(values)\n",
    "    labels = [\n",
    "        \"ADF Test Statistic\",\n",
    "        \"p-value\",\n",
    "        \"#Lags Used\",\n",
    "        \"Number of Observations Used\",\n",
    "    ]\n",
    "    for value, label in zip(result, labels):\n",
    "        print(label + \" : \" + str(value))\n",
    "    if result[1] <= 0.05:\n",
    "        print(\n",
    "            \"P value is less than 0.05 that means we can reject the null hypothesis(Ho). Therefore we can conclude that data has no unit root and is stationary\"\n",
    "        )\n",
    "    else:\n",
    "        print(\n",
    "            \"Weak evidence against null hypothesis that means time series has a unit root which indicates that it is non-stationary \"\n",
    "        )"
   ]
  },
  {
   "cell_type": "code",
   "execution_count": 32,
   "metadata": {},
   "outputs": [
    {
     "name": "stdout",
     "output_type": "stream",
     "text": [
      "ADF Test Statistic : -0.5945418906256462\n",
      "p-value : 0.8722105724767181\n",
      "#Lags Used : 13\n",
      "Number of Observations Used : 94\n",
      "Weak evidence against null hypothesis that means time series has a unit root which indicates that it is non-stationary \n"
     ]
    }
   ],
   "source": [
    "adfuller_test(df[\"net_sales_total\"])"
   ]
  },
  {
   "cell_type": "code",
   "execution_count": 33,
   "metadata": {},
   "outputs": [
    {
     "name": "stdout",
     "output_type": "stream",
     "text": [
      "ADF Test Statistic : -4.015772404893064\n",
      "p-value : 0.0013301372561128658\n",
      "#Lags Used : 12\n",
      "Number of Observations Used : 94\n",
      "P value is less than 0.05 that means we can reject the null hypothesis(Ho). Therefore we can conclude that data has no unit root and is stationary\n"
     ]
    }
   ],
   "source": [
    "adfuller_test(df[\"net_sales_total\"].diff(1).iloc[1:])"
   ]
  },
  {
   "cell_type": "markdown",
   "metadata": {},
   "source": [
    "## Spliting Data into Training & Testing Data"
   ]
  },
  {
   "cell_type": "code",
   "execution_count": 34,
   "metadata": {},
   "outputs": [
    {
     "data": {
      "image/png": "[encoded data removed]",
      "text/plain": [
       "<Figure size 1800x600 with 1 Axes>"
      ]
     },
     "metadata": {},
     "output_type": "display_data"
    }
   ],
   "source": [
    "from darts import TimeSeries\n",
    "import numpy as np\n",
    "import matplotlib.pyplot as plt\n",
    "\n",
    "# Assuming df is your DataFrame containing daily data\n",
    "series = TimeSeries.from_dataframe(\n",
    "    df, \"date\", \"net_sales_total\", freq=\"1M\", fill_missing_dates=True, fillna_value=0\n",
    ")\n",
    "\n",
    "\n",
    "split_point = 0.80\n",
    "\n",
    "train_series, test_series = series.split_after(split_point)\n",
    "\n",
    "# Set the figure size and style\n",
    "plt.figure(figsize=(18, 6))\n",
    "# Plot the training and testing data\n",
    "train_series.plot(label=\"Training Data\", color=\"blue\", linewidth=1.5, marker=\"o\")\n",
    "test_series.plot(label=\"Testing Data\", color=\"orange\", linewidth=1.5, marker=\"o\")\n",
    "\n",
    "# Add title and labels\n",
    "plt.title(\"Training and Testing Data\")\n",
    "plt.xlabel(\"Date\")\n",
    "plt.ylabel(\"net_sales_total\")\n",
    "\n",
    "# Add grid lines\n",
    "plt.grid(True)\n",
    "\n",
    "# Add legend\n",
    "plt.legend()\n",
    "\n",
    "# Display the plot\n",
    "plt.show()"
   ]
  },
  {
   "cell_type": "markdown",
   "metadata": {},
   "source": [
    "## Inspect Seasonality"
   ]
  },
  {
   "cell_type": "code",
   "execution_count": 35,
   "metadata": {},
   "outputs": [
    {
     "name": "stdout",
     "output_type": "stream",
     "text": [
      "There is seasonality of order 6.\n",
      "There is seasonality of order 12.\n",
      "There is seasonality of order 15.\n",
      "There is seasonality of order 18.\n"
     ]
    }
   ],
   "source": [
    "from darts.utils.statistics import plot_acf, check_seasonality\n",
    "\n",
    "for m in range(2, 25):\n",
    "    is_seasonal, period = check_seasonality(train_series, m=m, alpha=0.05)\n",
    "    if is_seasonal:\n",
    "        print(\"There is seasonality of order {}.\".format(period))"
   ]
  },
  {
   "cell_type": "markdown",
   "metadata": {},
   "source": [
    "## Auto Correlation plot\n",
    "The autocorrelation function (ACF) is used to identify the order of ARIMA models. The ACF plot shows the correlation between the time series and its lagged version. The lag at which the ACF plot crosses the upper confidence interval for the first time is considered as the order of the **MA** component of the ARIMA model. Similarly, if the ACF plot decays slowly, it indicates that there is a high degree of autocorrelation in the time series, which means that an AR component should be included in the ARIMA model."
   ]
  },
  {
   "cell_type": "code",
   "execution_count": 36,
   "metadata": {},
   "outputs": [
    {
     "data": {
      "image/png": "[encoded data removed]",
      "text/plain": [
       "<Figure size 1000x500 with 1 Axes>"
      ]
     },
     "metadata": {},
     "output_type": "display_data"
    }
   ],
   "source": [
    "from darts.utils.statistics import plot_acf, plot_pacf\n",
    "\n",
    "\n",
    "plot_acf(\n",
    "    train_series, m=12, max_lag=30, fig_size=(10, 5), axis=None, default_formatting=True\n",
    ")\n",
    "plt.xlabel(\"lags\")\n",
    "plt.ylabel(\"correlation\")\n",
    "plt.title(\"Auto Correlation Plot\")\n",
    "plt.show()"
   ]
  },
  {
   "cell_type": "markdown",
   "metadata": {},
   "source": [
    "## Partial Auto Correlation plot\n",
    "The partial autocorrelation function (PACF) is also used to identify the order of ARIMA models. The PACF plot shows the correlation between the time series and its lagged version, but with the influence of the intermediate lags removed. The lag at which the PACF plot crosses the upper confidence interval for the first time is considered as the order of the **AR** component of the ARIMA model."
   ]
  },
  {
   "cell_type": "code",
   "execution_count": 37,
   "metadata": {},
   "outputs": [
    {
     "data": {
      "image/png": "[encoded data removed]",
      "text/plain": [
       "<Figure size 1000x500 with 1 Axes>"
      ]
     },
     "metadata": {},
     "output_type": "display_data"
    }
   ],
   "source": [
    "from darts.utils.statistics import plot_acf, plot_pacf\n",
    "\n",
    "plot_pacf(\n",
    "    train_series, m=12, max_lag=40, fig_size=(10, 5), axis=None, default_formatting=True\n",
    ")\n",
    "\n",
    "plt.xlabel(\"lags\")\n",
    "plt.ylabel(\"correlation\")\n",
    "plt.title(\"Partial Auto Correlation Plot\")\n",
    "plt.show()"
   ]
  },
  {
   "cell_type": "markdown",
   "metadata": {},
   "source": [
    "# Model Fitting"
   ]
  },
  {
   "cell_type": "markdown",
   "metadata": {},
   "source": [
    "## ARIMA Model Fitting"
   ]
  },
  {
   "cell_type": "code",
   "execution_count": 38,
   "metadata": {},
   "outputs": [
    {
     "name": "stderr",
     "output_type": "stream",
     "text": [
      "/home/iffi/anaconda3/envs/darts/lib/python3.11/site-packages/statsmodels/tsa/statespace/sarimax.py:978: UserWarning: Non-invertible starting MA parameters found. Using zeros as starting parameters.\n",
      "  warn('Non-invertible starting MA parameters found.'\n",
      "/home/iffi/anaconda3/envs/darts/lib/python3.11/site-packages/statsmodels/base/model.py:607: ConvergenceWarning: Maximum Likelihood optimization failed to converge. Check mle_retvals\n",
      "  warnings.warn(\"Maximum Likelihood optimization failed to \"\n"
     ]
    },
    {
     "data": {
      "text/html": [
       "<table class=\"simpletable\">\n",
       "<caption>SARIMAX Results</caption>\n",
       "<tr>\n",
       "  <th>Dep. Variable:</th>           <td>y</td>        <th>  No. Observations:  </th>    <td>86</td>   \n",
       "</tr>\n",
       "<tr>\n",
       "  <th>Model:</th>           <td>ARIMA(12, 1, 12)</td> <th>  Log Likelihood     </th> <td>-784.228</td>\n",
       "</tr>\n",
       "<tr>\n",
       "  <th>Date:</th>            <td>Fri, 15 Sep 2023</td> <th>  AIC                </th> <td>1630.456</td>\n",
       "</tr>\n",
       "<tr>\n",
       "  <th>Time:</th>                <td>21:30:51</td>     <th>  BIC                </th> <td>1706.178</td>\n",
       "</tr>\n",
       "<tr>\n",
       "  <th>Sample:</th>                  <td>0</td>        <th>  HQIC               </th> <td>1660.913</td>\n",
       "</tr>\n",
       "<tr>\n",
       "  <th></th>                       <td> - 86</td>      <th>                     </th>     <td> </td>   \n",
       "</tr>\n",
       "<tr>\n",
       "  <th>Covariance Type:</th>        <td>opg</td>       <th>                     </th>     <td> </td>   \n",
       "</tr>\n",
       "</table>\n",
       "<table class=\"simpletable\">\n",
       "<tr>\n",
       "     <td></td>       <th>coef</th>     <th>std err</th>      <th>z</th>      <th>P>|z|</th>  <th>[0.025</th>    <th>0.975]</th>  \n",
       "</tr>\n",
       "<tr>\n",
       "  <th>x1</th>     <td> 4748.6318</td> <td>  984.993</td> <td>    4.821</td> <td> 0.000</td> <td> 2818.081</td> <td> 6679.183</td>\n",
       "</tr>\n",
       "<tr>\n",
       "  <th>x2</th>     <td>  559.2408</td> <td>  889.219</td> <td>    0.629</td> <td> 0.529</td> <td>-1183.596</td> <td> 2302.078</td>\n",
       "</tr>\n",
       "<tr>\n",
       "  <th>const</th>  <td> 7.522e-10</td> <td> 1.72e+05</td> <td> 4.38e-15</td> <td> 1.000</td> <td>-3.36e+05</td> <td> 3.36e+05</td>\n",
       "</tr>\n",
       "<tr>\n",
       "  <th>x3</th>     <td>  -56.8731</td> <td> 1033.904</td> <td>   -0.055</td> <td> 0.956</td> <td>-2083.288</td> <td> 1969.542</td>\n",
       "</tr>\n",
       "<tr>\n",
       "  <th>x4</th>     <td> 1.525e+05</td> <td> 2.29e+04</td> <td>    6.652</td> <td> 0.000</td> <td> 1.08e+05</td> <td> 1.97e+05</td>\n",
       "</tr>\n",
       "<tr>\n",
       "  <th>x5</th>     <td>-1.455e+05</td> <td> 2.06e+04</td> <td>   -7.063</td> <td> 0.000</td> <td>-1.86e+05</td> <td>-1.05e+05</td>\n",
       "</tr>\n",
       "<tr>\n",
       "  <th>ar.L1</th>  <td>   -0.8613</td> <td>   10.035</td> <td>   -0.086</td> <td> 0.932</td> <td>  -20.529</td> <td>   18.806</td>\n",
       "</tr>\n",
       "<tr>\n",
       "  <th>ar.L2</th>  <td>   -0.7410</td> <td>   17.841</td> <td>   -0.042</td> <td> 0.967</td> <td>  -35.708</td> <td>   34.226</td>\n",
       "</tr>\n",
       "<tr>\n",
       "  <th>ar.L3</th>  <td>   -0.3877</td> <td>   23.874</td> <td>   -0.016</td> <td> 0.987</td> <td>  -47.180</td> <td>   46.404</td>\n",
       "</tr>\n",
       "<tr>\n",
       "  <th>ar.L4</th>  <td>   -0.5524</td> <td>   25.899</td> <td>   -0.021</td> <td> 0.983</td> <td>  -51.313</td> <td>   50.208</td>\n",
       "</tr>\n",
       "<tr>\n",
       "  <th>ar.L5</th>  <td>   -0.2452</td> <td>   29.308</td> <td>   -0.008</td> <td> 0.993</td> <td>  -57.688</td> <td>   57.197</td>\n",
       "</tr>\n",
       "<tr>\n",
       "  <th>ar.L6</th>  <td>    0.2335</td> <td>   29.407</td> <td>    0.008</td> <td> 0.994</td> <td>  -57.403</td> <td>   57.870</td>\n",
       "</tr>\n",
       "<tr>\n",
       "  <th>ar.L7</th>  <td>    0.3600</td> <td>   24.688</td> <td>    0.015</td> <td> 0.988</td> <td>  -48.028</td> <td>   48.748</td>\n",
       "</tr>\n",
       "<tr>\n",
       "  <th>ar.L8</th>  <td>    0.1607</td> <td>   19.247</td> <td>    0.008</td> <td> 0.993</td> <td>  -37.563</td> <td>   37.884</td>\n",
       "</tr>\n",
       "<tr>\n",
       "  <th>ar.L9</th>  <td>    0.4166</td> <td>   16.197</td> <td>    0.026</td> <td> 0.979</td> <td>  -31.328</td> <td>   32.161</td>\n",
       "</tr>\n",
       "<tr>\n",
       "  <th>ar.L10</th> <td>    0.5511</td> <td>   10.895</td> <td>    0.051</td> <td> 0.960</td> <td>  -20.804</td> <td>   21.906</td>\n",
       "</tr>\n",
       "<tr>\n",
       "  <th>ar.L11</th> <td>    0.4378</td> <td>    4.739</td> <td>    0.092</td> <td> 0.926</td> <td>   -8.851</td> <td>    9.727</td>\n",
       "</tr>\n",
       "<tr>\n",
       "  <th>ar.L12</th> <td>    0.0255</td> <td>    0.363</td> <td>    0.070</td> <td> 0.944</td> <td>   -0.687</td> <td>    0.738</td>\n",
       "</tr>\n",
       "<tr>\n",
       "  <th>ma.L1</th>  <td>    0.2379</td> <td>    9.745</td> <td>    0.024</td> <td> 0.981</td> <td>  -18.863</td> <td>   19.338</td>\n",
       "</tr>\n",
       "<tr>\n",
       "  <th>ma.L2</th>  <td>    0.0996</td> <td>   12.364</td> <td>    0.008</td> <td> 0.994</td> <td>  -24.133</td> <td>   24.332</td>\n",
       "</tr>\n",
       "<tr>\n",
       "  <th>ma.L3</th>  <td>   -0.2286</td> <td>   11.980</td> <td>   -0.019</td> <td> 0.985</td> <td>  -23.709</td> <td>   23.252</td>\n",
       "</tr>\n",
       "<tr>\n",
       "  <th>ma.L4</th>  <td>    0.2461</td> <td>    8.897</td> <td>    0.028</td> <td> 0.978</td> <td>  -17.191</td> <td>   17.683</td>\n",
       "</tr>\n",
       "<tr>\n",
       "  <th>ma.L5</th>  <td>   -0.1394</td> <td>   10.175</td> <td>   -0.014</td> <td> 0.989</td> <td>  -20.083</td> <td>   19.804</td>\n",
       "</tr>\n",
       "<tr>\n",
       "  <th>ma.L6</th>  <td>   -0.3538</td> <td>    8.072</td> <td>   -0.044</td> <td> 0.965</td> <td>  -16.175</td> <td>   15.467</td>\n",
       "</tr>\n",
       "<tr>\n",
       "  <th>ma.L7</th>  <td>   -0.2480</td> <td>    5.363</td> <td>   -0.046</td> <td> 0.963</td> <td>  -10.759</td> <td>   10.263</td>\n",
       "</tr>\n",
       "<tr>\n",
       "  <th>ma.L8</th>  <td>    0.0291</td> <td>    1.820</td> <td>    0.016</td> <td> 0.987</td> <td>   -3.539</td> <td>    3.597</td>\n",
       "</tr>\n",
       "<tr>\n",
       "  <th>ma.L9</th>  <td>   -0.5636</td> <td>    1.608</td> <td>   -0.351</td> <td> 0.726</td> <td>   -3.714</td> <td>    2.587</td>\n",
       "</tr>\n",
       "<tr>\n",
       "  <th>ma.L10</th> <td>   -0.2615</td> <td>    5.293</td> <td>   -0.049</td> <td> 0.961</td> <td>  -10.635</td> <td>   10.112</td>\n",
       "</tr>\n",
       "<tr>\n",
       "  <th>ma.L11</th> <td>   -0.1859</td> <td>    6.350</td> <td>   -0.029</td> <td> 0.977</td> <td>  -12.632</td> <td>   12.260</td>\n",
       "</tr>\n",
       "<tr>\n",
       "  <th>ma.L12</th> <td>    0.7200</td> <td>    7.773</td> <td>    0.093</td> <td> 0.926</td> <td>  -14.515</td> <td>   15.955</td>\n",
       "</tr>\n",
       "<tr>\n",
       "  <th>sigma2</th> <td>  5.59e+06</td> <td>  166.901</td> <td> 3.35e+04</td> <td> 0.000</td> <td> 5.59e+06</td> <td> 5.59e+06</td>\n",
       "</tr>\n",
       "</table>\n",
       "<table class=\"simpletable\">\n",
       "<tr>\n",
       "  <th>Ljung-Box (L1) (Q):</th>     <td>0.05</td> <th>  Jarque-Bera (JB):  </th> <td>16.97</td>\n",
       "</tr>\n",
       "<tr>\n",
       "  <th>Prob(Q):</th>                <td>0.82</td> <th>  Prob(JB):          </th> <td>0.00</td> \n",
       "</tr>\n",
       "<tr>\n",
       "  <th>Heteroskedasticity (H):</th> <td>0.81</td> <th>  Skew:              </th> <td>0.49</td> \n",
       "</tr>\n",
       "<tr>\n",
       "  <th>Prob(H) (two-sided):</th>    <td>0.58</td> <th>  Kurtosis:          </th> <td>4.96</td> \n",
       "</tr>\n",
       "</table><br/><br/>Warnings:<br/>[1] Covariance matrix calculated using the outer product of gradients (complex-step).<br/>[2] Covariance matrix is singular or near-singular, with condition number 7.59e+21. Standard errors may be unstable."
      ],
      "text/latex": [
       "\\begin{center}\n",
       "\\begin{tabular}{lclc}\n",
       "\\toprule\n",
       "\\textbf{Dep. Variable:}          &        y         & \\textbf{  No. Observations:  } &     86      \\\\\n",
       "\\textbf{Model:}                  & ARIMA(12, 1, 12) & \\textbf{  Log Likelihood     } &  -784.228   \\\\\n",
       "\\textbf{Date:}                   & Fri, 15 Sep 2023 & \\textbf{  AIC                } &  1630.456   \\\\\n",
       "\\textbf{Time:}                   &     21:30:51     & \\textbf{  BIC                } &  1706.178   \\\\\n",
       "\\textbf{Sample:}                 &        0         & \\textbf{  HQIC               } &  1660.913   \\\\\n",
       "\\textbf{}                        &       - 86       & \\textbf{                     } &             \\\\\n",
       "\\textbf{Covariance Type:}        &       opg        & \\textbf{                     } &             \\\\\n",
       "\\bottomrule\n",
       "\\end{tabular}\n",
       "\\begin{tabular}{lcccccc}\n",
       "                & \\textbf{coef} & \\textbf{std err} & \\textbf{z} & \\textbf{P$> |$z$|$} & \\textbf{[0.025} & \\textbf{0.975]}  \\\\\n",
       "\\midrule\n",
       "\\textbf{x1}     &    4748.6318  &      984.993     &     4.821  &         0.000        &     2818.081    &     6679.183     \\\\\n",
       "\\textbf{x2}     &     559.2408  &      889.219     &     0.629  &         0.529        &    -1183.596    &     2302.078     \\\\\n",
       "\\textbf{const}  &    7.522e-10  &     1.72e+05     &  4.38e-15  &         1.000        &    -3.36e+05    &     3.36e+05     \\\\\n",
       "\\textbf{x3}     &     -56.8731  &     1033.904     &    -0.055  &         0.956        &    -2083.288    &     1969.542     \\\\\n",
       "\\textbf{x4}     &    1.525e+05  &     2.29e+04     &     6.652  &         0.000        &     1.08e+05    &     1.97e+05     \\\\\n",
       "\\textbf{x5}     &   -1.455e+05  &     2.06e+04     &    -7.063  &         0.000        &    -1.86e+05    &    -1.05e+05     \\\\\n",
       "\\textbf{ar.L1}  &      -0.8613  &       10.035     &    -0.086  &         0.932        &      -20.529    &       18.806     \\\\\n",
       "\\textbf{ar.L2}  &      -0.7410  &       17.841     &    -0.042  &         0.967        &      -35.708    &       34.226     \\\\\n",
       "\\textbf{ar.L3}  &      -0.3877  &       23.874     &    -0.016  &         0.987        &      -47.180    &       46.404     \\\\\n",
       "\\textbf{ar.L4}  &      -0.5524  &       25.899     &    -0.021  &         0.983        &      -51.313    &       50.208     \\\\\n",
       "\\textbf{ar.L5}  &      -0.2452  &       29.308     &    -0.008  &         0.993        &      -57.688    &       57.197     \\\\\n",
       "\\textbf{ar.L6}  &       0.2335  &       29.407     &     0.008  &         0.994        &      -57.403    &       57.870     \\\\\n",
       "\\textbf{ar.L7}  &       0.3600  &       24.688     &     0.015  &         0.988        &      -48.028    &       48.748     \\\\\n",
       "\\textbf{ar.L8}  &       0.1607  &       19.247     &     0.008  &         0.993        &      -37.563    &       37.884     \\\\\n",
       "\\textbf{ar.L9}  &       0.4166  &       16.197     &     0.026  &         0.979        &      -31.328    &       32.161     \\\\\n",
       "\\textbf{ar.L10} &       0.5511  &       10.895     &     0.051  &         0.960        &      -20.804    &       21.906     \\\\\n",
       "\\textbf{ar.L11} &       0.4378  &        4.739     &     0.092  &         0.926        &       -8.851    &        9.727     \\\\\n",
       "\\textbf{ar.L12} &       0.0255  &        0.363     &     0.070  &         0.944        &       -0.687    &        0.738     \\\\\n",
       "\\textbf{ma.L1}  &       0.2379  &        9.745     &     0.024  &         0.981        &      -18.863    &       19.338     \\\\\n",
       "\\textbf{ma.L2}  &       0.0996  &       12.364     &     0.008  &         0.994        &      -24.133    &       24.332     \\\\\n",
       "\\textbf{ma.L3}  &      -0.2286  &       11.980     &    -0.019  &         0.985        &      -23.709    &       23.252     \\\\\n",
       "\\textbf{ma.L4}  &       0.2461  &        8.897     &     0.028  &         0.978        &      -17.191    &       17.683     \\\\\n",
       "\\textbf{ma.L5}  &      -0.1394  &       10.175     &    -0.014  &         0.989        &      -20.083    &       19.804     \\\\\n",
       "\\textbf{ma.L6}  &      -0.3538  &        8.072     &    -0.044  &         0.965        &      -16.175    &       15.467     \\\\\n",
       "\\textbf{ma.L7}  &      -0.2480  &        5.363     &    -0.046  &         0.963        &      -10.759    &       10.263     \\\\\n",
       "\\textbf{ma.L8}  &       0.0291  &        1.820     &     0.016  &         0.987        &       -3.539    &        3.597     \\\\\n",
       "\\textbf{ma.L9}  &      -0.5636  &        1.608     &    -0.351  &         0.726        &       -3.714    &        2.587     \\\\\n",
       "\\textbf{ma.L10} &      -0.2615  &        5.293     &    -0.049  &         0.961        &      -10.635    &       10.112     \\\\\n",
       "\\textbf{ma.L11} &      -0.1859  &        6.350     &    -0.029  &         0.977        &      -12.632    &       12.260     \\\\\n",
       "\\textbf{ma.L12} &       0.7200  &        7.773     &     0.093  &         0.926        &      -14.515    &       15.955     \\\\\n",
       "\\textbf{sigma2} &     5.59e+06  &      166.901     &  3.35e+04  &         0.000        &     5.59e+06    &     5.59e+06     \\\\\n",
       "\\bottomrule\n",
       "\\end{tabular}\n",
       "\\begin{tabular}{lclc}\n",
       "\\textbf{Ljung-Box (L1) (Q):}     & 0.05 & \\textbf{  Jarque-Bera (JB):  } & 16.97  \\\\\n",
       "\\textbf{Prob(Q):}                & 0.82 & \\textbf{  Prob(JB):          } &  0.00  \\\\\n",
       "\\textbf{Heteroskedasticity (H):} & 0.81 & \\textbf{  Skew:              } &  0.49  \\\\\n",
       "\\textbf{Prob(H) (two-sided):}    & 0.58 & \\textbf{  Kurtosis:          } &  4.96  \\\\\n",
       "\\bottomrule\n",
       "\\end{tabular}\n",
       "%\\caption{SARIMAX Results}\n",
       "\\end{center}\n",
       "\n",
       "Warnings: \\newline\n",
       " [1] Covariance matrix calculated using the outer product of gradients (complex-step). \\newline\n",
       " [2] Covariance matrix is singular or near-singular, with condition number 7.59e+21. Standard errors may be unstable."
      ],
      "text/plain": [
       "<class 'statsmodels.iolib.summary.Summary'>\n",
       "\"\"\"\n",
       "                               SARIMAX Results                                \n",
       "==============================================================================\n",
       "Dep. Variable:                      y   No. Observations:                   86\n",
       "Model:               ARIMA(12, 1, 12)   Log Likelihood                -784.228\n",
       "Date:                Fri, 15 Sep 2023   AIC                           1630.456\n",
       "Time:                        21:30:51   BIC                           1706.178\n",
       "Sample:                             0   HQIC                          1660.913\n",
       "                                 - 86                                         \n",
       "Covariance Type:                  opg                                         \n",
       "==============================================================================\n",
       "                 coef    std err          z      P>|z|      [0.025      0.975]\n",
       "------------------------------------------------------------------------------\n",
       "x1          4748.6318    984.993      4.821      0.000    2818.081    6679.183\n",
       "x2           559.2408    889.219      0.629      0.529   -1183.596    2302.078\n",
       "const       7.522e-10   1.72e+05   4.38e-15      1.000   -3.36e+05    3.36e+05\n",
       "x3           -56.8731   1033.904     -0.055      0.956   -2083.288    1969.542\n",
       "x4          1.525e+05   2.29e+04      6.652      0.000    1.08e+05    1.97e+05\n",
       "x5         -1.455e+05   2.06e+04     -7.063      0.000   -1.86e+05   -1.05e+05\n",
       "ar.L1         -0.8613     10.035     -0.086      0.932     -20.529      18.806\n",
       "ar.L2         -0.7410     17.841     -0.042      0.967     -35.708      34.226\n",
       "ar.L3         -0.3877     23.874     -0.016      0.987     -47.180      46.404\n",
       "ar.L4         -0.5524     25.899     -0.021      0.983     -51.313      50.208\n",
       "ar.L5         -0.2452     29.308     -0.008      0.993     -57.688      57.197\n",
       "ar.L6          0.2335     29.407      0.008      0.994     -57.403      57.870\n",
       "ar.L7          0.3600     24.688      0.015      0.988     -48.028      48.748\n",
       "ar.L8          0.1607     19.247      0.008      0.993     -37.563      37.884\n",
       "ar.L9          0.4166     16.197      0.026      0.979     -31.328      32.161\n",
       "ar.L10         0.5511     10.895      0.051      0.960     -20.804      21.906\n",
       "ar.L11         0.4378      4.739      0.092      0.926      -8.851       9.727\n",
       "ar.L12         0.0255      0.363      0.070      0.944      -0.687       0.738\n",
       "ma.L1          0.2379      9.745      0.024      0.981     -18.863      19.338\n",
       "ma.L2          0.0996     12.364      0.008      0.994     -24.133      24.332\n",
       "ma.L3         -0.2286     11.980     -0.019      0.985     -23.709      23.252\n",
       "ma.L4          0.2461      8.897      0.028      0.978     -17.191      17.683\n",
       "ma.L5         -0.1394     10.175     -0.014      0.989     -20.083      19.804\n",
       "ma.L6         -0.3538      8.072     -0.044      0.965     -16.175      15.467\n",
       "ma.L7         -0.2480      5.363     -0.046      0.963     -10.759      10.263\n",
       "ma.L8          0.0291      1.820      0.016      0.987      -3.539       3.597\n",
       "ma.L9         -0.5636      1.608     -0.351      0.726      -3.714       2.587\n",
       "ma.L10        -0.2615      5.293     -0.049      0.961     -10.635      10.112\n",
       "ma.L11        -0.1859      6.350     -0.029      0.977     -12.632      12.260\n",
       "ma.L12         0.7200      7.773      0.093      0.926     -14.515      15.955\n",
       "sigma2       5.59e+06    166.901   3.35e+04      0.000    5.59e+06    5.59e+06\n",
       "===================================================================================\n",
       "Ljung-Box (L1) (Q):                   0.05   Jarque-Bera (JB):                16.97\n",
       "Prob(Q):                              0.82   Prob(JB):                         0.00\n",
       "Heteroskedasticity (H):               0.81   Skew:                             0.49\n",
       "Prob(H) (two-sided):                  0.58   Kurtosis:                         4.96\n",
       "===================================================================================\n",
       "\n",
       "Warnings:\n",
       "[1] Covariance matrix calculated using the outer product of gradients (complex-step).\n",
       "[2] Covariance matrix is singular or near-singular, with condition number 7.59e+21. Standard errors may be unstable.\n",
       "\"\"\""
      ]
     },
     "execution_count": 38,
     "metadata": {},
     "output_type": "execute_result"
    }
   ],
   "source": [
    "from darts.dataprocessing.transformers.scaler import Scaler\n",
    "\n",
    "arima_model = ARIMA(\n",
    "    p=12,\n",
    "    d=1,\n",
    "    q=12,\n",
    "    trend=None,\n",
    "    random_state=1999,\n",
    "    add_encoders={\n",
    "        \"cyclic\": {\"future\": [\"month\"]},\n",
    "        \"datetime_attribute\": {\"future\": [\"hour\", \"dayofweek\"]},\n",
    "        \"position\": {\"future\": [\"relative\"]},\n",
    "        \"custom\": {\"future\": [lambda idx: (idx.year - 1950) / 50]},\n",
    "        \"transformer\": Scaler(),\n",
    "    },\n",
    ")\n",
    "\n",
    "arima_model.fit(train_series)\n",
    "arima_model.model.summary()"
   ]
  },
  {
   "cell_type": "code",
   "execution_count": 39,
   "metadata": {},
   "outputs": [
    {
     "ename": "FileNotFoundError",
     "evalue": "[Errno 2] No such file or directory: '../ProcessedData/Results/ARIMA/highcorrelated_features/ARIMA_Plots/utilized_all.png'",
     "output_type": "error",
     "traceback": [
      "\u001b[0;31m---------------------------------------------------------------------------\u001b[0m",
      "\u001b[0;31mFileNotFoundError\u001b[0m                         Traceback (most recent call last)",
      "\u001b[1;32m/media/iffi/SSD-E1/SalesForecasting/Notebooks/2-ARIMA.ipynb Cell 24\u001b[0m line \u001b[0;36m2\n\u001b[1;32m     <a href='vscode-notebook-cell:/media/iffi/SSD-E1/SalesForecasting/Notebooks/2-ARIMA.ipynb#X32sZmlsZQ%3D%3D?line=19'>20</a>\u001b[0m plt\u001b[39m.\u001b[39mlegend()\n\u001b[1;32m     <a href='vscode-notebook-cell:/media/iffi/SSD-E1/SalesForecasting/Notebooks/2-ARIMA.ipynb#X32sZmlsZQ%3D%3D?line=21'>22</a>\u001b[0m \u001b[39m# Display the plot\u001b[39;00m\n\u001b[0;32m---> <a href='vscode-notebook-cell:/media/iffi/SSD-E1/SalesForecasting/Notebooks/2-ARIMA.ipynb#X32sZmlsZQ%3D%3D?line=22'>23</a>\u001b[0m plt\u001b[39m.\u001b[39;49msavefig(\n\u001b[1;32m     <a href='vscode-notebook-cell:/media/iffi/SSD-E1/SalesForecasting/Notebooks/2-ARIMA.ipynb#X32sZmlsZQ%3D%3D?line=23'>24</a>\u001b[0m     \u001b[39mf\u001b[39;49m\u001b[39m\"\u001b[39;49m\u001b[39m../ProcessedData/Results/ARIMA/highcorrelated_features/ARIMA_Plots/utilized_all.png\u001b[39;49m\u001b[39m\"\u001b[39;49m\n\u001b[1;32m     <a href='vscode-notebook-cell:/media/iffi/SSD-E1/SalesForecasting/Notebooks/2-ARIMA.ipynb#X32sZmlsZQ%3D%3D?line=24'>25</a>\u001b[0m )\n\u001b[1;32m     <a href='vscode-notebook-cell:/media/iffi/SSD-E1/SalesForecasting/Notebooks/2-ARIMA.ipynb#X32sZmlsZQ%3D%3D?line=25'>26</a>\u001b[0m plt\u001b[39m.\u001b[39mshow()\n",
      "File \u001b[0;32m~/anaconda3/envs/darts/lib/python3.11/site-packages/matplotlib/pyplot.py:1023\u001b[0m, in \u001b[0;36msavefig\u001b[0;34m(*args, **kwargs)\u001b[0m\n\u001b[1;32m   1020\u001b[0m \u001b[39m@_copy_docstring_and_deprecators\u001b[39m(Figure\u001b[39m.\u001b[39msavefig)\n\u001b[1;32m   1021\u001b[0m \u001b[39mdef\u001b[39;00m \u001b[39msavefig\u001b[39m(\u001b[39m*\u001b[39margs, \u001b[39m*\u001b[39m\u001b[39m*\u001b[39mkwargs):\n\u001b[1;32m   1022\u001b[0m     fig \u001b[39m=\u001b[39m gcf()\n\u001b[0;32m-> 1023\u001b[0m     res \u001b[39m=\u001b[39m fig\u001b[39m.\u001b[39;49msavefig(\u001b[39m*\u001b[39;49margs, \u001b[39m*\u001b[39;49m\u001b[39m*\u001b[39;49mkwargs)\n\u001b[1;32m   1024\u001b[0m     fig\u001b[39m.\u001b[39mcanvas\u001b[39m.\u001b[39mdraw_idle()  \u001b[39m# Need this if 'transparent=True', to reset colors.\u001b[39;00m\n\u001b[1;32m   1025\u001b[0m     \u001b[39mreturn\u001b[39;00m res\n",
      "File \u001b[0;32m~/anaconda3/envs/darts/lib/python3.11/site-packages/matplotlib/figure.py:3378\u001b[0m, in \u001b[0;36mFigure.savefig\u001b[0;34m(self, fname, transparent, **kwargs)\u001b[0m\n\u001b[1;32m   3374\u001b[0m     \u001b[39mfor\u001b[39;00m ax \u001b[39min\u001b[39;00m \u001b[39mself\u001b[39m\u001b[39m.\u001b[39maxes:\n\u001b[1;32m   3375\u001b[0m         stack\u001b[39m.\u001b[39menter_context(\n\u001b[1;32m   3376\u001b[0m             ax\u001b[39m.\u001b[39mpatch\u001b[39m.\u001b[39m_cm_set(facecolor\u001b[39m=\u001b[39m\u001b[39m'\u001b[39m\u001b[39mnone\u001b[39m\u001b[39m'\u001b[39m, edgecolor\u001b[39m=\u001b[39m\u001b[39m'\u001b[39m\u001b[39mnone\u001b[39m\u001b[39m'\u001b[39m))\n\u001b[0;32m-> 3378\u001b[0m \u001b[39mself\u001b[39;49m\u001b[39m.\u001b[39;49mcanvas\u001b[39m.\u001b[39;49mprint_figure(fname, \u001b[39m*\u001b[39;49m\u001b[39m*\u001b[39;49mkwargs)\n",
      "File \u001b[0;32m~/anaconda3/envs/darts/lib/python3.11/site-packages/matplotlib/backend_bases.py:2366\u001b[0m, in \u001b[0;36mFigureCanvasBase.print_figure\u001b[0;34m(self, filename, dpi, facecolor, edgecolor, orientation, format, bbox_inches, pad_inches, bbox_extra_artists, backend, **kwargs)\u001b[0m\n\u001b[1;32m   2362\u001b[0m \u001b[39mtry\u001b[39;00m:\n\u001b[1;32m   2363\u001b[0m     \u001b[39m# _get_renderer may change the figure dpi (as vector formats\u001b[39;00m\n\u001b[1;32m   2364\u001b[0m     \u001b[39m# force the figure dpi to 72), so we need to set it again here.\u001b[39;00m\n\u001b[1;32m   2365\u001b[0m     \u001b[39mwith\u001b[39;00m cbook\u001b[39m.\u001b[39m_setattr_cm(\u001b[39mself\u001b[39m\u001b[39m.\u001b[39mfigure, dpi\u001b[39m=\u001b[39mdpi):\n\u001b[0;32m-> 2366\u001b[0m         result \u001b[39m=\u001b[39m print_method(\n\u001b[1;32m   2367\u001b[0m             filename,\n\u001b[1;32m   2368\u001b[0m             facecolor\u001b[39m=\u001b[39;49mfacecolor,\n\u001b[1;32m   2369\u001b[0m             edgecolor\u001b[39m=\u001b[39;49medgecolor,\n\u001b[1;32m   2370\u001b[0m             orientation\u001b[39m=\u001b[39;49morientation,\n\u001b[1;32m   2371\u001b[0m             bbox_inches_restore\u001b[39m=\u001b[39;49m_bbox_inches_restore,\n\u001b[1;32m   2372\u001b[0m             \u001b[39m*\u001b[39;49m\u001b[39m*\u001b[39;49mkwargs)\n\u001b[1;32m   2373\u001b[0m \u001b[39mfinally\u001b[39;00m:\n\u001b[1;32m   2374\u001b[0m     \u001b[39mif\u001b[39;00m bbox_inches \u001b[39mand\u001b[39;00m restore_bbox:\n",
      "File \u001b[0;32m~/anaconda3/envs/darts/lib/python3.11/site-packages/matplotlib/backend_bases.py:2232\u001b[0m, in \u001b[0;36mFigureCanvasBase._switch_canvas_and_return_print_method.<locals>.<lambda>\u001b[0;34m(*args, **kwargs)\u001b[0m\n\u001b[1;32m   2228\u001b[0m     optional_kws \u001b[39m=\u001b[39m {  \u001b[39m# Passed by print_figure for other renderers.\u001b[39;00m\n\u001b[1;32m   2229\u001b[0m         \u001b[39m\"\u001b[39m\u001b[39mdpi\u001b[39m\u001b[39m\"\u001b[39m, \u001b[39m\"\u001b[39m\u001b[39mfacecolor\u001b[39m\u001b[39m\"\u001b[39m, \u001b[39m\"\u001b[39m\u001b[39medgecolor\u001b[39m\u001b[39m\"\u001b[39m, \u001b[39m\"\u001b[39m\u001b[39morientation\u001b[39m\u001b[39m\"\u001b[39m,\n\u001b[1;32m   2230\u001b[0m         \u001b[39m\"\u001b[39m\u001b[39mbbox_inches_restore\u001b[39m\u001b[39m\"\u001b[39m}\n\u001b[1;32m   2231\u001b[0m     skip \u001b[39m=\u001b[39m optional_kws \u001b[39m-\u001b[39m {\u001b[39m*\u001b[39minspect\u001b[39m.\u001b[39msignature(meth)\u001b[39m.\u001b[39mparameters}\n\u001b[0;32m-> 2232\u001b[0m     print_method \u001b[39m=\u001b[39m functools\u001b[39m.\u001b[39mwraps(meth)(\u001b[39mlambda\u001b[39;00m \u001b[39m*\u001b[39margs, \u001b[39m*\u001b[39m\u001b[39m*\u001b[39mkwargs: meth(\n\u001b[1;32m   2233\u001b[0m         \u001b[39m*\u001b[39;49margs, \u001b[39m*\u001b[39;49m\u001b[39m*\u001b[39;49m{k: v \u001b[39mfor\u001b[39;49;00m k, v \u001b[39min\u001b[39;49;00m kwargs\u001b[39m.\u001b[39;49mitems() \u001b[39mif\u001b[39;49;00m k \u001b[39mnot\u001b[39;49;00m \u001b[39min\u001b[39;49;00m skip}))\n\u001b[1;32m   2234\u001b[0m \u001b[39melse\u001b[39;00m:  \u001b[39m# Let third-parties do as they see fit.\u001b[39;00m\n\u001b[1;32m   2235\u001b[0m     print_method \u001b[39m=\u001b[39m meth\n",
      "File \u001b[0;32m~/anaconda3/envs/darts/lib/python3.11/site-packages/matplotlib/backends/backend_agg.py:509\u001b[0m, in \u001b[0;36mFigureCanvasAgg.print_png\u001b[0;34m(self, filename_or_obj, metadata, pil_kwargs)\u001b[0m\n\u001b[1;32m    462\u001b[0m \u001b[39mdef\u001b[39;00m \u001b[39mprint_png\u001b[39m(\u001b[39mself\u001b[39m, filename_or_obj, \u001b[39m*\u001b[39m, metadata\u001b[39m=\u001b[39m\u001b[39mNone\u001b[39;00m, pil_kwargs\u001b[39m=\u001b[39m\u001b[39mNone\u001b[39;00m):\n\u001b[1;32m    463\u001b[0m \u001b[39m    \u001b[39m\u001b[39m\"\"\"\u001b[39;00m\n\u001b[1;32m    464\u001b[0m \u001b[39m    Write the figure to a PNG file.\u001b[39;00m\n\u001b[1;32m    465\u001b[0m \n\u001b[0;32m   (...)\u001b[0m\n\u001b[1;32m    507\u001b[0m \u001b[39m        *metadata*, including the default 'Software' key.\u001b[39;00m\n\u001b[1;32m    508\u001b[0m \u001b[39m    \"\"\"\u001b[39;00m\n\u001b[0;32m--> 509\u001b[0m     \u001b[39mself\u001b[39;49m\u001b[39m.\u001b[39;49m_print_pil(filename_or_obj, \u001b[39m\"\u001b[39;49m\u001b[39mpng\u001b[39;49m\u001b[39m\"\u001b[39;49m, pil_kwargs, metadata)\n",
      "File \u001b[0;32m~/anaconda3/envs/darts/lib/python3.11/site-packages/matplotlib/backends/backend_agg.py:458\u001b[0m, in \u001b[0;36mFigureCanvasAgg._print_pil\u001b[0;34m(self, filename_or_obj, fmt, pil_kwargs, metadata)\u001b[0m\n\u001b[1;32m    453\u001b[0m \u001b[39m\u001b[39m\u001b[39m\"\"\"\u001b[39;00m\n\u001b[1;32m    454\u001b[0m \u001b[39mDraw the canvas, then save it using `.image.imsave` (to which\u001b[39;00m\n\u001b[1;32m    455\u001b[0m \u001b[39m*pil_kwargs* and *metadata* are forwarded).\u001b[39;00m\n\u001b[1;32m    456\u001b[0m \u001b[39m\"\"\"\u001b[39;00m\n\u001b[1;32m    457\u001b[0m FigureCanvasAgg\u001b[39m.\u001b[39mdraw(\u001b[39mself\u001b[39m)\n\u001b[0;32m--> 458\u001b[0m mpl\u001b[39m.\u001b[39;49mimage\u001b[39m.\u001b[39;49mimsave(\n\u001b[1;32m    459\u001b[0m     filename_or_obj, \u001b[39mself\u001b[39;49m\u001b[39m.\u001b[39;49mbuffer_rgba(), \u001b[39mformat\u001b[39;49m\u001b[39m=\u001b[39;49mfmt, origin\u001b[39m=\u001b[39;49m\u001b[39m\"\u001b[39;49m\u001b[39mupper\u001b[39;49m\u001b[39m\"\u001b[39;49m,\n\u001b[1;32m    460\u001b[0m     dpi\u001b[39m=\u001b[39;49m\u001b[39mself\u001b[39;49m\u001b[39m.\u001b[39;49mfigure\u001b[39m.\u001b[39;49mdpi, metadata\u001b[39m=\u001b[39;49mmetadata, pil_kwargs\u001b[39m=\u001b[39;49mpil_kwargs)\n",
      "File \u001b[0;32m~/anaconda3/envs/darts/lib/python3.11/site-packages/matplotlib/image.py:1689\u001b[0m, in \u001b[0;36mimsave\u001b[0;34m(fname, arr, vmin, vmax, cmap, format, origin, dpi, metadata, pil_kwargs)\u001b[0m\n\u001b[1;32m   1687\u001b[0m pil_kwargs\u001b[39m.\u001b[39msetdefault(\u001b[39m\"\u001b[39m\u001b[39mformat\u001b[39m\u001b[39m\"\u001b[39m, \u001b[39mformat\u001b[39m)\n\u001b[1;32m   1688\u001b[0m pil_kwargs\u001b[39m.\u001b[39msetdefault(\u001b[39m\"\u001b[39m\u001b[39mdpi\u001b[39m\u001b[39m\"\u001b[39m, (dpi, dpi))\n\u001b[0;32m-> 1689\u001b[0m image\u001b[39m.\u001b[39;49msave(fname, \u001b[39m*\u001b[39;49m\u001b[39m*\u001b[39;49mpil_kwargs)\n",
      "File \u001b[0;32m~/anaconda3/envs/darts/lib/python3.11/site-packages/PIL/Image.py:2429\u001b[0m, in \u001b[0;36mImage.save\u001b[0;34m(self, fp, format, **params)\u001b[0m\n\u001b[1;32m   2427\u001b[0m         fp \u001b[39m=\u001b[39m builtins\u001b[39m.\u001b[39mopen(filename, \u001b[39m\"\u001b[39m\u001b[39mr+b\u001b[39m\u001b[39m\"\u001b[39m)\n\u001b[1;32m   2428\u001b[0m     \u001b[39melse\u001b[39;00m:\n\u001b[0;32m-> 2429\u001b[0m         fp \u001b[39m=\u001b[39m builtins\u001b[39m.\u001b[39mopen(filename, \u001b[39m\"\u001b[39m\u001b[39mw+b\u001b[39m\u001b[39m\"\u001b[39m)\n\u001b[1;32m   2431\u001b[0m \u001b[39mtry\u001b[39;00m:\n\u001b[1;32m   2432\u001b[0m     save_handler(\u001b[39mself\u001b[39m, fp, filename)\n",
      "\u001b[0;31mFileNotFoundError\u001b[0m: [Errno 2] No such file or directory: '../ProcessedData/Results/ARIMA/highcorrelated_features/ARIMA_Plots/utilized_all.png'"
     ]
    },
    {
     "data": {
      "image/png": "[encoded data removed]",
      "text/plain": [
       "<Figure size 1800x600 with 1 Axes>"
      ]
     },
     "metadata": {},
     "output_type": "display_data"
    }
   ],
   "source": [
    "horizan = 18\n",
    "test_series_ = test_series[0:horizan]\n",
    "plt.figure(figsize=(18, 6))\n",
    "\n",
    "forcast_arima = arima_model.predict(horizan)\n",
    "arima_model.predict(horizan).plot(marker=\"o\", label=\"predicted\")\n",
    "test_series_.plot(marker=\"o\", label=\"Actual/Ground truth\")\n",
    "# Add title and labels\n",
    "plt.title(\"Ground truth vs predicted\")\n",
    "plt.xlabel(\"Date\")\n",
    "plt.ylabel(\"net_sales_total\")\n",
    "plt.xticks(\n",
    "    forcast_arima.time_index, forcast_arima.time_index.strftime(\"%Y-%m-%d\"), rotation=90\n",
    ")\n",
    "\n",
    "# Add grid lines\n",
    "plt.grid(True)\n",
    "\n",
    "# Add legend\n",
    "plt.legend()\n",
    "\n",
    "# Display the plot\n",
    "plt.savefig(\n",
    "    f\"../ProcessedData/Results/ARIMA/highcorrelated_features/ARIMA_Plots/utilized_all.png\"\n",
    ")\n",
    "plt.show()"
   ]
  },
  {
   "cell_type": "code",
   "execution_count": null,
   "metadata": {},
   "outputs": [],
   "source": [
    "import os\n",
    "import numpy as np\n",
    "import matplotlib.pyplot as plt\n",
    "import pandas as pd\n",
    "from tqdm import tqdm\n",
    "\n",
    "\n",
    "# Function to predict and evaluate\n",
    "def predict_and_evaluate(\n",
    "    window_size,\n",
    "    prediction_horizon,\n",
    "    slide_step,\n",
    "    test_series,\n",
    "    arima_model,\n",
    "    result_plot_path,\n",
    "):\n",
    "    num_predictions = len(test_series) - window_size - prediction_horizon + 1\n",
    "\n",
    "    meta_information_evaluation = {\n",
    "        \"Iterations\": [],\n",
    "        \"MAE\": [],\n",
    "        \"RMSE\": [],\n",
    "        \"MAPE\": [],\n",
    "        \"MSE\": [],\n",
    "        \"input_window_size\": [],\n",
    "        \"horizon\": [],\n",
    "        \"stride\": [],\n",
    "    }\n",
    "\n",
    "    try:\n",
    "        for i in tqdm(range(0, num_predictions, slide_step)):\n",
    "            input_window = test_series[i : i + window_size]\n",
    "            ground_truth = test_series[\n",
    "                i + window_size : i + window_size + prediction_horizon\n",
    "            ]\n",
    "            forecast = arima_model.predict(n=prediction_horizon, series=input_window)\n",
    "            actual = ground_truth.values().flatten().tolist()\n",
    "            predicted = forecast.values().flatten().tolist()\n",
    "            print(\"Predicted:\", predicted)\n",
    "            metrics = calculate_metrics(actual, predicted)\n",
    "\n",
    "            meta_information_evaluation[\"Iterations\"].append(i)\n",
    "            meta_information_evaluation[\"MAE\"].append(metrics[\"MAE\"])\n",
    "            meta_information_evaluation[\"RMSE\"].append(metrics[\"RMSE\"])\n",
    "            meta_information_evaluation[\"MAPE\"].append(metrics[\"MAPE\"])\n",
    "            meta_information_evaluation[\"MSE\"].append(metrics[\"MSE\"])\n",
    "            meta_information_evaluation[\"input_window_size\"].append(window_size)\n",
    "            meta_information_evaluation[\"horizon\"].append(prediction_horizon)\n",
    "            meta_information_evaluation[\"stride\"].append(slide_step)\n",
    "\n",
    "            bypass_information = {\n",
    "                \"slide_step\": slide_step,\n",
    "                \"window_size\": window_size,\n",
    "                \"horizon\": prediction_horizon,\n",
    "            }\n",
    "            create_plots(\n",
    "                input_window,\n",
    "                forecast,\n",
    "                ground_truth,\n",
    "                result_plot_path,\n",
    "                bypass_information,\n",
    "            )\n",
    "\n",
    "        evalaution_df = pd.DataFrame.from_dict(meta_information_evaluation)\n",
    "\n",
    "        return evalaution_df\n",
    "\n",
    "    except Exception as e:\n",
    "        print(\"Error Occurred in fuction predict_and_evaluate():\", e)\n",
    "        evalaution_df = pd.DataFrame.from_dict(meta_information_evaluation)\n",
    "\n",
    "        return evalaution_df\n",
    "\n",
    "\n",
    "# Function to create plots\n",
    "def create_plots(\n",
    "    input_window, forecast, ground_truth, result_plot_path, bypass_information\n",
    "):\n",
    "    plt.figure(figsize=(30, 6))\n",
    "    input_window.plot(label=\"Input Data\", marker=\"o\")\n",
    "    forecast.plot(label=\"Predicted\", marker=\"o\")\n",
    "    ground_truth.plot(label=\"Ground Truth\", marker=\"o\")\n",
    "\n",
    "    combined_time_index = input_window.time_index.append(forecast.time_index).append(\n",
    "        ground_truth.time_index\n",
    "    )\n",
    "    starting_date_of_input_data = input_window.time_index[0].strftime(\"%Y-%m-%d\")\n",
    "    ending_date_of_input_data = input_window.time_index[-1].strftime(\"%Y-%m-%d\")\n",
    "    starting_date_predicted = forecast.time_index[0].strftime(\"%Y-%m-%d\")\n",
    "    ending_date_of_predicted = forecast.time_index[-1].strftime(\"%Y-%m-%d\")\n",
    "\n",
    "    plt.xticks(\n",
    "        combined_time_index, combined_time_index.strftime(\"%Y-%m-%d\"), rotation=90\n",
    "    )\n",
    "    plt.title(\n",
    "        f\"Results of Input Data from {starting_date_of_input_data} to {ending_date_of_input_data} & Evaluation on from {starting_date_predicted} to {ending_date_of_predicted}\",\n",
    "        fontsize=16,\n",
    "    )\n",
    "    plt.ylabel(\"net_sales_total\", fontsize=14)\n",
    "    plt.xlabel(\"Dates\", fontsize=14)\n",
    "    plt.legend()\n",
    "\n",
    "    plot_filename = f\"{result_plot_path}/{bypass_information['window_size']}_{bypass_information['horizon']}_{bypass_information['slide_step']}.png\"\n",
    "    plt.savefig(plot_filename)\n",
    "    plt.close()\n",
    "    # plt.show()"
   ]
  },
  {
   "cell_type": "markdown",
   "metadata": {},
   "source": [
    "# Model Evaluation"
   ]
  },
  {
   "cell_type": "code",
   "execution_count": null,
   "metadata": {},
   "outputs": [],
   "source": [
    "def model_evaluation(model_name, model_object, test_series, FileName):\n",
    "    result_path = f\"../ProcessedData/Results/{model_name}/{FileName}\"\n",
    "    result_plot_path = (\n",
    "        f\"../ProcessedData/Results/{model_name}/{FileName}/{model_name}_Plots\"\n",
    "    )\n",
    "    os.makedirs(result_path, exist_ok=True)\n",
    "    os.makedirs(result_plot_path, exist_ok=True)\n",
    "\n",
    "    # Set your parameters\n",
    "    window_sizes = [6, 12, 18]\n",
    "    prediction_horizons = [6, 12, 18]\n",
    "    slide_steps = [2, 5, 8]\n",
    "\n",
    "    test_series = test_series\n",
    "    model = model_object\n",
    "\n",
    "    for window_size in window_sizes:\n",
    "        for prediction_horizon in prediction_horizons:\n",
    "            for slide_step in slide_steps:\n",
    "                print(\n",
    "                    f\"Iteration : Window size : {window_size} Horizan: {prediction_horizon}, Stride : {slide_step}\"\n",
    "                )\n",
    "                evaluation_df = predict_and_evaluate(\n",
    "                    window_size,\n",
    "                    prediction_horizon,\n",
    "                    slide_step,\n",
    "                    test_series,\n",
    "                    model,\n",
    "                    result_plot_path,\n",
    "                )\n",
    "                evaluation_df.to_csv(\n",
    "                    f\"{result_path}/window_size_{window_size}_horizon_{prediction_horizon}_stride_{slide_step}.csv\",\n",
    "                    index=False,\n",
    "                )\n",
    "\n",
    "                print(\n",
    "                    f\"Window_size_{window_size}_prediction_horizon_{prediction_horizon}_slide_step_{slide_step} - Evaluation completed.\"\n",
    "                )\n",
    "            #         break\n",
    "        #     break\n",
    "        # break"
   ]
  },
  {
   "cell_type": "markdown",
   "metadata": {},
   "source": [
    "##  ARIMA Model Evaluation"
   ]
  },
  {
   "cell_type": "code",
   "execution_count": null,
   "metadata": {},
   "outputs": [
    {
     "name": "stdout",
     "output_type": "stream",
     "text": [
      "Iteration : Window size : 6 Horizan: 6, Stride : 2\n"
     ]
    },
    {
     "name": "stderr",
     "output_type": "stream",
     "text": [
      "  0%|          | 0/6 [00:00<?, ?it/s]"
     ]
    },
    {
     "name": "stdout",
     "output_type": "stream",
     "text": [
      "Predicted: [23285.701374473065, 26457.233712060686, 31082.8397817964, 32877.298948370015, 17333.133570332095, 16108.80827204345]\n"
     ]
    },
    {
     "name": "stderr",
     "output_type": "stream",
     "text": [
      " 17%|█▋        | 1/6 [00:00<00:03,  1.46it/s]"
     ]
    },
    {
     "name": "stdout",
     "output_type": "stream",
     "text": [
      "Predicted: [30527.082936600807, 35491.62624901946, 18276.129042229048, 17808.65783645488, 21625.990825783687, 18784.25622423477]\n"
     ]
    },
    {
     "name": "stderr",
     "output_type": "stream",
     "text": [
      " 33%|███▎      | 2/6 [00:01<00:02,  1.61it/s]"
     ]
    },
    {
     "name": "stdout",
     "output_type": "stream",
     "text": [
      "Predicted: [19733.94025775145, 22817.358184697197, 23920.610982345723, 21330.903000660597, 24174.99426140503, 19315.398744428887]\n"
     ]
    },
    {
     "name": "stderr",
     "output_type": "stream",
     "text": [
      " 50%|█████     | 3/6 [00:01<00:01,  1.66it/s]"
     ]
    },
    {
     "name": "stdout",
     "output_type": "stream",
     "text": [
      "Predicted: [20360.960560085077, 23071.968077982383, 23653.20165167831, 19249.609569220385, 18934.27419479274, 13617.890950505403]\n"
     ]
    },
    {
     "name": "stderr",
     "output_type": "stream",
     "text": [
      " 67%|██████▋   | 4/6 [00:02<00:01,  1.58it/s]"
     ]
    },
    {
     "name": "stdout",
     "output_type": "stream",
     "text": [
      "Predicted: [22532.27206483135, 22903.260983159045, 20289.382255567223, 15493.969714176776, 19574.6748670452, 18622.58181560476]\n"
     ]
    },
    {
     "name": "stderr",
     "output_type": "stream",
     "text": [
      " 83%|████████▎ | 5/6 [00:03<00:00,  1.40it/s]"
     ]
    },
    {
     "name": "stdout",
     "output_type": "stream",
     "text": [
      "Predicted: [19656.351887879937, 20378.70253417448, 21860.514170286384, 20189.61147239044, 26706.02863803238, 24469.79957788842]\n"
     ]
    },
    {
     "name": "stderr",
     "output_type": "stream",
     "text": [
      "100%|██████████| 6/6 [00:03<00:00,  1.51it/s]\n"
     ]
    },
    {
     "name": "stdout",
     "output_type": "stream",
     "text": [
      "Window_size_6_prediction_horizon_6_slide_step_2 - Evaluation completed.\n",
      "Iteration : Window size : 6 Horizan: 6, Stride : 5\n"
     ]
    },
    {
     "name": "stderr",
     "output_type": "stream",
     "text": [
      "  0%|          | 0/3 [00:00<?, ?it/s]"
     ]
    },
    {
     "name": "stdout",
     "output_type": "stream",
     "text": [
      "Predicted: [23285.701374473065, 26457.233712060686, 31082.8397817964, 32877.298948370015, 17333.133570332095, 16108.80827204345]\n"
     ]
    },
    {
     "name": "stderr",
     "output_type": "stream",
     "text": [
      " 33%|███▎      | 1/3 [00:00<00:01,  1.64it/s]"
     ]
    },
    {
     "name": "stdout",
     "output_type": "stream",
     "text": [
      "Predicted: [20303.237010126115, 22759.549566583493, 24156.114857656314, 20754.191333927, 22498.964198935286, 15582.23236111016]\n"
     ]
    },
    {
     "name": "stderr",
     "output_type": "stream",
     "text": [
      " 67%|██████▋   | 2/3 [00:01<00:00,  1.71it/s]"
     ]
    },
    {
     "name": "stdout",
     "output_type": "stream",
     "text": [
      "Predicted: [19656.351887879937, 20378.70253417448, 21860.514170286384, 20189.61147239044, 26706.02863803238, 24469.79957788842]\n"
     ]
    },
    {
     "name": "stderr",
     "output_type": "stream",
     "text": [
      "100%|██████████| 3/3 [00:01<00:00,  1.74it/s]\n"
     ]
    },
    {
     "name": "stdout",
     "output_type": "stream",
     "text": [
      "Window_size_6_prediction_horizon_6_slide_step_5 - Evaluation completed.\n",
      "Iteration : Window size : 6 Horizan: 6, Stride : 8\n"
     ]
    },
    {
     "name": "stderr",
     "output_type": "stream",
     "text": [
      "  0%|          | 0/2 [00:00<?, ?it/s]"
     ]
    },
    {
     "name": "stdout",
     "output_type": "stream",
     "text": [
      "Predicted: [23285.701374473065, 26457.233712060686, 31082.8397817964, 32877.298948370015, 17333.133570332095, 16108.80827204345]\n"
     ]
    },
    {
     "name": "stderr",
     "output_type": "stream",
     "text": [
      " 50%|█████     | 1/2 [00:00<00:00,  1.84it/s]"
     ]
    },
    {
     "name": "stdout",
     "output_type": "stream",
     "text": [
      "Predicted: [22532.27206483135, 22903.260983159045, 20289.382255567223, 15493.969714176776, 19574.6748670452, 18622.58181560476]\n"
     ]
    },
    {
     "name": "stderr",
     "output_type": "stream",
     "text": [
      "100%|██████████| 2/2 [00:01<00:00,  1.86it/s]\n"
     ]
    },
    {
     "name": "stdout",
     "output_type": "stream",
     "text": [
      "Window_size_6_prediction_horizon_6_slide_step_8 - Evaluation completed.\n",
      "Iteration : Window size : 6 Horizan: 12, Stride : 2\n"
     ]
    },
    {
     "name": "stderr",
     "output_type": "stream",
     "text": [
      "  0%|          | 0/3 [00:00<?, ?it/s]"
     ]
    },
    {
     "name": "stdout",
     "output_type": "stream",
     "text": [
      "Predicted: [23285.701374473065, 26457.233712060686, 31082.8397817964, 32877.298948370015, 17333.1335703321, 16108.808272043443, 23152.494359697364, 22837.334617373337, 21600.58284775311, 23477.39168197092, 21612.601581108596, 21922.424858950857]\n"
     ]
    },
    {
     "name": "stderr",
     "output_type": "stream",
     "text": [
      " 33%|███▎      | 1/3 [00:00<00:01,  1.62it/s]"
     ]
    },
    {
     "name": "stdout",
     "output_type": "stream",
     "text": [
      "Predicted: [30527.082936600807, 35491.62624901946, 18276.129042229048, 17808.65783645488, 21625.990825783676, 18784.25622423477, 24664.471199157786, 23238.606422778732, 19122.47109509243, 22202.897404520292, 23239.50543680965, 26140.099350212717]\n"
     ]
    },
    {
     "name": "stderr",
     "output_type": "stream",
     "text": [
      " 67%|██████▋   | 2/3 [00:01<00:00,  1.65it/s]"
     ]
    },
    {
     "name": "stdout",
     "output_type": "stream",
     "text": [
      "Predicted: [19733.94025775145, 22817.358184697197, 23920.610982345723, 21330.903000660597, 24174.994261405027, 19315.398744428876, 24417.147600735647, 22739.015040279482, 19656.653647500247, 27804.66525281884, 30150.392106021583, 36369.094621788005]\n"
     ]
    },
    {
     "name": "stderr",
     "output_type": "stream",
     "text": [
      "100%|██████████| 3/3 [00:01<00:00,  1.63it/s]\n"
     ]
    },
    {
     "name": "stdout",
     "output_type": "stream",
     "text": [
      "Window_size_6_prediction_horizon_12_slide_step_2 - Evaluation completed.\n",
      "Iteration : Window size : 6 Horizan: 12, Stride : 5\n"
     ]
    },
    {
     "name": "stderr",
     "output_type": "stream",
     "text": [
      "  0%|          | 0/1 [00:00<?, ?it/s]"
     ]
    },
    {
     "name": "stdout",
     "output_type": "stream",
     "text": [
      "Predicted: [23285.701374473065, 26457.233712060686, 31082.8397817964, 32877.298948370015, 17333.1335703321, 16108.808272043443, 23152.494359697364, 22837.334617373337, 21600.58284775311, 23477.39168197092, 21612.601581108596, 21922.424858950857]\n"
     ]
    },
    {
     "name": "stderr",
     "output_type": "stream",
     "text": [
      "100%|██████████| 1/1 [00:00<00:00,  1.45it/s]\n"
     ]
    },
    {
     "name": "stdout",
     "output_type": "stream",
     "text": [
      "Window_size_6_prediction_horizon_12_slide_step_5 - Evaluation completed.\n",
      "Iteration : Window size : 6 Horizan: 12, Stride : 8\n"
     ]
    },
    {
     "name": "stderr",
     "output_type": "stream",
     "text": [
      "  0%|          | 0/1 [00:00<?, ?it/s]"
     ]
    },
    {
     "name": "stdout",
     "output_type": "stream",
     "text": [
      "Predicted: [23285.701374473065, 26457.233712060686, 31082.8397817964, 32877.298948370015, 17333.1335703321, 16108.808272043443, 23152.494359697364, 22837.334617373337, 21600.58284775311, 23477.39168197092, 21612.601581108596, 21922.424858950857]\n"
     ]
    },
    {
     "name": "stderr",
     "output_type": "stream",
     "text": [
      "100%|██████████| 1/1 [00:00<00:00,  1.50it/s]\n"
     ]
    },
    {
     "name": "stdout",
     "output_type": "stream",
     "text": [
      "Window_size_6_prediction_horizon_12_slide_step_8 - Evaluation completed.\n",
      "Iteration : Window size : 6 Horizan: 18, Stride : 2\n"
     ]
    },
    {
     "name": "stderr",
     "output_type": "stream",
     "text": [
      "0it [00:00, ?it/s]\n"
     ]
    },
    {
     "name": "stdout",
     "output_type": "stream",
     "text": [
      "Window_size_6_prediction_horizon_18_slide_step_2 - Evaluation completed.\n",
      "Iteration : Window size : 6 Horizan: 18, Stride : 5\n"
     ]
    },
    {
     "name": "stderr",
     "output_type": "stream",
     "text": [
      "0it [00:00, ?it/s]\n"
     ]
    },
    {
     "name": "stdout",
     "output_type": "stream",
     "text": [
      "Window_size_6_prediction_horizon_18_slide_step_5 - Evaluation completed.\n",
      "Iteration : Window size : 6 Horizan: 18, Stride : 8\n"
     ]
    },
    {
     "name": "stderr",
     "output_type": "stream",
     "text": [
      "0it [00:00, ?it/s]\n"
     ]
    },
    {
     "name": "stdout",
     "output_type": "stream",
     "text": [
      "Window_size_6_prediction_horizon_18_slide_step_8 - Evaluation completed.\n",
      "Iteration : Window size : 12 Horizan: 6, Stride : 2\n"
     ]
    },
    {
     "name": "stderr",
     "output_type": "stream",
     "text": [
      "  0%|          | 0/3 [00:00<?, ?it/s]"
     ]
    },
    {
     "name": "stdout",
     "output_type": "stream",
     "text": [
      "Predicted: [23463.457006001827, 23015.018448699244, 20778.058840734044, 25116.084799067565, 21578.43169225771, 21647.71979141031]\n"
     ]
    },
    {
     "name": "stderr",
     "output_type": "stream",
     "text": [
      " 33%|███▎      | 1/3 [00:00<00:01,  1.76it/s]"
     ]
    },
    {
     "name": "stdout",
     "output_type": "stream",
     "text": [
      "Predicted: [25992.433070950163, 23924.78796047064, 17085.430700641544, 21981.63924863874, 22929.24009157772, 27614.04132375918]\n"
     ]
    },
    {
     "name": "stderr",
     "output_type": "stream",
     "text": [
      " 67%|██████▋   | 2/3 [00:01<00:00,  1.75it/s]"
     ]
    },
    {
     "name": "stdout",
     "output_type": "stream",
     "text": [
      "Predicted: [23760.460951451423, 21273.1761571525, 17342.916402265128, 28503.152371534226, 30414.295116582565, 36387.95782758605]\n"
     ]
    },
    {
     "name": "stderr",
     "output_type": "stream",
     "text": [
      "100%|██████████| 3/3 [00:01<00:00,  1.76it/s]\n"
     ]
    },
    {
     "name": "stdout",
     "output_type": "stream",
     "text": [
      "Window_size_12_prediction_horizon_6_slide_step_2 - Evaluation completed.\n",
      "Iteration : Window size : 12 Horizan: 6, Stride : 5\n"
     ]
    },
    {
     "name": "stderr",
     "output_type": "stream",
     "text": [
      "  0%|          | 0/1 [00:00<?, ?it/s]"
     ]
    },
    {
     "name": "stdout",
     "output_type": "stream",
     "text": [
      "Predicted: [23463.457006001827, 23015.018448699244, 20778.058840734044, 25116.084799067565, 21578.43169225771, 21647.71979141031]\n"
     ]
    },
    {
     "name": "stderr",
     "output_type": "stream",
     "text": [
      "100%|██████████| 1/1 [00:00<00:00,  1.65it/s]\n"
     ]
    },
    {
     "name": "stdout",
     "output_type": "stream",
     "text": [
      "Window_size_12_prediction_horizon_6_slide_step_5 - Evaluation completed.\n",
      "Iteration : Window size : 12 Horizan: 6, Stride : 8\n"
     ]
    },
    {
     "name": "stderr",
     "output_type": "stream",
     "text": [
      "  0%|          | 0/1 [00:00<?, ?it/s]"
     ]
    },
    {
     "name": "stdout",
     "output_type": "stream",
     "text": [
      "Predicted: [23463.457006001827, 23015.018448699244, 20778.058840734044, 25116.084799067565, 21578.43169225771, 21647.71979141031]\n"
     ]
    },
    {
     "name": "stderr",
     "output_type": "stream",
     "text": [
      "100%|██████████| 1/1 [00:00<00:00,  1.77it/s]\n"
     ]
    },
    {
     "name": "stdout",
     "output_type": "stream",
     "text": [
      "Window_size_12_prediction_horizon_6_slide_step_8 - Evaluation completed.\n",
      "Iteration : Window size : 12 Horizan: 12, Stride : 2\n"
     ]
    },
    {
     "name": "stderr",
     "output_type": "stream",
     "text": [
      "0it [00:00, ?it/s]\n"
     ]
    },
    {
     "name": "stdout",
     "output_type": "stream",
     "text": [
      "Window_size_12_prediction_horizon_12_slide_step_2 - Evaluation completed.\n",
      "Iteration : Window size : 12 Horizan: 12, Stride : 5\n"
     ]
    },
    {
     "name": "stderr",
     "output_type": "stream",
     "text": [
      "0it [00:00, ?it/s]\n"
     ]
    },
    {
     "name": "stdout",
     "output_type": "stream",
     "text": [
      "Window_size_12_prediction_horizon_12_slide_step_5 - Evaluation completed.\n",
      "Iteration : Window size : 12 Horizan: 12, Stride : 8\n"
     ]
    },
    {
     "name": "stderr",
     "output_type": "stream",
     "text": [
      "0it [00:00, ?it/s]\n"
     ]
    },
    {
     "name": "stdout",
     "output_type": "stream",
     "text": [
      "Window_size_12_prediction_horizon_12_slide_step_8 - Evaluation completed.\n",
      "Iteration : Window size : 12 Horizan: 18, Stride : 2\n"
     ]
    },
    {
     "name": "stderr",
     "output_type": "stream",
     "text": [
      "0it [00:00, ?it/s]\n"
     ]
    },
    {
     "name": "stdout",
     "output_type": "stream",
     "text": [
      "Window_size_12_prediction_horizon_18_slide_step_2 - Evaluation completed.\n",
      "Iteration : Window size : 12 Horizan: 18, Stride : 5\n"
     ]
    },
    {
     "name": "stderr",
     "output_type": "stream",
     "text": [
      "0it [00:00, ?it/s]\n"
     ]
    },
    {
     "name": "stdout",
     "output_type": "stream",
     "text": [
      "Window_size_12_prediction_horizon_18_slide_step_5 - Evaluation completed.\n",
      "Iteration : Window size : 12 Horizan: 18, Stride : 8\n"
     ]
    },
    {
     "name": "stderr",
     "output_type": "stream",
     "text": [
      "0it [00:00, ?it/s]\n"
     ]
    },
    {
     "name": "stdout",
     "output_type": "stream",
     "text": [
      "Window_size_12_prediction_horizon_18_slide_step_8 - Evaluation completed.\n",
      "Iteration : Window size : 18 Horizan: 6, Stride : 2\n"
     ]
    },
    {
     "name": "stderr",
     "output_type": "stream",
     "text": [
      "0it [00:00, ?it/s]\n"
     ]
    },
    {
     "name": "stdout",
     "output_type": "stream",
     "text": [
      "Window_size_18_prediction_horizon_6_slide_step_2 - Evaluation completed.\n",
      "Iteration : Window size : 18 Horizan: 6, Stride : 5\n"
     ]
    },
    {
     "name": "stderr",
     "output_type": "stream",
     "text": [
      "0it [00:00, ?it/s]\n"
     ]
    },
    {
     "name": "stdout",
     "output_type": "stream",
     "text": [
      "Window_size_18_prediction_horizon_6_slide_step_5 - Evaluation completed.\n",
      "Iteration : Window size : 18 Horizan: 6, Stride : 8\n"
     ]
    },
    {
     "name": "stderr",
     "output_type": "stream",
     "text": [
      "0it [00:00, ?it/s]\n"
     ]
    },
    {
     "name": "stdout",
     "output_type": "stream",
     "text": [
      "Window_size_18_prediction_horizon_6_slide_step_8 - Evaluation completed.\n",
      "Iteration : Window size : 18 Horizan: 12, Stride : 2\n"
     ]
    },
    {
     "name": "stderr",
     "output_type": "stream",
     "text": [
      "0it [00:00, ?it/s]\n"
     ]
    },
    {
     "name": "stdout",
     "output_type": "stream",
     "text": [
      "Window_size_18_prediction_horizon_12_slide_step_2 - Evaluation completed.\n",
      "Iteration : Window size : 18 Horizan: 12, Stride : 5\n"
     ]
    },
    {
     "name": "stderr",
     "output_type": "stream",
     "text": [
      "0it [00:00, ?it/s]\n"
     ]
    },
    {
     "name": "stdout",
     "output_type": "stream",
     "text": [
      "Window_size_18_prediction_horizon_12_slide_step_5 - Evaluation completed.\n",
      "Iteration : Window size : 18 Horizan: 12, Stride : 8\n"
     ]
    },
    {
     "name": "stderr",
     "output_type": "stream",
     "text": [
      "0it [00:00, ?it/s]\n"
     ]
    },
    {
     "name": "stdout",
     "output_type": "stream",
     "text": [
      "Window_size_18_prediction_horizon_12_slide_step_8 - Evaluation completed.\n",
      "Iteration : Window size : 18 Horizan: 18, Stride : 2\n"
     ]
    },
    {
     "name": "stderr",
     "output_type": "stream",
     "text": [
      "0it [00:00, ?it/s]\n"
     ]
    },
    {
     "name": "stdout",
     "output_type": "stream",
     "text": [
      "Window_size_18_prediction_horizon_18_slide_step_2 - Evaluation completed.\n",
      "Iteration : Window size : 18 Horizan: 18, Stride : 5\n"
     ]
    },
    {
     "name": "stderr",
     "output_type": "stream",
     "text": [
      "0it [00:00, ?it/s]\n"
     ]
    },
    {
     "name": "stdout",
     "output_type": "stream",
     "text": [
      "Window_size_18_prediction_horizon_18_slide_step_5 - Evaluation completed.\n",
      "Iteration : Window size : 18 Horizan: 18, Stride : 8\n"
     ]
    },
    {
     "name": "stderr",
     "output_type": "stream",
     "text": [
      "0it [00:00, ?it/s]"
     ]
    },
    {
     "name": "stdout",
     "output_type": "stream",
     "text": [
      "Window_size_18_prediction_horizon_18_slide_step_8 - Evaluation completed.\n"
     ]
    },
    {
     "name": "stderr",
     "output_type": "stream",
     "text": [
      "\n"
     ]
    }
   ],
   "source": [
    "model_name = \"ARIMA\"\n",
    "FileName = fileName\n",
    "model_object = arima_model\n",
    "test_series = test_series\n",
    "model_evaluation(model_name, model_object, test_series, FileName)"
   ]
  },
  {
   "cell_type": "markdown",
   "metadata": {},
   "source": [
    "# Evaluate Metrics"
   ]
  },
  {
   "cell_type": "code",
   "execution_count": null,
   "metadata": {},
   "outputs": [
    {
     "data": {
      "text/html": [
       "<div>\n",
       "<style scoped>\n",
       "    .dataframe tbody tr th:only-of-type {\n",
       "        vertical-align: middle;\n",
       "    }\n",
       "\n",
       "    .dataframe tbody tr th {\n",
       "        vertical-align: top;\n",
       "    }\n",
       "\n",
       "    .dataframe thead th {\n",
       "        text-align: right;\n",
       "    }\n",
       "</style>\n",
       "<table border=\"1\" class=\"dataframe\">\n",
       "  <thead>\n",
       "    <tr style=\"text-align: right;\">\n",
       "      <th></th>\n",
       "      <th>window_size</th>\n",
       "      <th>horizan</th>\n",
       "      <th>stride</th>\n",
       "      <th>AVG_MAE</th>\n",
       "      <th>AVG_MSE</th>\n",
       "      <th>AVG_RMSE</th>\n",
       "      <th>AVG_MAPE</th>\n",
       "    </tr>\n",
       "  </thead>\n",
       "  <tbody>\n",
       "    <tr>\n",
       "      <th>34</th>\n",
       "      <td>12</td>\n",
       "      <td>6</td>\n",
       "      <td>10</td>\n",
       "      <td>2543.463886</td>\n",
       "      <td>7.610925e+06</td>\n",
       "      <td>2758.790520</td>\n",
       "      <td>11.335480</td>\n",
       "    </tr>\n",
       "    <tr>\n",
       "      <th>50</th>\n",
       "      <td>12</td>\n",
       "      <td>6</td>\n",
       "      <td>15</td>\n",
       "      <td>2543.463886</td>\n",
       "      <td>7.610925e+06</td>\n",
       "      <td>2758.790520</td>\n",
       "      <td>11.335480</td>\n",
       "    </tr>\n",
       "    <tr>\n",
       "      <th>70</th>\n",
       "      <td>12</td>\n",
       "      <td>6</td>\n",
       "      <td>2</td>\n",
       "      <td>3549.569636</td>\n",
       "      <td>1.767583e+07</td>\n",
       "      <td>3966.796653</td>\n",
       "      <td>13.649738</td>\n",
       "    </tr>\n",
       "    <tr>\n",
       "      <th>42</th>\n",
       "      <td>12</td>\n",
       "      <td>6</td>\n",
       "      <td>5</td>\n",
       "      <td>2543.463886</td>\n",
       "      <td>7.610925e+06</td>\n",
       "      <td>2758.790520</td>\n",
       "      <td>11.335480</td>\n",
       "    </tr>\n",
       "    <tr>\n",
       "      <th>1</th>\n",
       "      <td>12</td>\n",
       "      <td>6</td>\n",
       "      <td>8</td>\n",
       "      <td>2543.463886</td>\n",
       "      <td>7.610925e+06</td>\n",
       "      <td>2758.790520</td>\n",
       "      <td>11.335480</td>\n",
       "    </tr>\n",
       "    <tr>\n",
       "      <th>64</th>\n",
       "      <td>6</td>\n",
       "      <td>12</td>\n",
       "      <td>2</td>\n",
       "      <td>3050.721949</td>\n",
       "      <td>1.447635e+07</td>\n",
       "      <td>3717.312040</td>\n",
       "      <td>13.426705</td>\n",
       "    </tr>\n",
       "    <tr>\n",
       "      <th>29</th>\n",
       "      <td>6</td>\n",
       "      <td>12</td>\n",
       "      <td>5</td>\n",
       "      <td>2415.798525</td>\n",
       "      <td>1.070700e+07</td>\n",
       "      <td>3272.155274</td>\n",
       "      <td>10.022411</td>\n",
       "    </tr>\n",
       "    <tr>\n",
       "      <th>69</th>\n",
       "      <td>6</td>\n",
       "      <td>12</td>\n",
       "      <td>8</td>\n",
       "      <td>2415.798525</td>\n",
       "      <td>1.070700e+07</td>\n",
       "      <td>3272.155274</td>\n",
       "      <td>10.022411</td>\n",
       "    </tr>\n",
       "    <tr>\n",
       "      <th>49</th>\n",
       "      <td>6</td>\n",
       "      <td>6</td>\n",
       "      <td>2</td>\n",
       "      <td>4250.837346</td>\n",
       "      <td>3.517281e+07</td>\n",
       "      <td>5557.561640</td>\n",
       "      <td>17.213161</td>\n",
       "    </tr>\n",
       "    <tr>\n",
       "      <th>46</th>\n",
       "      <td>6</td>\n",
       "      <td>6</td>\n",
       "      <td>5</td>\n",
       "      <td>4552.401746</td>\n",
       "      <td>4.065282e+07</td>\n",
       "      <td>5742.408892</td>\n",
       "      <td>16.906025</td>\n",
       "    </tr>\n",
       "    <tr>\n",
       "      <th>18</th>\n",
       "      <td>6</td>\n",
       "      <td>6</td>\n",
       "      <td>8</td>\n",
       "      <td>3723.880180</td>\n",
       "      <td>2.840256e+07</td>\n",
       "      <td>5193.952206</td>\n",
       "      <td>14.256834</td>\n",
       "    </tr>\n",
       "  </tbody>\n",
       "</table>\n",
       "</div>"
      ],
      "text/plain": [
       "   window_size horizan stride      AVG_MAE       AVG_MSE     AVG_RMSE  \\\n",
       "34          12       6     10  2543.463886  7.610925e+06  2758.790520   \n",
       "50          12       6     15  2543.463886  7.610925e+06  2758.790520   \n",
       "70          12       6      2  3549.569636  1.767583e+07  3966.796653   \n",
       "42          12       6      5  2543.463886  7.610925e+06  2758.790520   \n",
       "1           12       6      8  2543.463886  7.610925e+06  2758.790520   \n",
       "64           6      12      2  3050.721949  1.447635e+07  3717.312040   \n",
       "29           6      12      5  2415.798525  1.070700e+07  3272.155274   \n",
       "69           6      12      8  2415.798525  1.070700e+07  3272.155274   \n",
       "49           6       6      2  4250.837346  3.517281e+07  5557.561640   \n",
       "46           6       6      5  4552.401746  4.065282e+07  5742.408892   \n",
       "18           6       6      8  3723.880180  2.840256e+07  5193.952206   \n",
       "\n",
       "     AVG_MAPE  \n",
       "34  11.335480  \n",
       "50  11.335480  \n",
       "70  13.649738  \n",
       "42  11.335480  \n",
       "1   11.335480  \n",
       "64  13.426705  \n",
       "29  10.022411  \n",
       "69  10.022411  \n",
       "49  17.213161  \n",
       "46  16.906025  \n",
       "18  14.256834  "
      ]
     },
     "execution_count": 25,
     "metadata": {},
     "output_type": "execute_result"
    }
   ],
   "source": [
    "import pandas as pd\n",
    "import glob\n",
    "\n",
    "\n",
    "def aggregate_evaluation_results(file_pattern):\n",
    "    eval_dict = {\n",
    "        \"window_size\": [],\n",
    "        \"horizan\": [],\n",
    "        \"stride\": [],\n",
    "        \"AVG_MAE\": [],\n",
    "        \"AVG_MSE\": [],\n",
    "        \"AVG_RMSE\": [],\n",
    "        \"AVG_MAPE\": [],\n",
    "    }\n",
    "\n",
    "    paths = glob.glob(file_pattern)\n",
    "\n",
    "    for path in paths:\n",
    "        # print(path)\n",
    "        window_size = path.split(\"/\")[-1].split(\"_\")[2]\n",
    "        horizan = path.split(\"/\")[-1].split(\"_\")[4]\n",
    "        stride = path.split(\"/\")[-1].split(\"_\")[6].split(\".\")[0]\n",
    "\n",
    "        df = pd.read_csv(path)\n",
    "\n",
    "        eval_dict[\"window_size\"].append(window_size)\n",
    "        eval_dict[\"horizan\"].append(horizan)\n",
    "        eval_dict[\"stride\"].append(stride)\n",
    "\n",
    "        eval_dict[\"AVG_MAE\"].append(df[\"MAE\"].mean())\n",
    "        eval_dict[\"AVG_MSE\"].append(df[\"MSE\"].mean())\n",
    "        eval_dict[\"AVG_RMSE\"].append(df[\"RMSE\"].mean())\n",
    "        eval_dict[\"AVG_MAPE\"].append(df[\"MAPE\"].mean())\n",
    "\n",
    "    eval_df = pd.DataFrame.from_dict(eval_dict)\n",
    "    eval_df = eval_df.dropna()\n",
    "    eval_df.sort_values(\n",
    "        [\"window_size\", \"horizan\", \"stride\"], inplace=True, ascending=True\n",
    "    )\n",
    "\n",
    "    return eval_df\n",
    "\n",
    "\n",
    "# Example usage\n",
    "file_pattern = f\"../ProcessedData/Results/ARIMA/{fileName}/*.csv\"\n",
    "result_df = aggregate_evaluation_results(file_pattern)\n",
    "# result_df = result_df[\n",
    "#     [\"window_size\", \"horizan\", \"stride\", \"AVG_MAE\", \"AVG_MSE\", \"AVG_RMSE\"]\n",
    "# ]\n",
    "result_df"
   ]
  },
  {
   "cell_type": "code",
   "execution_count": null,
   "metadata": {},
   "outputs": [
    {
     "data": {
      "text/plain": [
       "['window_size', 'horizan', 'stride', 'AVG_MAE', 'AVG_MSE', 'AVG_RMSE']"
      ]
     },
     "execution_count": 19,
     "metadata": {},
     "output_type": "execute_result"
    }
   ],
   "source": [
    "list(result_df)"
   ]
  },
  {
   "cell_type": "code",
   "execution_count": 21,
   "metadata": {},
   "outputs": [
    {
     "data": {
      "text/html": [
       "<div>\n",
       "<style scoped>\n",
       "    .dataframe tbody tr th:only-of-type {\n",
       "        vertical-align: middle;\n",
       "    }\n",
       "\n",
       "    .dataframe tbody tr th {\n",
       "        vertical-align: top;\n",
       "    }\n",
       "\n",
       "    .dataframe thead th {\n",
       "        text-align: right;\n",
       "    }\n",
       "</style>\n",
       "<table border=\"1\" class=\"dataframe\">\n",
       "  <thead>\n",
       "    <tr style=\"text-align: right;\">\n",
       "      <th></th>\n",
       "      <th>window_size</th>\n",
       "      <th>horizan</th>\n",
       "      <th>stride</th>\n",
       "      <th>AVG_MAE</th>\n",
       "      <th>AVG_MSE</th>\n",
       "      <th>AVG_RMSE</th>\n",
       "    </tr>\n",
       "  </thead>\n",
       "  <tbody>\n",
       "    <tr>\n",
       "      <th>5</th>\n",
       "      <td>30</td>\n",
       "      <td>15</td>\n",
       "      <td>10</td>\n",
       "      <td>15.037947</td>\n",
       "      <td>789.402475</td>\n",
       "      <td>22.080949</td>\n",
       "    </tr>\n",
       "    <tr>\n",
       "      <th>15</th>\n",
       "      <td>30</td>\n",
       "      <td>15</td>\n",
       "      <td>15</td>\n",
       "      <td>13.489363</td>\n",
       "      <td>631.330471</td>\n",
       "      <td>20.278487</td>\n",
       "    </tr>\n",
       "    <tr>\n",
       "      <th>23</th>\n",
       "      <td>30</td>\n",
       "      <td>15</td>\n",
       "      <td>5</td>\n",
       "      <td>14.523340</td>\n",
       "      <td>709.618812</td>\n",
       "      <td>21.365757</td>\n",
       "    </tr>\n",
       "    <tr>\n",
       "      <th>14</th>\n",
       "      <td>30</td>\n",
       "      <td>30</td>\n",
       "      <td>10</td>\n",
       "      <td>18.353296</td>\n",
       "      <td>1040.850665</td>\n",
       "      <td>26.438658</td>\n",
       "    </tr>\n",
       "    <tr>\n",
       "      <th>26</th>\n",
       "      <td>30</td>\n",
       "      <td>30</td>\n",
       "      <td>15</td>\n",
       "      <td>16.962681</td>\n",
       "      <td>904.838498</td>\n",
       "      <td>25.110198</td>\n",
       "    </tr>\n",
       "    <tr>\n",
       "      <th>10</th>\n",
       "      <td>30</td>\n",
       "      <td>30</td>\n",
       "      <td>5</td>\n",
       "      <td>17.940599</td>\n",
       "      <td>971.298462</td>\n",
       "      <td>25.847410</td>\n",
       "    </tr>\n",
       "    <tr>\n",
       "      <th>16</th>\n",
       "      <td>30</td>\n",
       "      <td>35</td>\n",
       "      <td>10</td>\n",
       "      <td>19.593409</td>\n",
       "      <td>1150.151343</td>\n",
       "      <td>27.771255</td>\n",
       "    </tr>\n",
       "    <tr>\n",
       "      <th>2</th>\n",
       "      <td>30</td>\n",
       "      <td>35</td>\n",
       "      <td>15</td>\n",
       "      <td>17.857009</td>\n",
       "      <td>967.418924</td>\n",
       "      <td>26.021316</td>\n",
       "    </tr>\n",
       "    <tr>\n",
       "      <th>3</th>\n",
       "      <td>30</td>\n",
       "      <td>35</td>\n",
       "      <td>5</td>\n",
       "      <td>19.072580</td>\n",
       "      <td>1061.769273</td>\n",
       "      <td>27.167792</td>\n",
       "    </tr>\n",
       "    <tr>\n",
       "      <th>8</th>\n",
       "      <td>45</td>\n",
       "      <td>15</td>\n",
       "      <td>10</td>\n",
       "      <td>14.099128</td>\n",
       "      <td>646.030707</td>\n",
       "      <td>20.743455</td>\n",
       "    </tr>\n",
       "    <tr>\n",
       "      <th>20</th>\n",
       "      <td>45</td>\n",
       "      <td>15</td>\n",
       "      <td>15</td>\n",
       "      <td>13.680710</td>\n",
       "      <td>647.435979</td>\n",
       "      <td>20.540705</td>\n",
       "    </tr>\n",
       "    <tr>\n",
       "      <th>18</th>\n",
       "      <td>45</td>\n",
       "      <td>15</td>\n",
       "      <td>5</td>\n",
       "      <td>14.528636</td>\n",
       "      <td>713.605299</td>\n",
       "      <td>21.171357</td>\n",
       "    </tr>\n",
       "    <tr>\n",
       "      <th>19</th>\n",
       "      <td>45</td>\n",
       "      <td>30</td>\n",
       "      <td>10</td>\n",
       "      <td>17.357449</td>\n",
       "      <td>897.980151</td>\n",
       "      <td>24.946752</td>\n",
       "    </tr>\n",
       "    <tr>\n",
       "      <th>11</th>\n",
       "      <td>45</td>\n",
       "      <td>30</td>\n",
       "      <td>15</td>\n",
       "      <td>16.792153</td>\n",
       "      <td>899.368653</td>\n",
       "      <td>24.817340</td>\n",
       "    </tr>\n",
       "    <tr>\n",
       "      <th>9</th>\n",
       "      <td>45</td>\n",
       "      <td>30</td>\n",
       "      <td>5</td>\n",
       "      <td>17.795366</td>\n",
       "      <td>968.404699</td>\n",
       "      <td>25.470509</td>\n",
       "    </tr>\n",
       "    <tr>\n",
       "      <th>4</th>\n",
       "      <td>45</td>\n",
       "      <td>35</td>\n",
       "      <td>10</td>\n",
       "      <td>18.362091</td>\n",
       "      <td>973.781350</td>\n",
       "      <td>26.330085</td>\n",
       "    </tr>\n",
       "    <tr>\n",
       "      <th>7</th>\n",
       "      <td>45</td>\n",
       "      <td>35</td>\n",
       "      <td>15</td>\n",
       "      <td>17.698690</td>\n",
       "      <td>966.301824</td>\n",
       "      <td>25.784215</td>\n",
       "    </tr>\n",
       "    <tr>\n",
       "      <th>13</th>\n",
       "      <td>45</td>\n",
       "      <td>35</td>\n",
       "      <td>5</td>\n",
       "      <td>18.923794</td>\n",
       "      <td>1065.279267</td>\n",
       "      <td>26.912764</td>\n",
       "    </tr>\n",
       "    <tr>\n",
       "      <th>12</th>\n",
       "      <td>90</td>\n",
       "      <td>15</td>\n",
       "      <td>10</td>\n",
       "      <td>15.725033</td>\n",
       "      <td>845.455838</td>\n",
       "      <td>22.185467</td>\n",
       "    </tr>\n",
       "    <tr>\n",
       "      <th>25</th>\n",
       "      <td>90</td>\n",
       "      <td>15</td>\n",
       "      <td>15</td>\n",
       "      <td>14.234027</td>\n",
       "      <td>669.513128</td>\n",
       "      <td>20.702042</td>\n",
       "    </tr>\n",
       "    <tr>\n",
       "      <th>24</th>\n",
       "      <td>90</td>\n",
       "      <td>15</td>\n",
       "      <td>5</td>\n",
       "      <td>15.136375</td>\n",
       "      <td>762.804120</td>\n",
       "      <td>21.715795</td>\n",
       "    </tr>\n",
       "    <tr>\n",
       "      <th>1</th>\n",
       "      <td>90</td>\n",
       "      <td>30</td>\n",
       "      <td>10</td>\n",
       "      <td>19.305237</td>\n",
       "      <td>1146.355733</td>\n",
       "      <td>27.263261</td>\n",
       "    </tr>\n",
       "    <tr>\n",
       "      <th>22</th>\n",
       "      <td>90</td>\n",
       "      <td>30</td>\n",
       "      <td>15</td>\n",
       "      <td>17.625344</td>\n",
       "      <td>974.471960</td>\n",
       "      <td>25.749411</td>\n",
       "    </tr>\n",
       "    <tr>\n",
       "      <th>17</th>\n",
       "      <td>90</td>\n",
       "      <td>30</td>\n",
       "      <td>5</td>\n",
       "      <td>18.837731</td>\n",
       "      <td>1071.892204</td>\n",
       "      <td>26.817739</td>\n",
       "    </tr>\n",
       "    <tr>\n",
       "      <th>0</th>\n",
       "      <td>90</td>\n",
       "      <td>35</td>\n",
       "      <td>10</td>\n",
       "      <td>20.703196</td>\n",
       "      <td>1285.338767</td>\n",
       "      <td>28.990219</td>\n",
       "    </tr>\n",
       "    <tr>\n",
       "      <th>6</th>\n",
       "      <td>90</td>\n",
       "      <td>35</td>\n",
       "      <td>15</td>\n",
       "      <td>18.449222</td>\n",
       "      <td>1042.854908</td>\n",
       "      <td>26.666015</td>\n",
       "    </tr>\n",
       "    <tr>\n",
       "      <th>21</th>\n",
       "      <td>90</td>\n",
       "      <td>35</td>\n",
       "      <td>5</td>\n",
       "      <td>20.019347</td>\n",
       "      <td>1181.212888</td>\n",
       "      <td>28.360803</td>\n",
       "    </tr>\n",
       "  </tbody>\n",
       "</table>\n",
       "</div>"
      ],
      "text/plain": [
       "   window_size horizan stride    AVG_MAE      AVG_MSE   AVG_RMSE\n",
       "5           30      15     10  15.037947   789.402475  22.080949\n",
       "15          30      15     15  13.489363   631.330471  20.278487\n",
       "23          30      15      5  14.523340   709.618812  21.365757\n",
       "14          30      30     10  18.353296  1040.850665  26.438658\n",
       "26          30      30     15  16.962681   904.838498  25.110198\n",
       "10          30      30      5  17.940599   971.298462  25.847410\n",
       "16          30      35     10  19.593409  1150.151343  27.771255\n",
       "2           30      35     15  17.857009   967.418924  26.021316\n",
       "3           30      35      5  19.072580  1061.769273  27.167792\n",
       "8           45      15     10  14.099128   646.030707  20.743455\n",
       "20          45      15     15  13.680710   647.435979  20.540705\n",
       "18          45      15      5  14.528636   713.605299  21.171357\n",
       "19          45      30     10  17.357449   897.980151  24.946752\n",
       "11          45      30     15  16.792153   899.368653  24.817340\n",
       "9           45      30      5  17.795366   968.404699  25.470509\n",
       "4           45      35     10  18.362091   973.781350  26.330085\n",
       "7           45      35     15  17.698690   966.301824  25.784215\n",
       "13          45      35      5  18.923794  1065.279267  26.912764\n",
       "12          90      15     10  15.725033   845.455838  22.185467\n",
       "25          90      15     15  14.234027   669.513128  20.702042\n",
       "24          90      15      5  15.136375   762.804120  21.715795\n",
       "1           90      30     10  19.305237  1146.355733  27.263261\n",
       "22          90      30     15  17.625344   974.471960  25.749411\n",
       "17          90      30      5  18.837731  1071.892204  26.817739\n",
       "0           90      35     10  20.703196  1285.338767  28.990219\n",
       "6           90      35     15  18.449222  1042.854908  26.666015\n",
       "21          90      35      5  20.019347  1181.212888  28.360803"
      ]
     },
     "execution_count": 21,
     "metadata": {},
     "output_type": "execute_result"
    }
   ],
   "source": [
    "result_df"
   ]
  },
  {
   "cell_type": "code",
   "execution_count": 20,
   "metadata": {},
   "outputs": [
    {
     "name": "stdout",
     "output_type": "stream",
     "text": [
      "('30', '15')\n"
     ]
    },
    {
     "data": {
      "text/html": [
       "<div>\n",
       "<style scoped>\n",
       "    .dataframe tbody tr th:only-of-type {\n",
       "        vertical-align: middle;\n",
       "    }\n",
       "\n",
       "    .dataframe tbody tr th {\n",
       "        vertical-align: top;\n",
       "    }\n",
       "\n",
       "    .dataframe thead th {\n",
       "        text-align: right;\n",
       "    }\n",
       "</style>\n",
       "<table border=\"1\" class=\"dataframe\">\n",
       "  <thead>\n",
       "    <tr style=\"text-align: right;\">\n",
       "      <th></th>\n",
       "      <th>window_size</th>\n",
       "      <th>horizan</th>\n",
       "      <th>stride</th>\n",
       "      <th>AVG_MAE</th>\n",
       "      <th>AVG_MSE</th>\n",
       "      <th>AVG_RMSE</th>\n",
       "    </tr>\n",
       "  </thead>\n",
       "  <tbody>\n",
       "    <tr>\n",
       "      <th>5</th>\n",
       "      <td>30</td>\n",
       "      <td>15</td>\n",
       "      <td>10</td>\n",
       "      <td>15.037947</td>\n",
       "      <td>789.402475</td>\n",
       "      <td>22.080949</td>\n",
       "    </tr>\n",
       "    <tr>\n",
       "      <th>15</th>\n",
       "      <td>30</td>\n",
       "      <td>15</td>\n",
       "      <td>15</td>\n",
       "      <td>13.489363</td>\n",
       "      <td>631.330471</td>\n",
       "      <td>20.278487</td>\n",
       "    </tr>\n",
       "    <tr>\n",
       "      <th>23</th>\n",
       "      <td>30</td>\n",
       "      <td>15</td>\n",
       "      <td>5</td>\n",
       "      <td>14.523340</td>\n",
       "      <td>709.618812</td>\n",
       "      <td>21.365757</td>\n",
       "    </tr>\n",
       "  </tbody>\n",
       "</table>\n",
       "</div>"
      ],
      "text/plain": [
       "   window_size horizan stride    AVG_MAE     AVG_MSE   AVG_RMSE\n",
       "5           30      15     10  15.037947  789.402475  22.080949\n",
       "15          30      15     15  13.489363  631.330471  20.278487\n",
       "23          30      15      5  14.523340  709.618812  21.365757"
      ]
     },
     "metadata": {},
     "output_type": "display_data"
    },
    {
     "name": "stdout",
     "output_type": "stream",
     "text": [
      "('30', '30')\n"
     ]
    },
    {
     "data": {
      "text/html": [
       "<div>\n",
       "<style scoped>\n",
       "    .dataframe tbody tr th:only-of-type {\n",
       "        vertical-align: middle;\n",
       "    }\n",
       "\n",
       "    .dataframe tbody tr th {\n",
       "        vertical-align: top;\n",
       "    }\n",
       "\n",
       "    .dataframe thead th {\n",
       "        text-align: right;\n",
       "    }\n",
       "</style>\n",
       "<table border=\"1\" class=\"dataframe\">\n",
       "  <thead>\n",
       "    <tr style=\"text-align: right;\">\n",
       "      <th></th>\n",
       "      <th>window_size</th>\n",
       "      <th>horizan</th>\n",
       "      <th>stride</th>\n",
       "      <th>AVG_MAE</th>\n",
       "      <th>AVG_MSE</th>\n",
       "      <th>AVG_RMSE</th>\n",
       "    </tr>\n",
       "  </thead>\n",
       "  <tbody>\n",
       "    <tr>\n",
       "      <th>14</th>\n",
       "      <td>30</td>\n",
       "      <td>30</td>\n",
       "      <td>10</td>\n",
       "      <td>18.353296</td>\n",
       "      <td>1040.850665</td>\n",
       "      <td>26.438658</td>\n",
       "    </tr>\n",
       "    <tr>\n",
       "      <th>26</th>\n",
       "      <td>30</td>\n",
       "      <td>30</td>\n",
       "      <td>15</td>\n",
       "      <td>16.962681</td>\n",
       "      <td>904.838498</td>\n",
       "      <td>25.110198</td>\n",
       "    </tr>\n",
       "    <tr>\n",
       "      <th>10</th>\n",
       "      <td>30</td>\n",
       "      <td>30</td>\n",
       "      <td>5</td>\n",
       "      <td>17.940599</td>\n",
       "      <td>971.298462</td>\n",
       "      <td>25.847410</td>\n",
       "    </tr>\n",
       "  </tbody>\n",
       "</table>\n",
       "</div>"
      ],
      "text/plain": [
       "   window_size horizan stride    AVG_MAE      AVG_MSE   AVG_RMSE\n",
       "14          30      30     10  18.353296  1040.850665  26.438658\n",
       "26          30      30     15  16.962681   904.838498  25.110198\n",
       "10          30      30      5  17.940599   971.298462  25.847410"
      ]
     },
     "metadata": {},
     "output_type": "display_data"
    },
    {
     "name": "stdout",
     "output_type": "stream",
     "text": [
      "('30', '35')\n"
     ]
    },
    {
     "data": {
      "text/html": [
       "<div>\n",
       "<style scoped>\n",
       "    .dataframe tbody tr th:only-of-type {\n",
       "        vertical-align: middle;\n",
       "    }\n",
       "\n",
       "    .dataframe tbody tr th {\n",
       "        vertical-align: top;\n",
       "    }\n",
       "\n",
       "    .dataframe thead th {\n",
       "        text-align: right;\n",
       "    }\n",
       "</style>\n",
       "<table border=\"1\" class=\"dataframe\">\n",
       "  <thead>\n",
       "    <tr style=\"text-align: right;\">\n",
       "      <th></th>\n",
       "      <th>window_size</th>\n",
       "      <th>horizan</th>\n",
       "      <th>stride</th>\n",
       "      <th>AVG_MAE</th>\n",
       "      <th>AVG_MSE</th>\n",
       "      <th>AVG_RMSE</th>\n",
       "    </tr>\n",
       "  </thead>\n",
       "  <tbody>\n",
       "    <tr>\n",
       "      <th>16</th>\n",
       "      <td>30</td>\n",
       "      <td>35</td>\n",
       "      <td>10</td>\n",
       "      <td>19.593409</td>\n",
       "      <td>1150.151343</td>\n",
       "      <td>27.771255</td>\n",
       "    </tr>\n",
       "    <tr>\n",
       "      <th>2</th>\n",
       "      <td>30</td>\n",
       "      <td>35</td>\n",
       "      <td>15</td>\n",
       "      <td>17.857009</td>\n",
       "      <td>967.418924</td>\n",
       "      <td>26.021316</td>\n",
       "    </tr>\n",
       "    <tr>\n",
       "      <th>3</th>\n",
       "      <td>30</td>\n",
       "      <td>35</td>\n",
       "      <td>5</td>\n",
       "      <td>19.072580</td>\n",
       "      <td>1061.769273</td>\n",
       "      <td>27.167792</td>\n",
       "    </tr>\n",
       "  </tbody>\n",
       "</table>\n",
       "</div>"
      ],
      "text/plain": [
       "   window_size horizan stride    AVG_MAE      AVG_MSE   AVG_RMSE\n",
       "16          30      35     10  19.593409  1150.151343  27.771255\n",
       "2           30      35     15  17.857009   967.418924  26.021316\n",
       "3           30      35      5  19.072580  1061.769273  27.167792"
      ]
     },
     "metadata": {},
     "output_type": "display_data"
    },
    {
     "name": "stdout",
     "output_type": "stream",
     "text": [
      "('45', '15')\n"
     ]
    },
    {
     "data": {
      "text/html": [
       "<div>\n",
       "<style scoped>\n",
       "    .dataframe tbody tr th:only-of-type {\n",
       "        vertical-align: middle;\n",
       "    }\n",
       "\n",
       "    .dataframe tbody tr th {\n",
       "        vertical-align: top;\n",
       "    }\n",
       "\n",
       "    .dataframe thead th {\n",
       "        text-align: right;\n",
       "    }\n",
       "</style>\n",
       "<table border=\"1\" class=\"dataframe\">\n",
       "  <thead>\n",
       "    <tr style=\"text-align: right;\">\n",
       "      <th></th>\n",
       "      <th>window_size</th>\n",
       "      <th>horizan</th>\n",
       "      <th>stride</th>\n",
       "      <th>AVG_MAE</th>\n",
       "      <th>AVG_MSE</th>\n",
       "      <th>AVG_RMSE</th>\n",
       "    </tr>\n",
       "  </thead>\n",
       "  <tbody>\n",
       "    <tr>\n",
       "      <th>8</th>\n",
       "      <td>45</td>\n",
       "      <td>15</td>\n",
       "      <td>10</td>\n",
       "      <td>14.099128</td>\n",
       "      <td>646.030707</td>\n",
       "      <td>20.743455</td>\n",
       "    </tr>\n",
       "    <tr>\n",
       "      <th>20</th>\n",
       "      <td>45</td>\n",
       "      <td>15</td>\n",
       "      <td>15</td>\n",
       "      <td>13.680710</td>\n",
       "      <td>647.435979</td>\n",
       "      <td>20.540705</td>\n",
       "    </tr>\n",
       "    <tr>\n",
       "      <th>18</th>\n",
       "      <td>45</td>\n",
       "      <td>15</td>\n",
       "      <td>5</td>\n",
       "      <td>14.528636</td>\n",
       "      <td>713.605299</td>\n",
       "      <td>21.171357</td>\n",
       "    </tr>\n",
       "  </tbody>\n",
       "</table>\n",
       "</div>"
      ],
      "text/plain": [
       "   window_size horizan stride    AVG_MAE     AVG_MSE   AVG_RMSE\n",
       "8           45      15     10  14.099128  646.030707  20.743455\n",
       "20          45      15     15  13.680710  647.435979  20.540705\n",
       "18          45      15      5  14.528636  713.605299  21.171357"
      ]
     },
     "metadata": {},
     "output_type": "display_data"
    },
    {
     "name": "stdout",
     "output_type": "stream",
     "text": [
      "('45', '30')\n"
     ]
    },
    {
     "data": {
      "text/html": [
       "<div>\n",
       "<style scoped>\n",
       "    .dataframe tbody tr th:only-of-type {\n",
       "        vertical-align: middle;\n",
       "    }\n",
       "\n",
       "    .dataframe tbody tr th {\n",
       "        vertical-align: top;\n",
       "    }\n",
       "\n",
       "    .dataframe thead th {\n",
       "        text-align: right;\n",
       "    }\n",
       "</style>\n",
       "<table border=\"1\" class=\"dataframe\">\n",
       "  <thead>\n",
       "    <tr style=\"text-align: right;\">\n",
       "      <th></th>\n",
       "      <th>window_size</th>\n",
       "      <th>horizan</th>\n",
       "      <th>stride</th>\n",
       "      <th>AVG_MAE</th>\n",
       "      <th>AVG_MSE</th>\n",
       "      <th>AVG_RMSE</th>\n",
       "    </tr>\n",
       "  </thead>\n",
       "  <tbody>\n",
       "    <tr>\n",
       "      <th>19</th>\n",
       "      <td>45</td>\n",
       "      <td>30</td>\n",
       "      <td>10</td>\n",
       "      <td>17.357449</td>\n",
       "      <td>897.980151</td>\n",
       "      <td>24.946752</td>\n",
       "    </tr>\n",
       "    <tr>\n",
       "      <th>11</th>\n",
       "      <td>45</td>\n",
       "      <td>30</td>\n",
       "      <td>15</td>\n",
       "      <td>16.792153</td>\n",
       "      <td>899.368653</td>\n",
       "      <td>24.817340</td>\n",
       "    </tr>\n",
       "    <tr>\n",
       "      <th>9</th>\n",
       "      <td>45</td>\n",
       "      <td>30</td>\n",
       "      <td>5</td>\n",
       "      <td>17.795366</td>\n",
       "      <td>968.404699</td>\n",
       "      <td>25.470509</td>\n",
       "    </tr>\n",
       "  </tbody>\n",
       "</table>\n",
       "</div>"
      ],
      "text/plain": [
       "   window_size horizan stride    AVG_MAE     AVG_MSE   AVG_RMSE\n",
       "19          45      30     10  17.357449  897.980151  24.946752\n",
       "11          45      30     15  16.792153  899.368653  24.817340\n",
       "9           45      30      5  17.795366  968.404699  25.470509"
      ]
     },
     "metadata": {},
     "output_type": "display_data"
    },
    {
     "name": "stdout",
     "output_type": "stream",
     "text": [
      "('45', '35')\n"
     ]
    },
    {
     "data": {
      "text/html": [
       "<div>\n",
       "<style scoped>\n",
       "    .dataframe tbody tr th:only-of-type {\n",
       "        vertical-align: middle;\n",
       "    }\n",
       "\n",
       "    .dataframe tbody tr th {\n",
       "        vertical-align: top;\n",
       "    }\n",
       "\n",
       "    .dataframe thead th {\n",
       "        text-align: right;\n",
       "    }\n",
       "</style>\n",
       "<table border=\"1\" class=\"dataframe\">\n",
       "  <thead>\n",
       "    <tr style=\"text-align: right;\">\n",
       "      <th></th>\n",
       "      <th>window_size</th>\n",
       "      <th>horizan</th>\n",
       "      <th>stride</th>\n",
       "      <th>AVG_MAE</th>\n",
       "      <th>AVG_MSE</th>\n",
       "      <th>AVG_RMSE</th>\n",
       "    </tr>\n",
       "  </thead>\n",
       "  <tbody>\n",
       "    <tr>\n",
       "      <th>4</th>\n",
       "      <td>45</td>\n",
       "      <td>35</td>\n",
       "      <td>10</td>\n",
       "      <td>18.362091</td>\n",
       "      <td>973.781350</td>\n",
       "      <td>26.330085</td>\n",
       "    </tr>\n",
       "    <tr>\n",
       "      <th>7</th>\n",
       "      <td>45</td>\n",
       "      <td>35</td>\n",
       "      <td>15</td>\n",
       "      <td>17.698690</td>\n",
       "      <td>966.301824</td>\n",
       "      <td>25.784215</td>\n",
       "    </tr>\n",
       "    <tr>\n",
       "      <th>13</th>\n",
       "      <td>45</td>\n",
       "      <td>35</td>\n",
       "      <td>5</td>\n",
       "      <td>18.923794</td>\n",
       "      <td>1065.279267</td>\n",
       "      <td>26.912764</td>\n",
       "    </tr>\n",
       "  </tbody>\n",
       "</table>\n",
       "</div>"
      ],
      "text/plain": [
       "   window_size horizan stride    AVG_MAE      AVG_MSE   AVG_RMSE\n",
       "4           45      35     10  18.362091   973.781350  26.330085\n",
       "7           45      35     15  17.698690   966.301824  25.784215\n",
       "13          45      35      5  18.923794  1065.279267  26.912764"
      ]
     },
     "metadata": {},
     "output_type": "display_data"
    },
    {
     "name": "stdout",
     "output_type": "stream",
     "text": [
      "('90', '15')\n"
     ]
    },
    {
     "data": {
      "text/html": [
       "<div>\n",
       "<style scoped>\n",
       "    .dataframe tbody tr th:only-of-type {\n",
       "        vertical-align: middle;\n",
       "    }\n",
       "\n",
       "    .dataframe tbody tr th {\n",
       "        vertical-align: top;\n",
       "    }\n",
       "\n",
       "    .dataframe thead th {\n",
       "        text-align: right;\n",
       "    }\n",
       "</style>\n",
       "<table border=\"1\" class=\"dataframe\">\n",
       "  <thead>\n",
       "    <tr style=\"text-align: right;\">\n",
       "      <th></th>\n",
       "      <th>window_size</th>\n",
       "      <th>horizan</th>\n",
       "      <th>stride</th>\n",
       "      <th>AVG_MAE</th>\n",
       "      <th>AVG_MSE</th>\n",
       "      <th>AVG_RMSE</th>\n",
       "    </tr>\n",
       "  </thead>\n",
       "  <tbody>\n",
       "    <tr>\n",
       "      <th>12</th>\n",
       "      <td>90</td>\n",
       "      <td>15</td>\n",
       "      <td>10</td>\n",
       "      <td>15.725033</td>\n",
       "      <td>845.455838</td>\n",
       "      <td>22.185467</td>\n",
       "    </tr>\n",
       "    <tr>\n",
       "      <th>25</th>\n",
       "      <td>90</td>\n",
       "      <td>15</td>\n",
       "      <td>15</td>\n",
       "      <td>14.234027</td>\n",
       "      <td>669.513128</td>\n",
       "      <td>20.702042</td>\n",
       "    </tr>\n",
       "    <tr>\n",
       "      <th>24</th>\n",
       "      <td>90</td>\n",
       "      <td>15</td>\n",
       "      <td>5</td>\n",
       "      <td>15.136375</td>\n",
       "      <td>762.804120</td>\n",
       "      <td>21.715795</td>\n",
       "    </tr>\n",
       "  </tbody>\n",
       "</table>\n",
       "</div>"
      ],
      "text/plain": [
       "   window_size horizan stride    AVG_MAE     AVG_MSE   AVG_RMSE\n",
       "12          90      15     10  15.725033  845.455838  22.185467\n",
       "25          90      15     15  14.234027  669.513128  20.702042\n",
       "24          90      15      5  15.136375  762.804120  21.715795"
      ]
     },
     "metadata": {},
     "output_type": "display_data"
    },
    {
     "name": "stdout",
     "output_type": "stream",
     "text": [
      "('90', '30')\n"
     ]
    },
    {
     "data": {
      "text/html": [
       "<div>\n",
       "<style scoped>\n",
       "    .dataframe tbody tr th:only-of-type {\n",
       "        vertical-align: middle;\n",
       "    }\n",
       "\n",
       "    .dataframe tbody tr th {\n",
       "        vertical-align: top;\n",
       "    }\n",
       "\n",
       "    .dataframe thead th {\n",
       "        text-align: right;\n",
       "    }\n",
       "</style>\n",
       "<table border=\"1\" class=\"dataframe\">\n",
       "  <thead>\n",
       "    <tr style=\"text-align: right;\">\n",
       "      <th></th>\n",
       "      <th>window_size</th>\n",
       "      <th>horizan</th>\n",
       "      <th>stride</th>\n",
       "      <th>AVG_MAE</th>\n",
       "      <th>AVG_MSE</th>\n",
       "      <th>AVG_RMSE</th>\n",
       "    </tr>\n",
       "  </thead>\n",
       "  <tbody>\n",
       "    <tr>\n",
       "      <th>1</th>\n",
       "      <td>90</td>\n",
       "      <td>30</td>\n",
       "      <td>10</td>\n",
       "      <td>19.305237</td>\n",
       "      <td>1146.355733</td>\n",
       "      <td>27.263261</td>\n",
       "    </tr>\n",
       "    <tr>\n",
       "      <th>22</th>\n",
       "      <td>90</td>\n",
       "      <td>30</td>\n",
       "      <td>15</td>\n",
       "      <td>17.625344</td>\n",
       "      <td>974.471960</td>\n",
       "      <td>25.749411</td>\n",
       "    </tr>\n",
       "    <tr>\n",
       "      <th>17</th>\n",
       "      <td>90</td>\n",
       "      <td>30</td>\n",
       "      <td>5</td>\n",
       "      <td>18.837731</td>\n",
       "      <td>1071.892204</td>\n",
       "      <td>26.817739</td>\n",
       "    </tr>\n",
       "  </tbody>\n",
       "</table>\n",
       "</div>"
      ],
      "text/plain": [
       "   window_size horizan stride    AVG_MAE      AVG_MSE   AVG_RMSE\n",
       "1           90      30     10  19.305237  1146.355733  27.263261\n",
       "22          90      30     15  17.625344   974.471960  25.749411\n",
       "17          90      30      5  18.837731  1071.892204  26.817739"
      ]
     },
     "metadata": {},
     "output_type": "display_data"
    },
    {
     "name": "stdout",
     "output_type": "stream",
     "text": [
      "('90', '35')\n"
     ]
    },
    {
     "data": {
      "text/html": [
       "<div>\n",
       "<style scoped>\n",
       "    .dataframe tbody tr th:only-of-type {\n",
       "        vertical-align: middle;\n",
       "    }\n",
       "\n",
       "    .dataframe tbody tr th {\n",
       "        vertical-align: top;\n",
       "    }\n",
       "\n",
       "    .dataframe thead th {\n",
       "        text-align: right;\n",
       "    }\n",
       "</style>\n",
       "<table border=\"1\" class=\"dataframe\">\n",
       "  <thead>\n",
       "    <tr style=\"text-align: right;\">\n",
       "      <th></th>\n",
       "      <th>window_size</th>\n",
       "      <th>horizan</th>\n",
       "      <th>stride</th>\n",
       "      <th>AVG_MAE</th>\n",
       "      <th>AVG_MSE</th>\n",
       "      <th>AVG_RMSE</th>\n",
       "    </tr>\n",
       "  </thead>\n",
       "  <tbody>\n",
       "    <tr>\n",
       "      <th>0</th>\n",
       "      <td>90</td>\n",
       "      <td>35</td>\n",
       "      <td>10</td>\n",
       "      <td>20.703196</td>\n",
       "      <td>1285.338767</td>\n",
       "      <td>28.990219</td>\n",
       "    </tr>\n",
       "    <tr>\n",
       "      <th>6</th>\n",
       "      <td>90</td>\n",
       "      <td>35</td>\n",
       "      <td>15</td>\n",
       "      <td>18.449222</td>\n",
       "      <td>1042.854908</td>\n",
       "      <td>26.666015</td>\n",
       "    </tr>\n",
       "    <tr>\n",
       "      <th>21</th>\n",
       "      <td>90</td>\n",
       "      <td>35</td>\n",
       "      <td>5</td>\n",
       "      <td>20.019347</td>\n",
       "      <td>1181.212888</td>\n",
       "      <td>28.360803</td>\n",
       "    </tr>\n",
       "  </tbody>\n",
       "</table>\n",
       "</div>"
      ],
      "text/plain": [
       "   window_size horizan stride    AVG_MAE      AVG_MSE   AVG_RMSE\n",
       "0           90      35     10  20.703196  1285.338767  28.990219\n",
       "6           90      35     15  18.449222  1042.854908  26.666015\n",
       "21          90      35      5  20.019347  1181.212888  28.360803"
      ]
     },
     "metadata": {},
     "output_type": "display_data"
    }
   ],
   "source": [
    "for name, group in result_df.groupby([\"window_size\", \"horizan\"]):\n",
    "    print(name)\n",
    "    display(group)"
   ]
  }
 ],
 "metadata": {
  "kernelspec": {
   "display_name": "darts",
   "language": "python",
   "name": "python3"
  },
  "language_info": {
   "codemirror_mode": {
    "name": "ipython",
    "version": 3
   },
   "file_extension": ".py",
   "mimetype": "text/x-python",
   "name": "python",
   "nbconvert_exporter": "python",
   "pygments_lexer": "ipython3",
   "version": "3.11.4"
  },
  "orig_nbformat": 4
 },
 "nbformat": 4,
 "nbformat_minor": 2
}
