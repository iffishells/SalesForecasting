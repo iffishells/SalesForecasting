{
 "cells": [
  {
   "cell_type": "markdown",
   "metadata": {},
   "source": [
    "# loading libraries"
   ]
  },
  {
   "cell_type": "code",
   "execution_count": 2,
   "metadata": {},
   "outputs": [
    {
     "name": "stderr",
     "output_type": "stream",
     "text": [
      "The `LightGBM` module could not be imported. To enable LightGBM support in Darts, follow the detailed instructions in the installation guide: https://github.com/unit8co/darts/blob/master/INSTALL.md\n",
      "/home/iffi/anaconda3/envs/darts/lib/python3.11/site-packages/tqdm/auto.py:21: TqdmWarning: IProgress not found. Please update jupyter and ipywidgets. See https://ipywidgets.readthedocs.io/en/stable/user_install.html\n",
      "  from .autonotebook import tqdm as notebook_tqdm\n",
      "The `CatBoost` module could not be imported. To enable CatBoost support in Darts, follow the detailed instructions in the installation guide: https://github.com/unit8co/darts/blob/master/INSTALL.md\n"
     ]
    }
   ],
   "source": [
    "import pandas as pd\n",
    "import numpy as np\n",
    "import matplotlib.pyplot as plt\n",
    "import pathlib\n",
    "import darts\n",
    "from darts.models.forecasting.arima import ARIMA\n",
    "from darts import TimeSeries\n",
    "import matplotlib.pyplot as plt\n",
    "from statsmodels.tsa.stattools import adfuller\n",
    "import os\n",
    "import glob\n",
    "from tqdm import tqdm\n",
    "from darts.dataprocessing.transformers.scaler import Scaler"
   ]
  },
  {
   "cell_type": "markdown",
   "metadata": {},
   "source": [
    "# Helping Functions\n"
   ]
  },
  {
   "cell_type": "code",
   "execution_count": 3,
   "metadata": {},
   "outputs": [],
   "source": [
    "import numpy as np\n",
    "\n",
    "\n",
    "def calculate_metrics(actual, predicted):\n",
    "    # Convert inputs to numpy arrays for easier calculations\n",
    "    actual = np.array(actual)\n",
    "    predicted = np.array(predicted)\n",
    "\n",
    "    # Calculate individual metrics\n",
    "    mae = np.mean(np.abs(predicted - actual))\n",
    "    rmse = np.sqrt(np.mean((predicted - actual) ** 2))\n",
    "    mape = np.mean(np.abs((predicted - actual) / actual)) * 100\n",
    "    mse = np.mean((predicted - actual) ** 2)\n",
    "\n",
    "    metrics = {\"MAE\": mae, \"RMSE\": rmse, \"MAPE\": mape, \"MSE\": mse}\n",
    "\n",
    "    return metrics"
   ]
  },
  {
   "cell_type": "markdown",
   "metadata": {},
   "source": [
    "# Data Reading 😶"
   ]
  },
  {
   "cell_type": "code",
   "execution_count": 25,
   "metadata": {},
   "outputs": [
    {
     "data": {
      "text/html": [
       "<div>\n",
       "<style scoped>\n",
       "    .dataframe tbody tr th:only-of-type {\n",
       "        vertical-align: middle;\n",
       "    }\n",
       "\n",
       "    .dataframe tbody tr th {\n",
       "        vertical-align: top;\n",
       "    }\n",
       "\n",
       "    .dataframe thead th {\n",
       "        text-align: right;\n",
       "    }\n",
       "</style>\n",
       "<table border=\"1\" class=\"dataframe\">\n",
       "  <thead>\n",
       "    <tr style=\"text-align: right;\">\n",
       "      <th></th>\n",
       "      <th>date</th>\n",
       "      <th>net_sales_total</th>\n",
       "      <th>net_order_entry_total</th>\n",
       "      <th>mitarbeiter_vertrieb</th>\n",
       "      <th>mitarbeiter_service</th>\n",
       "      <th>mitarbeiter_total</th>\n",
       "    </tr>\n",
       "  </thead>\n",
       "  <tbody>\n",
       "    <tr>\n",
       "      <th>0</th>\n",
       "      <td>2014-01-31</td>\n",
       "      <td>9914.85</td>\n",
       "      <td>13197.85</td>\n",
       "      <td>94</td>\n",
       "      <td>178</td>\n",
       "      <td>272</td>\n",
       "    </tr>\n",
       "    <tr>\n",
       "      <th>1</th>\n",
       "      <td>2014-02-28</td>\n",
       "      <td>8793.66</td>\n",
       "      <td>11632.08</td>\n",
       "      <td>96</td>\n",
       "      <td>178</td>\n",
       "      <td>274</td>\n",
       "    </tr>\n",
       "    <tr>\n",
       "      <th>2</th>\n",
       "      <td>2014-03-31</td>\n",
       "      <td>12689.12</td>\n",
       "      <td>14404.37</td>\n",
       "      <td>97</td>\n",
       "      <td>179</td>\n",
       "      <td>276</td>\n",
       "    </tr>\n",
       "    <tr>\n",
       "      <th>3</th>\n",
       "      <td>2014-04-30</td>\n",
       "      <td>12420.60</td>\n",
       "      <td>11512.26</td>\n",
       "      <td>97</td>\n",
       "      <td>180</td>\n",
       "      <td>277</td>\n",
       "    </tr>\n",
       "    <tr>\n",
       "      <th>4</th>\n",
       "      <td>2014-05-31</td>\n",
       "      <td>11825.02</td>\n",
       "      <td>11875.16</td>\n",
       "      <td>99</td>\n",
       "      <td>178</td>\n",
       "      <td>277</td>\n",
       "    </tr>\n",
       "  </tbody>\n",
       "</table>\n",
       "</div>"
      ],
      "text/plain": [
       "         date  net_sales_total  net_order_entry_total  mitarbeiter_vertrieb  \\\n",
       "0  2014-01-31          9914.85               13197.85                    94   \n",
       "1  2014-02-28          8793.66               11632.08                    96   \n",
       "2  2014-03-31         12689.12               14404.37                    97   \n",
       "3  2014-04-30         12420.60               11512.26                    97   \n",
       "4  2014-05-31         11825.02               11875.16                    99   \n",
       "\n",
       "   mitarbeiter_service  mitarbeiter_total  \n",
       "0                  178                272  \n",
       "1                  178                274  \n",
       "2                  179                276  \n",
       "3                  180                277  \n",
       "4                  178                277  "
      ]
     },
     "execution_count": 25,
     "metadata": {},
     "output_type": "execute_result"
    }
   ],
   "source": [
    "fileName = \"highcorrelated_features\"\n",
    "df = pd.read_csv(f\"../ProcessedData/{fileName}/{fileName}.csv\")\n",
    "df.head()"
   ]
  },
  {
   "cell_type": "code",
   "execution_count": 5,
   "metadata": {},
   "outputs": [
    {
     "data": {
      "text/html": [
       "<div>\n",
       "<style scoped>\n",
       "    .dataframe tbody tr th:only-of-type {\n",
       "        vertical-align: middle;\n",
       "    }\n",
       "\n",
       "    .dataframe tbody tr th {\n",
       "        vertical-align: top;\n",
       "    }\n",
       "\n",
       "    .dataframe thead th {\n",
       "        text-align: right;\n",
       "    }\n",
       "</style>\n",
       "<table border=\"1\" class=\"dataframe\">\n",
       "  <thead>\n",
       "    <tr style=\"text-align: right;\">\n",
       "      <th></th>\n",
       "      <th>date</th>\n",
       "      <th>net_sales_total</th>\n",
       "    </tr>\n",
       "  </thead>\n",
       "  <tbody>\n",
       "    <tr>\n",
       "      <th>0</th>\n",
       "      <td>2014-01-31</td>\n",
       "      <td>9914.85</td>\n",
       "    </tr>\n",
       "    <tr>\n",
       "      <th>1</th>\n",
       "      <td>2014-02-28</td>\n",
       "      <td>8793.66</td>\n",
       "    </tr>\n",
       "    <tr>\n",
       "      <th>2</th>\n",
       "      <td>2014-03-31</td>\n",
       "      <td>12689.12</td>\n",
       "    </tr>\n",
       "    <tr>\n",
       "      <th>3</th>\n",
       "      <td>2014-04-30</td>\n",
       "      <td>12420.60</td>\n",
       "    </tr>\n",
       "    <tr>\n",
       "      <th>4</th>\n",
       "      <td>2014-05-31</td>\n",
       "      <td>11825.02</td>\n",
       "    </tr>\n",
       "  </tbody>\n",
       "</table>\n",
       "</div>"
      ],
      "text/plain": [
       "         date  net_sales_total\n",
       "0  2014-01-31          9914.85\n",
       "1  2014-02-28          8793.66\n",
       "2  2014-03-31         12689.12\n",
       "3  2014-04-30         12420.60\n",
       "4  2014-05-31         11825.02"
      ]
     },
     "execution_count": 5,
     "metadata": {},
     "output_type": "execute_result"
    }
   ],
   "source": [
    "df = df[[\"date\", \"net_sales_total\"]]\n",
    "df = df.drop_duplicates()\n",
    "df.head()"
   ]
  },
  {
   "cell_type": "code",
   "execution_count": 6,
   "metadata": {},
   "outputs": [
    {
     "data": {
      "text/plain": [
       "date               0\n",
       "net_sales_total    0\n",
       "dtype: int64"
      ]
     },
     "execution_count": 6,
     "metadata": {},
     "output_type": "execute_result"
    }
   ],
   "source": [
    "df.isna().sum()"
   ]
  },
  {
   "cell_type": "markdown",
   "metadata": {},
   "source": [
    "# Box-Jenkins Framework\n",
    "The Box-Jenkins method is a statistical technique used for time series analysis and forecasting. The approach starts with the assumption that the process that generated the time series can be approximated using an ARMA model if it is stationary or an ARIMA model if it is non-stationary.\n",
    "\n",
    "The Box-Jenkins method applies autoregressive moving average (ARMA) or autoregressive integrated moving average (ARIMA) models to find the best fit of a time-series model to past values of a time series2. The model can analyze several different types of time series data for forecasting purposes.\n",
    "\n",
    "## ARIMA Model Pipeline\n",
    "Autoregressive Integrated Moving Average (ARIMA) Model\n",
    "\n",
    "* autoregressive models: AR(p)\n",
    "* moving average models: MA(q)\n",
    "* mixed autoregressive moving average models: ARMA(p, q)\n",
    "* integration models: ARIMA(p, d, q)\n",
    "### Stationary Test\n",
    "What is stationary Data ?\n",
    "Stationary data refers to time series data that mean and variance do not vary across time. The data is considered non-stationary if there is a strong trend or seasonality observed from the data.\n",
    "\n",
    "* **Why we need stationary Data for ARIMA Model**  \n",
    "ARIMA models rely on the assumption that the time series being modeled is stationary. Therefore that assumption needs to hold if you want to use these models. The ARIMA model uses differenced data to make the data stationary, which means there’s a consistency of the data over time. This function removes the effect of trends or seasonality, such as market or economic data. We make the data stationary only in case of ARIMA because the ARIMA model looks at the past data to predict future values."
   ]
  },
  {
   "cell_type": "markdown",
   "metadata": {},
   "source": [
    "# stationary Tesst"
   ]
  },
  {
   "cell_type": "code",
   "execution_count": 9,
   "metadata": {},
   "outputs": [],
   "source": [
    "def adfuller_test(values):\n",
    "    result = adfuller(values)\n",
    "    labels = [\n",
    "        \"ADF Test Statistic\",\n",
    "        \"p-value\",\n",
    "        \"#Lags Used\",\n",
    "        \"Number of Observations Used\",\n",
    "    ]\n",
    "    for value, label in zip(result, labels):\n",
    "        print(label + \" : \" + str(value))\n",
    "    if result[1] <= 0.05:\n",
    "        print(\n",
    "            \"P value is less than 0.05 that means we can reject the null hypothesis(Ho). Therefore we can conclude that data has no unit root and is stationary\"\n",
    "        )\n",
    "    else:\n",
    "        print(\n",
    "            \"Weak evidence against null hypothesis that means time series has a unit root which indicates that it is non-stationary \"\n",
    "        )"
   ]
  },
  {
   "cell_type": "code",
   "execution_count": 10,
   "metadata": {},
   "outputs": [
    {
     "name": "stdout",
     "output_type": "stream",
     "text": [
      "ADF Test Statistic : -0.5945418906256462\n",
      "p-value : 0.8722105724767181\n",
      "#Lags Used : 13\n",
      "Number of Observations Used : 94\n",
      "Weak evidence against null hypothesis that means time series has a unit root which indicates that it is non-stationary \n"
     ]
    }
   ],
   "source": [
    "adfuller_test(df[\"net_sales_total\"])"
   ]
  },
  {
   "cell_type": "code",
   "execution_count": 11,
   "metadata": {},
   "outputs": [
    {
     "name": "stdout",
     "output_type": "stream",
     "text": [
      "ADF Test Statistic : -4.015772404893064\n",
      "p-value : 0.0013301372561128658\n",
      "#Lags Used : 12\n",
      "Number of Observations Used : 94\n",
      "P value is less than 0.05 that means we can reject the null hypothesis(Ho). Therefore we can conclude that data has no unit root and is stationary\n"
     ]
    }
   ],
   "source": [
    "adfuller_test(df[\"net_sales_total\"].diff(1).iloc[1:])"
   ]
  },
  {
   "cell_type": "markdown",
   "metadata": {},
   "source": [
    "## Spliting Data into Training & Testing Data"
   ]
  },
  {
   "cell_type": "code",
   "execution_count": 12,
   "metadata": {},
   "outputs": [
    {
     "data": {
      "image/png": "[encoded data removed]",
      "text/plain": [
       "<Figure size 1800x600 with 1 Axes>"
      ]
     },
     "metadata": {},
     "output_type": "display_data"
    }
   ],
   "source": [
    "from darts import TimeSeries\n",
    "import numpy as np\n",
    "import matplotlib.pyplot as plt\n",
    "\n",
    "# Assuming df is your DataFrame containing daily data\n",
    "series = TimeSeries.from_dataframe(\n",
    "    df, \"date\", \"net_sales_total\", freq=\"1M\", fill_missing_dates=True, fillna_value=0\n",
    ")\n",
    "\n",
    "\n",
    "split_point = 0.80\n",
    "\n",
    "train_series, test_series = series.split_after(split_point)\n",
    "\n",
    "# Set the figure size and style\n",
    "plt.figure(figsize=(18, 6))\n",
    "# Plot the training and testing data\n",
    "train_series.plot(label=\"Training Data\", color=\"blue\", linewidth=1.5, marker=\"o\")\n",
    "test_series.plot(label=\"Testing Data\", color=\"orange\", linewidth=1.5, marker=\"o\")\n",
    "\n",
    "# Add title and labels\n",
    "plt.title(\"Training and Testing Data\")\n",
    "plt.xlabel(\"Date\")\n",
    "plt.ylabel(\"net_sales_total\")\n",
    "\n",
    "# Add grid lines\n",
    "plt.grid(True)\n",
    "\n",
    "# Add legend\n",
    "plt.legend()\n",
    "\n",
    "# Display the plot\n",
    "plt.show()"
   ]
  },
  {
   "cell_type": "markdown",
   "metadata": {},
   "source": [
    "## Inspect Seasonality"
   ]
  },
  {
   "cell_type": "code",
   "execution_count": 13,
   "metadata": {},
   "outputs": [
    {
     "name": "stdout",
     "output_type": "stream",
     "text": [
      "There is seasonality of order 6.\n",
      "There is seasonality of order 12.\n",
      "There is seasonality of order 15.\n",
      "There is seasonality of order 18.\n"
     ]
    }
   ],
   "source": [
    "from darts.utils.statistics import plot_acf, check_seasonality\n",
    "\n",
    "for m in range(2, 25):\n",
    "    is_seasonal, period = check_seasonality(train_series, m=m, alpha=0.05)\n",
    "    if is_seasonal:\n",
    "        print(\"There is seasonality of order {}.\".format(period))"
   ]
  },
  {
   "cell_type": "markdown",
   "metadata": {},
   "source": [
    "## Auto Correlation plot\n",
    "The autocorrelation function (ACF) is used to identify the order of ARIMA models. The ACF plot shows the correlation between the time series and its lagged version. The lag at which the ACF plot crosses the upper confidence interval for the first time is considered as the order of the **MA** component of the ARIMA model. Similarly, if the ACF plot decays slowly, it indicates that there is a high degree of autocorrelation in the time series, which means that an AR component should be included in the ARIMA model."
   ]
  },
  {
   "cell_type": "code",
   "execution_count": 15,
   "metadata": {},
   "outputs": [
    {
     "data": {
      "image/png": "[encoded data removed]",
      "text/plain": [
       "<Figure size 1000x500 with 1 Axes>"
      ]
     },
     "metadata": {},
     "output_type": "display_data"
    }
   ],
   "source": [
    "from darts.utils.statistics import plot_acf, plot_pacf\n",
    "\n",
    "\n",
    "plot_acf(\n",
    "    train_series, m=7, max_lag=40, fig_size=(10, 5), axis=None, default_formatting=True\n",
    ")\n",
    "plt.xlabel(\"lags\")\n",
    "plt.ylabel(\"correlation\")\n",
    "plt.title(\"Auto Correlation Plot\")\n",
    "plt.show()"
   ]
  },
  {
   "cell_type": "markdown",
   "metadata": {},
   "source": [
    "## Partial Auto Correlation plot\n",
    "The partial autocorrelation function (PACF) is also used to identify the order of ARIMA models. The PACF plot shows the correlation between the time series and its lagged version, but with the influence of the intermediate lags removed. The lag at which the PACF plot crosses the upper confidence interval for the first time is considered as the order of the **AR** component of the ARIMA model."
   ]
  },
  {
   "cell_type": "code",
   "execution_count": 16,
   "metadata": {},
   "outputs": [
    {
     "data": {
      "image/png": "[encoded data removed]",
      "text/plain": [
       "<Figure size 1000x500 with 1 Axes>"
      ]
     },
     "metadata": {},
     "output_type": "display_data"
    }
   ],
   "source": [
    "from darts.utils.statistics import plot_acf, plot_pacf\n",
    "\n",
    "plot_pacf(\n",
    "    train_series, m=7, max_lag=40, fig_size=(10, 5), axis=None, default_formatting=True\n",
    ")\n",
    "\n",
    "plt.xlabel(\"lags\")\n",
    "plt.ylabel(\"correlation\")\n",
    "plt.title(\"Partial Auto Correlation Plot\")\n",
    "plt.show()"
   ]
  },
  {
   "cell_type": "markdown",
   "metadata": {},
   "source": [
    "# Model Fitting"
   ]
  },
  {
   "cell_type": "markdown",
   "metadata": {},
   "source": [
    "## SARIMA Model"
   ]
  },
  {
   "cell_type": "code",
   "execution_count": 17,
   "metadata": {},
   "outputs": [
    {
     "name": "stderr",
     "output_type": "stream",
     "text": [
      "/home/iffi/anaconda3/envs/darts/lib/python3.11/site-packages/statsmodels/tsa/statespace/sarimax.py:966: UserWarning: Non-stationary starting autoregressive parameters found. Using zeros as starting parameters.\n",
      "  warn('Non-stationary starting autoregressive parameters'\n",
      "/home/iffi/anaconda3/envs/darts/lib/python3.11/site-packages/statsmodels/tsa/statespace/sarimax.py:978: UserWarning: Non-invertible starting MA parameters found. Using zeros as starting parameters.\n",
      "  warn('Non-invertible starting MA parameters found.'\n",
      "/home/iffi/anaconda3/envs/darts/lib/python3.11/site-packages/statsmodels/tsa/statespace/sarimax.py:866: UserWarning: Too few observations to estimate starting parameters for seasonal ARMA. All parameters except for variances will be set to zeros.\n",
      "  warn('Too few observations to estimate starting parameters%s.'\n",
      "/home/iffi/anaconda3/envs/darts/lib/python3.11/site-packages/statsmodels/base/model.py:607: ConvergenceWarning: Maximum Likelihood optimization failed to converge. Check mle_retvals\n",
      "  warnings.warn(\"Maximum Likelihood optimization failed to \"\n"
     ]
    },
    {
     "data": {
      "text/html": [
       "<table class=\"simpletable\">\n",
       "<caption>SARIMAX Results</caption>\n",
       "<tr>\n",
       "  <th>Dep. Variable:</th>                    <td>y</td>                  <th>  No. Observations:  </th>    <td>86</td>   \n",
       "</tr>\n",
       "<tr>\n",
       "  <th>Model:</th>           <td>ARIMA(12, 1, 12)x(2, 1, [1, 2], 18)</td> <th>  Log Likelihood     </th> <td>-629.894</td>\n",
       "</tr>\n",
       "<tr>\n",
       "  <th>Date:</th>                     <td>Fri, 15 Sep 2023</td>           <th>  AIC                </th> <td>1329.788</td>\n",
       "</tr>\n",
       "<tr>\n",
       "  <th>Time:</th>                         <td>21:20:25</td>               <th>  BIC                </th> <td>1406.952</td>\n",
       "</tr>\n",
       "<tr>\n",
       "  <th>Sample:</th>                           <td>0</td>                  <th>  HQIC               </th> <td>1360.322</td>\n",
       "</tr>\n",
       "<tr>\n",
       "  <th></th>                                <td> - 86</td>                <th>                     </th>     <td> </td>   \n",
       "</tr>\n",
       "<tr>\n",
       "  <th>Covariance Type:</th>                 <td>opg</td>                 <th>                     </th>     <td> </td>   \n",
       "</tr>\n",
       "</table>\n",
       "<table class=\"simpletable\">\n",
       "<tr>\n",
       "      <td></td>        <th>coef</th>     <th>std err</th>      <th>z</th>      <th>P>|z|</th>  <th>[0.025</th>    <th>0.975]</th>  \n",
       "</tr>\n",
       "<tr>\n",
       "  <th>x1</th>       <td> 3697.7730</td> <td> 1290.188</td> <td>    2.866</td> <td> 0.004</td> <td> 1169.051</td> <td> 6226.495</td>\n",
       "</tr>\n",
       "<tr>\n",
       "  <th>x2</th>       <td>  599.2525</td> <td> 1013.212</td> <td>    0.591</td> <td> 0.554</td> <td>-1386.606</td> <td> 2585.111</td>\n",
       "</tr>\n",
       "<tr>\n",
       "  <th>const</th>    <td> 7.753e-14</td> <td> 7.03e+04</td> <td>  1.1e-18</td> <td> 1.000</td> <td>-1.38e+05</td> <td> 1.38e+05</td>\n",
       "</tr>\n",
       "<tr>\n",
       "  <th>x3</th>       <td> -399.3426</td> <td> 1062.285</td> <td>   -0.376</td> <td> 0.707</td> <td>-2481.384</td> <td> 1682.698</td>\n",
       "</tr>\n",
       "<tr>\n",
       "  <th>x4</th>       <td>    0.0001</td> <td> 7.16e+04</td> <td> 1.78e-09</td> <td> 1.000</td> <td> -1.4e+05</td> <td>  1.4e+05</td>\n",
       "</tr>\n",
       "<tr>\n",
       "  <th>x5</th>       <td>-1.198e+05</td> <td> 1.92e+04</td> <td>   -6.233</td> <td> 0.000</td> <td>-1.58e+05</td> <td>-8.22e+04</td>\n",
       "</tr>\n",
       "<tr>\n",
       "  <th>ar.L1</th>    <td>    0.1315</td> <td>   24.089</td> <td>    0.005</td> <td> 0.996</td> <td>  -47.081</td> <td>   47.344</td>\n",
       "</tr>\n",
       "<tr>\n",
       "  <th>ar.L2</th>    <td>   -0.4271</td> <td>   13.278</td> <td>   -0.032</td> <td> 0.974</td> <td>  -26.451</td> <td>   25.597</td>\n",
       "</tr>\n",
       "<tr>\n",
       "  <th>ar.L3</th>    <td>    0.1503</td> <td>   18.739</td> <td>    0.008</td> <td> 0.994</td> <td>  -36.578</td> <td>   36.878</td>\n",
       "</tr>\n",
       "<tr>\n",
       "  <th>ar.L4</th>    <td>   -0.8421</td> <td>    8.397</td> <td>   -0.100</td> <td> 0.920</td> <td>  -17.299</td> <td>   15.615</td>\n",
       "</tr>\n",
       "<tr>\n",
       "  <th>ar.L5</th>    <td>    0.1483</td> <td>   24.928</td> <td>    0.006</td> <td> 0.995</td> <td>  -48.710</td> <td>   49.006</td>\n",
       "</tr>\n",
       "<tr>\n",
       "  <th>ar.L6</th>    <td>    0.0206</td> <td>   12.629</td> <td>    0.002</td> <td> 0.999</td> <td>  -24.731</td> <td>   24.773</td>\n",
       "</tr>\n",
       "<tr>\n",
       "  <th>ar.L7</th>    <td>   -0.2456</td> <td>    7.294</td> <td>   -0.034</td> <td> 0.973</td> <td>  -14.542</td> <td>   14.051</td>\n",
       "</tr>\n",
       "<tr>\n",
       "  <th>ar.L8</th>    <td>   -0.1998</td> <td>    9.522</td> <td>   -0.021</td> <td> 0.983</td> <td>  -18.862</td> <td>   18.463</td>\n",
       "</tr>\n",
       "<tr>\n",
       "  <th>ar.L9</th>    <td>    0.0604</td> <td>   10.340</td> <td>    0.006</td> <td> 0.995</td> <td>  -20.206</td> <td>   20.327</td>\n",
       "</tr>\n",
       "<tr>\n",
       "  <th>ar.L10</th>   <td>    0.3492</td> <td>    4.894</td> <td>    0.071</td> <td> 0.943</td> <td>   -9.244</td> <td>    9.942</td>\n",
       "</tr>\n",
       "<tr>\n",
       "  <th>ar.L11</th>   <td>   -0.2664</td> <td>    6.177</td> <td>   -0.043</td> <td> 0.966</td> <td>  -12.373</td> <td>   11.840</td>\n",
       "</tr>\n",
       "<tr>\n",
       "  <th>ar.L12</th>   <td>    0.0291</td> <td>    1.664</td> <td>    0.018</td> <td> 0.986</td> <td>   -3.233</td> <td>    3.291</td>\n",
       "</tr>\n",
       "<tr>\n",
       "  <th>ma.L1</th>    <td>   -0.9438</td> <td>   71.366</td> <td>   -0.013</td> <td> 0.989</td> <td> -140.819</td> <td>  138.932</td>\n",
       "</tr>\n",
       "<tr>\n",
       "  <th>ma.L2</th>    <td>    0.5617</td> <td>   93.940</td> <td>    0.006</td> <td> 0.995</td> <td> -183.556</td> <td>  184.680</td>\n",
       "</tr>\n",
       "<tr>\n",
       "  <th>ma.L3</th>    <td>   -0.6637</td> <td>  119.529</td> <td>   -0.006</td> <td> 0.996</td> <td> -234.936</td> <td>  233.609</td>\n",
       "</tr>\n",
       "<tr>\n",
       "  <th>ma.L4</th>    <td>    0.7954</td> <td>  150.988</td> <td>    0.005</td> <td> 0.996</td> <td> -295.135</td> <td>  296.726</td>\n",
       "</tr>\n",
       "<tr>\n",
       "  <th>ma.L5</th>    <td>   -0.6084</td> <td>  185.444</td> <td>   -0.003</td> <td> 0.997</td> <td> -364.071</td> <td>  362.855</td>\n",
       "</tr>\n",
       "<tr>\n",
       "  <th>ma.L6</th>    <td>   -0.2315</td> <td>  211.024</td> <td>   -0.001</td> <td> 0.999</td> <td> -413.831</td> <td>  413.368</td>\n",
       "</tr>\n",
       "<tr>\n",
       "  <th>ma.L7</th>    <td>    0.6593</td> <td>  202.214</td> <td>    0.003</td> <td> 0.997</td> <td> -395.673</td> <td>  396.992</td>\n",
       "</tr>\n",
       "<tr>\n",
       "  <th>ma.L8</th>    <td>   -0.9078</td> <td>  176.653</td> <td>   -0.005</td> <td> 0.996</td> <td> -347.141</td> <td>  345.325</td>\n",
       "</tr>\n",
       "<tr>\n",
       "  <th>ma.L9</th>    <td>    0.4453</td> <td>  128.625</td> <td>    0.003</td> <td> 0.997</td> <td> -251.655</td> <td>  252.545</td>\n",
       "</tr>\n",
       "<tr>\n",
       "  <th>ma.L10</th>   <td>   -0.7703</td> <td>  115.551</td> <td>   -0.007</td> <td> 0.995</td> <td> -227.245</td> <td>  225.705</td>\n",
       "</tr>\n",
       "<tr>\n",
       "  <th>ma.L11</th>   <td>    1.1103</td> <td>   84.437</td> <td>    0.013</td> <td> 0.990</td> <td> -164.384</td> <td>  166.604</td>\n",
       "</tr>\n",
       "<tr>\n",
       "  <th>ma.L12</th>   <td>   -0.4450</td> <td>   31.813</td> <td>   -0.014</td> <td> 0.989</td> <td>  -62.797</td> <td>   61.907</td>\n",
       "</tr>\n",
       "<tr>\n",
       "  <th>ar.S.L18</th> <td>   -1.0486</td> <td>    0.848</td> <td>   -1.237</td> <td> 0.216</td> <td>   -2.710</td> <td>    0.613</td>\n",
       "</tr>\n",
       "<tr>\n",
       "  <th>ar.S.L36</th> <td>   -0.5136</td> <td>    0.311</td> <td>   -1.654</td> <td> 0.098</td> <td>   -1.122</td> <td>    0.095</td>\n",
       "</tr>\n",
       "<tr>\n",
       "  <th>ma.S.L18</th> <td>   -0.0692</td> <td>   64.286</td> <td>   -0.001</td> <td> 0.999</td> <td> -126.068</td> <td>  125.929</td>\n",
       "</tr>\n",
       "<tr>\n",
       "  <th>ma.S.L36</th> <td>   -0.9246</td> <td>   64.752</td> <td>   -0.014</td> <td> 0.989</td> <td> -127.836</td> <td>  125.987</td>\n",
       "</tr>\n",
       "<tr>\n",
       "  <th>sigma2</th>   <td> 3.186e+06</td> <td>      nan</td> <td>      nan</td> <td>   nan</td> <td>      nan</td> <td>      nan</td>\n",
       "</tr>\n",
       "</table>\n",
       "<table class=\"simpletable\">\n",
       "<tr>\n",
       "  <th>Ljung-Box (L1) (Q):</th>     <td>1.03</td> <th>  Jarque-Bera (JB):  </th> <td>0.30</td>\n",
       "</tr>\n",
       "<tr>\n",
       "  <th>Prob(Q):</th>                <td>0.31</td> <th>  Prob(JB):          </th> <td>0.86</td>\n",
       "</tr>\n",
       "<tr>\n",
       "  <th>Heteroskedasticity (H):</th> <td>0.67</td> <th>  Skew:              </th> <td>0.04</td>\n",
       "</tr>\n",
       "<tr>\n",
       "  <th>Prob(H) (two-sided):</th>    <td>0.35</td> <th>  Kurtosis:          </th> <td>3.32</td>\n",
       "</tr>\n",
       "</table><br/><br/>Warnings:<br/>[1] Covariance matrix calculated using the outer product of gradients (complex-step).<br/>[2] Covariance matrix is singular or near-singular, with condition number 2.1e+25. Standard errors may be unstable."
      ],
      "text/latex": [
       "\\begin{center}\n",
       "\\begin{tabular}{lclc}\n",
       "\\toprule\n",
       "\\textbf{Dep. Variable:}          &                  y                  & \\textbf{  No. Observations:  } &     86      \\\\\n",
       "\\textbf{Model:}                  & ARIMA(12, 1, 12)x(2, 1, [1, 2], 18) & \\textbf{  Log Likelihood     } &  -629.894   \\\\\n",
       "\\textbf{Date:}                   &           Fri, 15 Sep 2023          & \\textbf{  AIC                } &  1329.788   \\\\\n",
       "\\textbf{Time:}                   &               21:20:25              & \\textbf{  BIC                } &  1406.952   \\\\\n",
       "\\textbf{Sample:}                 &                  0                  & \\textbf{  HQIC               } &  1360.322   \\\\\n",
       "\\textbf{}                        &                 - 86                & \\textbf{                     } &             \\\\\n",
       "\\textbf{Covariance Type:}        &                 opg                 & \\textbf{                     } &             \\\\\n",
       "\\bottomrule\n",
       "\\end{tabular}\n",
       "\\begin{tabular}{lcccccc}\n",
       "                  & \\textbf{coef} & \\textbf{std err} & \\textbf{z} & \\textbf{P$> |$z$|$} & \\textbf{[0.025} & \\textbf{0.975]}  \\\\\n",
       "\\midrule\n",
       "\\textbf{x1}       &    3697.7730  &     1290.188     &     2.866  &         0.004        &     1169.051    &     6226.495     \\\\\n",
       "\\textbf{x2}       &     599.2525  &     1013.212     &     0.591  &         0.554        &    -1386.606    &     2585.111     \\\\\n",
       "\\textbf{const}    &    7.753e-14  &     7.03e+04     &   1.1e-18  &         1.000        &    -1.38e+05    &     1.38e+05     \\\\\n",
       "\\textbf{x3}       &    -399.3426  &     1062.285     &    -0.376  &         0.707        &    -2481.384    &     1682.698     \\\\\n",
       "\\textbf{x4}       &       0.0001  &     7.16e+04     &  1.78e-09  &         1.000        &     -1.4e+05    &      1.4e+05     \\\\\n",
       "\\textbf{x5}       &   -1.198e+05  &     1.92e+04     &    -6.233  &         0.000        &    -1.58e+05    &    -8.22e+04     \\\\\n",
       "\\textbf{ar.L1}    &       0.1315  &       24.089     &     0.005  &         0.996        &      -47.081    &       47.344     \\\\\n",
       "\\textbf{ar.L2}    &      -0.4271  &       13.278     &    -0.032  &         0.974        &      -26.451    &       25.597     \\\\\n",
       "\\textbf{ar.L3}    &       0.1503  &       18.739     &     0.008  &         0.994        &      -36.578    &       36.878     \\\\\n",
       "\\textbf{ar.L4}    &      -0.8421  &        8.397     &    -0.100  &         0.920        &      -17.299    &       15.615     \\\\\n",
       "\\textbf{ar.L5}    &       0.1483  &       24.928     &     0.006  &         0.995        &      -48.710    &       49.006     \\\\\n",
       "\\textbf{ar.L6}    &       0.0206  &       12.629     &     0.002  &         0.999        &      -24.731    &       24.773     \\\\\n",
       "\\textbf{ar.L7}    &      -0.2456  &        7.294     &    -0.034  &         0.973        &      -14.542    &       14.051     \\\\\n",
       "\\textbf{ar.L8}    &      -0.1998  &        9.522     &    -0.021  &         0.983        &      -18.862    &       18.463     \\\\\n",
       "\\textbf{ar.L9}    &       0.0604  &       10.340     &     0.006  &         0.995        &      -20.206    &       20.327     \\\\\n",
       "\\textbf{ar.L10}   &       0.3492  &        4.894     &     0.071  &         0.943        &       -9.244    &        9.942     \\\\\n",
       "\\textbf{ar.L11}   &      -0.2664  &        6.177     &    -0.043  &         0.966        &      -12.373    &       11.840     \\\\\n",
       "\\textbf{ar.L12}   &       0.0291  &        1.664     &     0.018  &         0.986        &       -3.233    &        3.291     \\\\\n",
       "\\textbf{ma.L1}    &      -0.9438  &       71.366     &    -0.013  &         0.989        &     -140.819    &      138.932     \\\\\n",
       "\\textbf{ma.L2}    &       0.5617  &       93.940     &     0.006  &         0.995        &     -183.556    &      184.680     \\\\\n",
       "\\textbf{ma.L3}    &      -0.6637  &      119.529     &    -0.006  &         0.996        &     -234.936    &      233.609     \\\\\n",
       "\\textbf{ma.L4}    &       0.7954  &      150.988     &     0.005  &         0.996        &     -295.135    &      296.726     \\\\\n",
       "\\textbf{ma.L5}    &      -0.6084  &      185.444     &    -0.003  &         0.997        &     -364.071    &      362.855     \\\\\n",
       "\\textbf{ma.L6}    &      -0.2315  &      211.024     &    -0.001  &         0.999        &     -413.831    &      413.368     \\\\\n",
       "\\textbf{ma.L7}    &       0.6593  &      202.214     &     0.003  &         0.997        &     -395.673    &      396.992     \\\\\n",
       "\\textbf{ma.L8}    &      -0.9078  &      176.653     &    -0.005  &         0.996        &     -347.141    &      345.325     \\\\\n",
       "\\textbf{ma.L9}    &       0.4453  &      128.625     &     0.003  &         0.997        &     -251.655    &      252.545     \\\\\n",
       "\\textbf{ma.L10}   &      -0.7703  &      115.551     &    -0.007  &         0.995        &     -227.245    &      225.705     \\\\\n",
       "\\textbf{ma.L11}   &       1.1103  &       84.437     &     0.013  &         0.990        &     -164.384    &      166.604     \\\\\n",
       "\\textbf{ma.L12}   &      -0.4450  &       31.813     &    -0.014  &         0.989        &      -62.797    &       61.907     \\\\\n",
       "\\textbf{ar.S.L18} &      -1.0486  &        0.848     &    -1.237  &         0.216        &       -2.710    &        0.613     \\\\\n",
       "\\textbf{ar.S.L36} &      -0.5136  &        0.311     &    -1.654  &         0.098        &       -1.122    &        0.095     \\\\\n",
       "\\textbf{ma.S.L18} &      -0.0692  &       64.286     &    -0.001  &         0.999        &     -126.068    &      125.929     \\\\\n",
       "\\textbf{ma.S.L36} &      -0.9246  &       64.752     &    -0.014  &         0.989        &     -127.836    &      125.987     \\\\\n",
       "\\textbf{sigma2}   &    3.186e+06  &          nan     &       nan  &           nan        &          nan    &          nan     \\\\\n",
       "\\bottomrule\n",
       "\\end{tabular}\n",
       "\\begin{tabular}{lclc}\n",
       "\\textbf{Ljung-Box (L1) (Q):}     & 1.03 & \\textbf{  Jarque-Bera (JB):  } & 0.30  \\\\\n",
       "\\textbf{Prob(Q):}                & 0.31 & \\textbf{  Prob(JB):          } & 0.86  \\\\\n",
       "\\textbf{Heteroskedasticity (H):} & 0.67 & \\textbf{  Skew:              } & 0.04  \\\\\n",
       "\\textbf{Prob(H) (two-sided):}    & 0.35 & \\textbf{  Kurtosis:          } & 3.32  \\\\\n",
       "\\bottomrule\n",
       "\\end{tabular}\n",
       "%\\caption{SARIMAX Results}\n",
       "\\end{center}\n",
       "\n",
       "Warnings: \\newline\n",
       " [1] Covariance matrix calculated using the outer product of gradients (complex-step). \\newline\n",
       " [2] Covariance matrix is singular or near-singular, with condition number 2.1e+25. Standard errors may be unstable."
      ],
      "text/plain": [
       "<class 'statsmodels.iolib.summary.Summary'>\n",
       "\"\"\"\n",
       "                                        SARIMAX Results                                        \n",
       "===============================================================================================\n",
       "Dep. Variable:                                       y   No. Observations:                   86\n",
       "Model:             ARIMA(12, 1, 12)x(2, 1, [1, 2], 18)   Log Likelihood                -629.894\n",
       "Date:                                 Fri, 15 Sep 2023   AIC                           1329.788\n",
       "Time:                                         21:20:25   BIC                           1406.952\n",
       "Sample:                                              0   HQIC                          1360.322\n",
       "                                                  - 86                                         \n",
       "Covariance Type:                                   opg                                         \n",
       "==============================================================================\n",
       "                 coef    std err          z      P>|z|      [0.025      0.975]\n",
       "------------------------------------------------------------------------------\n",
       "x1          3697.7730   1290.188      2.866      0.004    1169.051    6226.495\n",
       "x2           599.2525   1013.212      0.591      0.554   -1386.606    2585.111\n",
       "const       7.753e-14   7.03e+04    1.1e-18      1.000   -1.38e+05    1.38e+05\n",
       "x3          -399.3426   1062.285     -0.376      0.707   -2481.384    1682.698\n",
       "x4             0.0001   7.16e+04   1.78e-09      1.000    -1.4e+05     1.4e+05\n",
       "x5         -1.198e+05   1.92e+04     -6.233      0.000   -1.58e+05   -8.22e+04\n",
       "ar.L1          0.1315     24.089      0.005      0.996     -47.081      47.344\n",
       "ar.L2         -0.4271     13.278     -0.032      0.974     -26.451      25.597\n",
       "ar.L3          0.1503     18.739      0.008      0.994     -36.578      36.878\n",
       "ar.L4         -0.8421      8.397     -0.100      0.920     -17.299      15.615\n",
       "ar.L5          0.1483     24.928      0.006      0.995     -48.710      49.006\n",
       "ar.L6          0.0206     12.629      0.002      0.999     -24.731      24.773\n",
       "ar.L7         -0.2456      7.294     -0.034      0.973     -14.542      14.051\n",
       "ar.L8         -0.1998      9.522     -0.021      0.983     -18.862      18.463\n",
       "ar.L9          0.0604     10.340      0.006      0.995     -20.206      20.327\n",
       "ar.L10         0.3492      4.894      0.071      0.943      -9.244       9.942\n",
       "ar.L11        -0.2664      6.177     -0.043      0.966     -12.373      11.840\n",
       "ar.L12         0.0291      1.664      0.018      0.986      -3.233       3.291\n",
       "ma.L1         -0.9438     71.366     -0.013      0.989    -140.819     138.932\n",
       "ma.L2          0.5617     93.940      0.006      0.995    -183.556     184.680\n",
       "ma.L3         -0.6637    119.529     -0.006      0.996    -234.936     233.609\n",
       "ma.L4          0.7954    150.988      0.005      0.996    -295.135     296.726\n",
       "ma.L5         -0.6084    185.444     -0.003      0.997    -364.071     362.855\n",
       "ma.L6         -0.2315    211.024     -0.001      0.999    -413.831     413.368\n",
       "ma.L7          0.6593    202.214      0.003      0.997    -395.673     396.992\n",
       "ma.L8         -0.9078    176.653     -0.005      0.996    -347.141     345.325\n",
       "ma.L9          0.4453    128.625      0.003      0.997    -251.655     252.545\n",
       "ma.L10        -0.7703    115.551     -0.007      0.995    -227.245     225.705\n",
       "ma.L11         1.1103     84.437      0.013      0.990    -164.384     166.604\n",
       "ma.L12        -0.4450     31.813     -0.014      0.989     -62.797      61.907\n",
       "ar.S.L18      -1.0486      0.848     -1.237      0.216      -2.710       0.613\n",
       "ar.S.L36      -0.5136      0.311     -1.654      0.098      -1.122       0.095\n",
       "ma.S.L18      -0.0692     64.286     -0.001      0.999    -126.068     125.929\n",
       "ma.S.L36      -0.9246     64.752     -0.014      0.989    -127.836     125.987\n",
       "sigma2      3.186e+06        nan        nan        nan         nan         nan\n",
       "===================================================================================\n",
       "Ljung-Box (L1) (Q):                   1.03   Jarque-Bera (JB):                 0.30\n",
       "Prob(Q):                              0.31   Prob(JB):                         0.86\n",
       "Heteroskedasticity (H):               0.67   Skew:                             0.04\n",
       "Prob(H) (two-sided):                  0.35   Kurtosis:                         3.32\n",
       "===================================================================================\n",
       "\n",
       "Warnings:\n",
       "[1] Covariance matrix calculated using the outer product of gradients (complex-step).\n",
       "[2] Covariance matrix is singular or near-singular, with condition number 2.1e+25. Standard errors may be unstable.\n",
       "\"\"\""
      ]
     },
     "execution_count": 17,
     "metadata": {},
     "output_type": "execute_result"
    }
   ],
   "source": [
    "sarima_model = ARIMA(\n",
    "    p=12,\n",
    "    d=1,\n",
    "    q=12,\n",
    "    trend=None,\n",
    "    random_state=1999,\n",
    "    seasonal_order=(2, 1, 2, 18),\n",
    "    add_encoders={\n",
    "        \"cyclic\": {\"future\": [\"month\"]},\n",
    "        \"datetime_attribute\": {\"future\": [\"hour\", \"dayofweek\"]},\n",
    "        \"position\": {\"future\": [\"relative\"]},\n",
    "        \"custom\": {\"future\": [lambda idx: (idx.year - 1950) / 50]},\n",
    "        \"transformer\": Scaler(),\n",
    "    },\n",
    ")\n",
    "\n",
    "sarima_model.fit(train_series)\n",
    "sarima_model.model.summary()"
   ]
  },
  {
   "cell_type": "code",
   "execution_count": 18,
   "metadata": {},
   "outputs": [
    {
     "data": {
      "image/png": "[encoded data removed]",
      "text/plain": [
       "<Figure size 1800x600 with 1 Axes>"
      ]
     },
     "metadata": {},
     "output_type": "display_data"
    }
   ],
   "source": [
    "horizan = 18\n",
    "test_series_ = test_series[0:horizan]\n",
    "plt.figure(figsize=(18, 6))\n",
    "\n",
    "forcast_arima = sarima_model.predict(horizan)\n",
    "sarima_model.predict(horizan).plot(marker=\"o\", label=\"predicted\")\n",
    "test_series_.plot(marker=\"o\", label=\"Actual/Ground truth\")\n",
    "# Add title and labels\n",
    "plt.title(\"Ground truth vs predicted\")\n",
    "plt.xlabel(\"Date\")\n",
    "plt.ylabel(\"net_sales_total\")\n",
    "plt.xticks(\n",
    "    forcast_arima.time_index, forcast_arima.time_index.strftime(\"%Y-%m-%d\"), rotation=90\n",
    ")\n",
    "\n",
    "# Add grid lines\n",
    "plt.grid(True)\n",
    "\n",
    "# Add legend\n",
    "plt.legend()\n",
    "\n",
    "# Display the plot\n",
    "plt.savefig(\n",
    "    f\"../ProcessedData/Results/ARIMA/highcorrelated_features/ARIMA_Plots/utilized_all.png\"\n",
    ")\n",
    "plt.show()"
   ]
  },
  {
   "cell_type": "code",
   "execution_count": 21,
   "metadata": {},
   "outputs": [],
   "source": [
    "import os\n",
    "import numpy as np\n",
    "import matplotlib.pyplot as plt\n",
    "import pandas as pd\n",
    "from tqdm import tqdm\n",
    "\n",
    "\n",
    "# Function to predict and evaluate\n",
    "def predict_and_evaluate(\n",
    "    window_size,\n",
    "    prediction_horizon,\n",
    "    slide_step,\n",
    "    test_series,\n",
    "    arima_model,\n",
    "    result_plot_path,\n",
    "):\n",
    "    num_predictions = len(test_series) - window_size - prediction_horizon + 1\n",
    "\n",
    "    meta_information_evaluation = {\n",
    "        \"Iterations\": [],\n",
    "        \"MAE\": [],\n",
    "        \"RMSE\": [],\n",
    "        \"MAPE\": [],\n",
    "        \"MSE\": [],\n",
    "        \"input_window_size\": [],\n",
    "        \"horizon\": [],\n",
    "        \"stride\": [],\n",
    "    }\n",
    "\n",
    "    try:\n",
    "        for i in tqdm(range(0, num_predictions, slide_step)):\n",
    "            input_window = test_series[i : i + window_size]\n",
    "            ground_truth = test_series[\n",
    "                i + window_size : i + window_size + prediction_horizon\n",
    "            ]\n",
    "            forecast = arima_model.predict(n=prediction_horizon, series=input_window)\n",
    "            actual = ground_truth.values().flatten().tolist()\n",
    "            predicted = forecast.values().flatten().tolist()\n",
    "            metrics = calculate_metrics(actual, predicted)\n",
    "\n",
    "            meta_information_evaluation[\"Iterations\"].append(i)\n",
    "            meta_information_evaluation[\"MAE\"].append(metrics[\"MAE\"])\n",
    "            meta_information_evaluation[\"RMSE\"].append(metrics[\"RMSE\"])\n",
    "            meta_information_evaluation[\"MAPE\"].append(metrics[\"MAPE\"])\n",
    "            meta_information_evaluation[\"MSE\"].append(metrics[\"MSE\"])\n",
    "            meta_information_evaluation[\"input_window_size\"].append(window_size)\n",
    "            meta_information_evaluation[\"horizon\"].append(prediction_horizon)\n",
    "            meta_information_evaluation[\"stride\"].append(slide_step)\n",
    "\n",
    "            bypass_information = {\n",
    "                \"slide_step\": slide_step,\n",
    "                \"window_size\": window_size,\n",
    "                \"horizon\": prediction_horizon,\n",
    "            }\n",
    "            create_plots(\n",
    "                input_window,\n",
    "                forecast,\n",
    "                ground_truth,\n",
    "                result_plot_path,\n",
    "                bypass_information,\n",
    "            )\n",
    "\n",
    "        evalaution_df = pd.DataFrame.from_dict(meta_information_evaluation)\n",
    "\n",
    "        return evalaution_df\n",
    "\n",
    "    except Exception as e:\n",
    "        print(\"Error Occurred in fuction predict_and_evaluate():\", e)\n",
    "        evalaution_df = pd.DataFrame.from_dict(meta_information_evaluation)\n",
    "\n",
    "        return evalaution_df\n",
    "\n",
    "\n",
    "# Function to create plots\n",
    "def create_plots(\n",
    "    input_window, forecast, ground_truth, result_plot_path, bypass_information\n",
    "):\n",
    "    plt.figure(figsize=(30, 6))\n",
    "    input_window.plot(label=\"Input Data\", marker=\"o\")\n",
    "    forecast.plot(label=\"Predicted\", marker=\"o\")\n",
    "    ground_truth.plot(label=\"Ground Truth\", marker=\"o\")\n",
    "\n",
    "    combined_time_index = input_window.time_index.append(forecast.time_index).append(\n",
    "        ground_truth.time_index\n",
    "    )\n",
    "    starting_date_of_input_data = input_window.time_index[0].strftime(\"%Y-%m-%d\")\n",
    "    ending_date_of_input_data = input_window.time_index[-1].strftime(\"%Y-%m-%d\")\n",
    "    starting_date_predicted = forecast.time_index[0].strftime(\"%Y-%m-%d\")\n",
    "    ending_date_of_predicted = forecast.time_index[-1].strftime(\"%Y-%m-%d\")\n",
    "\n",
    "    plt.xticks(\n",
    "        combined_time_index, combined_time_index.strftime(\"%Y-%m-%d\"), rotation=90\n",
    "    )\n",
    "    plt.title(\n",
    "        f\"Results of Input Data from {starting_date_of_input_data} to {ending_date_of_input_data} & Evaluation on from {starting_date_predicted} to {ending_date_of_predicted}\",\n",
    "        fontsize=16,\n",
    "    )\n",
    "    plt.ylabel(\"Amazon Close Price\", fontsize=14)\n",
    "    plt.xlabel(\"Dates\", fontsize=14)\n",
    "    plt.legend()\n",
    "\n",
    "    plot_filename = f\"{result_plot_path}/{bypass_information['window_size']}_{bypass_information['horizon']}_{bypass_information['slide_step']}.png\"\n",
    "    plt.savefig(plot_filename)\n",
    "    plt.close()\n",
    "    # plt.show()"
   ]
  },
  {
   "cell_type": "markdown",
   "metadata": {},
   "source": [
    "# Model Evaluation"
   ]
  },
  {
   "cell_type": "code",
   "execution_count": 22,
   "metadata": {},
   "outputs": [],
   "source": [
    "def model_evaluation(model_name, model_object, test_series, FileName):\n",
    "    result_path = f\"../ProcessedData/Results/{model_name}/{FileName}\"\n",
    "    result_plot_path = (\n",
    "        f\"../ProcessedData/Results/{model_name}/{FileName}/{model_name}_Plots\"\n",
    "    )\n",
    "    os.makedirs(result_path, exist_ok=True)\n",
    "    os.makedirs(result_plot_path, exist_ok=True)\n",
    "\n",
    "    # Set your parameters\n",
    "    window_sizes = [6, 12, 18]\n",
    "    prediction_horizons = [6, 12, 18]\n",
    "    slide_steps = [2, 5, 8]\n",
    "\n",
    "    test_series = test_series\n",
    "    model = model_object\n",
    "\n",
    "    for window_size in window_sizes:\n",
    "        for prediction_horizon in prediction_horizons:\n",
    "            for slide_step in slide_steps:\n",
    "                print(\n",
    "                    f\"Iteration : Window size : {window_size} Horizan: {prediction_horizon}, Stride : {slide_step}\"\n",
    "                )\n",
    "                evaluation_df = predict_and_evaluate(\n",
    "                    window_size,\n",
    "                    prediction_horizon,\n",
    "                    slide_step,\n",
    "                    test_series,\n",
    "                    model,\n",
    "                    result_plot_path,\n",
    "                )\n",
    "                evaluation_df.to_csv(\n",
    "                    f\"{result_path}/window_size_{window_size}_horizon_{prediction_horizon}_stride_{slide_step}.csv\",\n",
    "                    index=False,\n",
    "                )\n",
    "\n",
    "                print(\n",
    "                    f\"Window_size_{window_size}_prediction_horizon_{prediction_horizon}_slide_step_{slide_step} - Evaluation completed.\"\n",
    "                )\n",
    "        #         break\n",
    "        #     break\n",
    "        # break"
   ]
  },
  {
   "cell_type": "markdown",
   "metadata": {},
   "source": [
    "## SARIMA Model Evaluation"
   ]
  },
  {
   "cell_type": "code",
   "execution_count": 23,
   "metadata": {},
   "outputs": [
    {
     "name": "stdout",
     "output_type": "stream",
     "text": [
      "Iteration : Window size : 6 Horizan: 6, Stride : 2\n"
     ]
    },
    {
     "name": "stderr",
     "output_type": "stream",
     "text": [
      "100%|██████████| 6/6 [00:05<00:00,  1.19it/s]\n"
     ]
    },
    {
     "name": "stdout",
     "output_type": "stream",
     "text": [
      "Window_size_6_prediction_horizon_6_slide_step_2 - Evaluation completed.\n",
      "Iteration : Window size : 6 Horizan: 6, Stride : 5\n"
     ]
    },
    {
     "name": "stderr",
     "output_type": "stream",
     "text": [
      "100%|██████████| 3/3 [00:02<00:00,  1.15it/s]\n"
     ]
    },
    {
     "name": "stdout",
     "output_type": "stream",
     "text": [
      "Window_size_6_prediction_horizon_6_slide_step_5 - Evaluation completed.\n",
      "Iteration : Window size : 6 Horizan: 6, Stride : 8\n"
     ]
    },
    {
     "name": "stderr",
     "output_type": "stream",
     "text": [
      "100%|██████████| 2/2 [00:01<00:00,  1.03it/s]\n"
     ]
    },
    {
     "name": "stdout",
     "output_type": "stream",
     "text": [
      "Window_size_6_prediction_horizon_6_slide_step_8 - Evaluation completed.\n",
      "Iteration : Window size : 6 Horizan: 12, Stride : 2\n"
     ]
    },
    {
     "name": "stderr",
     "output_type": "stream",
     "text": [
      "100%|██████████| 3/3 [00:02<00:00,  1.02it/s]\n"
     ]
    },
    {
     "name": "stdout",
     "output_type": "stream",
     "text": [
      "Window_size_6_prediction_horizon_12_slide_step_2 - Evaluation completed.\n",
      "Iteration : Window size : 6 Horizan: 12, Stride : 5\n"
     ]
    },
    {
     "name": "stderr",
     "output_type": "stream",
     "text": [
      "100%|██████████| 1/1 [00:01<00:00,  1.08s/it]\n"
     ]
    },
    {
     "name": "stdout",
     "output_type": "stream",
     "text": [
      "Window_size_6_prediction_horizon_12_slide_step_5 - Evaluation completed.\n",
      "Iteration : Window size : 6 Horizan: 12, Stride : 8\n"
     ]
    },
    {
     "name": "stderr",
     "output_type": "stream",
     "text": [
      "100%|██████████| 1/1 [00:01<00:00,  1.28s/it]\n"
     ]
    },
    {
     "name": "stdout",
     "output_type": "stream",
     "text": [
      "Window_size_6_prediction_horizon_12_slide_step_8 - Evaluation completed.\n",
      "Iteration : Window size : 6 Horizan: 18, Stride : 2\n"
     ]
    },
    {
     "name": "stderr",
     "output_type": "stream",
     "text": [
      "0it [00:00, ?it/s]\n"
     ]
    },
    {
     "name": "stdout",
     "output_type": "stream",
     "text": [
      "Window_size_6_prediction_horizon_18_slide_step_2 - Evaluation completed.\n",
      "Iteration : Window size : 6 Horizan: 18, Stride : 5\n"
     ]
    },
    {
     "name": "stderr",
     "output_type": "stream",
     "text": [
      "0it [00:00, ?it/s]\n"
     ]
    },
    {
     "name": "stdout",
     "output_type": "stream",
     "text": [
      "Window_size_6_prediction_horizon_18_slide_step_5 - Evaluation completed.\n",
      "Iteration : Window size : 6 Horizan: 18, Stride : 8\n"
     ]
    },
    {
     "name": "stderr",
     "output_type": "stream",
     "text": [
      "0it [00:00, ?it/s]\n"
     ]
    },
    {
     "name": "stdout",
     "output_type": "stream",
     "text": [
      "Window_size_6_prediction_horizon_18_slide_step_8 - Evaluation completed.\n",
      "Iteration : Window size : 12 Horizan: 6, Stride : 2\n"
     ]
    },
    {
     "name": "stderr",
     "output_type": "stream",
     "text": [
      "100%|██████████| 3/3 [00:03<00:00,  1.05s/it]\n"
     ]
    },
    {
     "name": "stdout",
     "output_type": "stream",
     "text": [
      "Window_size_12_prediction_horizon_6_slide_step_2 - Evaluation completed.\n",
      "Iteration : Window size : 12 Horizan: 6, Stride : 5\n"
     ]
    },
    {
     "name": "stderr",
     "output_type": "stream",
     "text": [
      "100%|██████████| 1/1 [00:00<00:00,  1.34it/s]\n"
     ]
    },
    {
     "name": "stdout",
     "output_type": "stream",
     "text": [
      "Window_size_12_prediction_horizon_6_slide_step_5 - Evaluation completed.\n",
      "Iteration : Window size : 12 Horizan: 6, Stride : 8\n"
     ]
    },
    {
     "name": "stderr",
     "output_type": "stream",
     "text": [
      "100%|██████████| 1/1 [00:00<00:00,  1.35it/s]\n"
     ]
    },
    {
     "name": "stdout",
     "output_type": "stream",
     "text": [
      "Window_size_12_prediction_horizon_6_slide_step_8 - Evaluation completed.\n",
      "Iteration : Window size : 12 Horizan: 12, Stride : 2\n"
     ]
    },
    {
     "name": "stderr",
     "output_type": "stream",
     "text": [
      "0it [00:00, ?it/s]\n"
     ]
    },
    {
     "name": "stdout",
     "output_type": "stream",
     "text": [
      "Window_size_12_prediction_horizon_12_slide_step_2 - Evaluation completed.\n",
      "Iteration : Window size : 12 Horizan: 12, Stride : 5\n"
     ]
    },
    {
     "name": "stderr",
     "output_type": "stream",
     "text": [
      "0it [00:00, ?it/s]\n"
     ]
    },
    {
     "name": "stdout",
     "output_type": "stream",
     "text": [
      "Window_size_12_prediction_horizon_12_slide_step_5 - Evaluation completed.\n",
      "Iteration : Window size : 12 Horizan: 12, Stride : 8\n"
     ]
    },
    {
     "name": "stderr",
     "output_type": "stream",
     "text": [
      "0it [00:00, ?it/s]\n"
     ]
    },
    {
     "name": "stdout",
     "output_type": "stream",
     "text": [
      "Window_size_12_prediction_horizon_12_slide_step_8 - Evaluation completed.\n",
      "Iteration : Window size : 12 Horizan: 18, Stride : 2\n"
     ]
    },
    {
     "name": "stderr",
     "output_type": "stream",
     "text": [
      "0it [00:00, ?it/s]\n"
     ]
    },
    {
     "name": "stdout",
     "output_type": "stream",
     "text": [
      "Window_size_12_prediction_horizon_18_slide_step_2 - Evaluation completed.\n",
      "Iteration : Window size : 12 Horizan: 18, Stride : 5\n"
     ]
    },
    {
     "name": "stderr",
     "output_type": "stream",
     "text": [
      "0it [00:00, ?it/s]\n"
     ]
    },
    {
     "name": "stdout",
     "output_type": "stream",
     "text": [
      "Window_size_12_prediction_horizon_18_slide_step_5 - Evaluation completed.\n",
      "Iteration : Window size : 12 Horizan: 18, Stride : 8\n"
     ]
    },
    {
     "name": "stderr",
     "output_type": "stream",
     "text": [
      "0it [00:00, ?it/s]\n"
     ]
    },
    {
     "name": "stdout",
     "output_type": "stream",
     "text": [
      "Window_size_12_prediction_horizon_18_slide_step_8 - Evaluation completed.\n",
      "Iteration : Window size : 18 Horizan: 6, Stride : 2\n"
     ]
    },
    {
     "name": "stderr",
     "output_type": "stream",
     "text": [
      "0it [00:00, ?it/s]\n"
     ]
    },
    {
     "name": "stdout",
     "output_type": "stream",
     "text": [
      "Window_size_18_prediction_horizon_6_slide_step_2 - Evaluation completed.\n",
      "Iteration : Window size : 18 Horizan: 6, Stride : 5\n"
     ]
    },
    {
     "name": "stderr",
     "output_type": "stream",
     "text": [
      "0it [00:00, ?it/s]\n"
     ]
    },
    {
     "name": "stdout",
     "output_type": "stream",
     "text": [
      "Window_size_18_prediction_horizon_6_slide_step_5 - Evaluation completed.\n",
      "Iteration : Window size : 18 Horizan: 6, Stride : 8\n"
     ]
    },
    {
     "name": "stderr",
     "output_type": "stream",
     "text": [
      "0it [00:00, ?it/s]\n"
     ]
    },
    {
     "name": "stdout",
     "output_type": "stream",
     "text": [
      "Window_size_18_prediction_horizon_6_slide_step_8 - Evaluation completed.\n",
      "Iteration : Window size : 18 Horizan: 12, Stride : 2\n"
     ]
    },
    {
     "name": "stderr",
     "output_type": "stream",
     "text": [
      "0it [00:00, ?it/s]\n"
     ]
    },
    {
     "name": "stdout",
     "output_type": "stream",
     "text": [
      "Window_size_18_prediction_horizon_12_slide_step_2 - Evaluation completed.\n",
      "Iteration : Window size : 18 Horizan: 12, Stride : 5\n"
     ]
    },
    {
     "name": "stderr",
     "output_type": "stream",
     "text": [
      "0it [00:00, ?it/s]\n"
     ]
    },
    {
     "name": "stdout",
     "output_type": "stream",
     "text": [
      "Window_size_18_prediction_horizon_12_slide_step_5 - Evaluation completed.\n",
      "Iteration : Window size : 18 Horizan: 12, Stride : 8\n"
     ]
    },
    {
     "name": "stderr",
     "output_type": "stream",
     "text": [
      "0it [00:00, ?it/s]\n"
     ]
    },
    {
     "name": "stdout",
     "output_type": "stream",
     "text": [
      "Window_size_18_prediction_horizon_12_slide_step_8 - Evaluation completed.\n",
      "Iteration : Window size : 18 Horizan: 18, Stride : 2\n"
     ]
    },
    {
     "name": "stderr",
     "output_type": "stream",
     "text": [
      "0it [00:00, ?it/s]\n"
     ]
    },
    {
     "name": "stdout",
     "output_type": "stream",
     "text": [
      "Window_size_18_prediction_horizon_18_slide_step_2 - Evaluation completed.\n",
      "Iteration : Window size : 18 Horizan: 18, Stride : 5\n"
     ]
    },
    {
     "name": "stderr",
     "output_type": "stream",
     "text": [
      "0it [00:00, ?it/s]\n"
     ]
    },
    {
     "name": "stdout",
     "output_type": "stream",
     "text": [
      "Window_size_18_prediction_horizon_18_slide_step_5 - Evaluation completed.\n",
      "Iteration : Window size : 18 Horizan: 18, Stride : 8\n"
     ]
    },
    {
     "name": "stderr",
     "output_type": "stream",
     "text": [
      "0it [00:00, ?it/s]"
     ]
    },
    {
     "name": "stdout",
     "output_type": "stream",
     "text": [
      "Window_size_18_prediction_horizon_18_slide_step_8 - Evaluation completed.\n"
     ]
    },
    {
     "name": "stderr",
     "output_type": "stream",
     "text": [
      "\n"
     ]
    }
   ],
   "source": [
    "model_name = \"SARIMA\"\n",
    "model_object = sarima_model\n",
    "FileName = fileName\n",
    "test_series = test_series\n",
    "model_evaluation(model_name, model_object, test_series, FileName)"
   ]
  },
  {
   "cell_type": "markdown",
   "metadata": {},
   "source": [
    "# Evaluate metrics"
   ]
  },
  {
   "cell_type": "code",
   "execution_count": 28,
   "metadata": {},
   "outputs": [
    {
     "data": {
      "text/html": [
       "<div>\n",
       "<style scoped>\n",
       "    .dataframe tbody tr th:only-of-type {\n",
       "        vertical-align: middle;\n",
       "    }\n",
       "\n",
       "    .dataframe tbody tr th {\n",
       "        vertical-align: top;\n",
       "    }\n",
       "\n",
       "    .dataframe thead th {\n",
       "        text-align: right;\n",
       "    }\n",
       "</style>\n",
       "<table border=\"1\" class=\"dataframe\">\n",
       "  <thead>\n",
       "    <tr style=\"text-align: right;\">\n",
       "      <th></th>\n",
       "      <th>window_size</th>\n",
       "      <th>horizan</th>\n",
       "      <th>stride</th>\n",
       "      <th>AVG_MAE</th>\n",
       "      <th>AVG_MSE</th>\n",
       "      <th>AVG_RMSE</th>\n",
       "      <th>AVG_MAPE</th>\n",
       "    </tr>\n",
       "  </thead>\n",
       "  <tbody>\n",
       "    <tr>\n",
       "      <th>23</th>\n",
       "      <td>12</td>\n",
       "      <td>6</td>\n",
       "      <td>2</td>\n",
       "      <td>10855.181786</td>\n",
       "      <td>2.218483e+08</td>\n",
       "      <td>14846.134275</td>\n",
       "      <td>42.141962</td>\n",
       "    </tr>\n",
       "    <tr>\n",
       "      <th>13</th>\n",
       "      <td>12</td>\n",
       "      <td>6</td>\n",
       "      <td>5</td>\n",
       "      <td>10310.593831</td>\n",
       "      <td>1.786404e+08</td>\n",
       "      <td>13365.640666</td>\n",
       "      <td>44.405902</td>\n",
       "    </tr>\n",
       "    <tr>\n",
       "      <th>0</th>\n",
       "      <td>12</td>\n",
       "      <td>6</td>\n",
       "      <td>8</td>\n",
       "      <td>10310.593831</td>\n",
       "      <td>1.786404e+08</td>\n",
       "      <td>13365.640666</td>\n",
       "      <td>44.405902</td>\n",
       "    </tr>\n",
       "    <tr>\n",
       "      <th>19</th>\n",
       "      <td>6</td>\n",
       "      <td>12</td>\n",
       "      <td>2</td>\n",
       "      <td>28024.183079</td>\n",
       "      <td>1.056891e+09</td>\n",
       "      <td>32507.635601</td>\n",
       "      <td>129.206317</td>\n",
       "    </tr>\n",
       "    <tr>\n",
       "      <th>9</th>\n",
       "      <td>6</td>\n",
       "      <td>12</td>\n",
       "      <td>5</td>\n",
       "      <td>27650.073007</td>\n",
       "      <td>1.081246e+09</td>\n",
       "      <td>32882.307635</td>\n",
       "      <td>125.204871</td>\n",
       "    </tr>\n",
       "    <tr>\n",
       "      <th>22</th>\n",
       "      <td>6</td>\n",
       "      <td>12</td>\n",
       "      <td>8</td>\n",
       "      <td>27650.073007</td>\n",
       "      <td>1.081246e+09</td>\n",
       "      <td>32882.307635</td>\n",
       "      <td>125.204871</td>\n",
       "    </tr>\n",
       "    <tr>\n",
       "      <th>17</th>\n",
       "      <td>6</td>\n",
       "      <td>6</td>\n",
       "      <td>2</td>\n",
       "      <td>35382.421244</td>\n",
       "      <td>1.717726e+09</td>\n",
       "      <td>41259.033101</td>\n",
       "      <td>154.013834</td>\n",
       "    </tr>\n",
       "    <tr>\n",
       "      <th>16</th>\n",
       "      <td>6</td>\n",
       "      <td>6</td>\n",
       "      <td>5</td>\n",
       "      <td>35973.711602</td>\n",
       "      <td>1.792509e+09</td>\n",
       "      <td>42160.245321</td>\n",
       "      <td>146.412696</td>\n",
       "    </tr>\n",
       "    <tr>\n",
       "      <th>5</th>\n",
       "      <td>6</td>\n",
       "      <td>6</td>\n",
       "      <td>8</td>\n",
       "      <td>35187.730503</td>\n",
       "      <td>1.763301e+09</td>\n",
       "      <td>41929.945602</td>\n",
       "      <td>148.406627</td>\n",
       "    </tr>\n",
       "  </tbody>\n",
       "</table>\n",
       "</div>"
      ],
      "text/plain": [
       "   window_size horizan stride       AVG_MAE       AVG_MSE      AVG_RMSE  \\\n",
       "23          12       6      2  10855.181786  2.218483e+08  14846.134275   \n",
       "13          12       6      5  10310.593831  1.786404e+08  13365.640666   \n",
       "0           12       6      8  10310.593831  1.786404e+08  13365.640666   \n",
       "19           6      12      2  28024.183079  1.056891e+09  32507.635601   \n",
       "9            6      12      5  27650.073007  1.081246e+09  32882.307635   \n",
       "22           6      12      8  27650.073007  1.081246e+09  32882.307635   \n",
       "17           6       6      2  35382.421244  1.717726e+09  41259.033101   \n",
       "16           6       6      5  35973.711602  1.792509e+09  42160.245321   \n",
       "5            6       6      8  35187.730503  1.763301e+09  41929.945602   \n",
       "\n",
       "      AVG_MAPE  \n",
       "23   42.141962  \n",
       "13   44.405902  \n",
       "0    44.405902  \n",
       "19  129.206317  \n",
       "9   125.204871  \n",
       "22  125.204871  \n",
       "17  154.013834  \n",
       "16  146.412696  \n",
       "5   148.406627  "
      ]
     },
     "execution_count": 28,
     "metadata": {},
     "output_type": "execute_result"
    }
   ],
   "source": [
    "import pandas as pd\n",
    "import glob\n",
    "\n",
    "\n",
    "def aggregate_evaluation_results(file_pattern):\n",
    "    eval_dict = {\n",
    "        \"window_size\": [],\n",
    "        \"horizan\": [],\n",
    "        \"stride\": [],\n",
    "        \"AVG_MAE\": [],\n",
    "        \"AVG_MSE\": [],\n",
    "        \"AVG_RMSE\": [],\n",
    "        \"AVG_MAPE\": [],\n",
    "    }\n",
    "\n",
    "    paths = glob.glob(file_pattern)\n",
    "\n",
    "    for path in paths:\n",
    "        window_size = path.split(\"/\")[-1].split(\"_\")[2]\n",
    "        horizan = path.split(\"/\")[-1].split(\"_\")[4]\n",
    "        stride = path.split(\"/\")[-1].split(\"_\")[6].split(\".\")[0]\n",
    "\n",
    "        df = pd.read_csv(path)\n",
    "        eval_dict[\"window_size\"].append(window_size)\n",
    "        eval_dict[\"horizan\"].append(horizan)\n",
    "        eval_dict[\"stride\"].append(stride)\n",
    "\n",
    "        eval_dict[\"AVG_MAE\"].append(df[\"MAE\"].mean())\n",
    "        eval_dict[\"AVG_MSE\"].append(df[\"MSE\"].mean())\n",
    "        eval_dict[\"AVG_RMSE\"].append(df[\"RMSE\"].mean())\n",
    "        eval_dict[\"AVG_MAPE\"].append(df[\"MAPE\"].mean())\n",
    "\n",
    "    eval_df = pd.DataFrame.from_dict(eval_dict)\n",
    "    eval_df = eval_df.dropna()\n",
    "    eval_df.sort_values(\n",
    "        [\"window_size\", \"horizan\", \"stride\"], inplace=True, ascending=True\n",
    "    )\n",
    "\n",
    "    return eval_df\n",
    "\n",
    "\n",
    "# Example usage\n",
    "file_pattern = f\"../ProcessedData/Results/SARIMA/{fileName}/*.csv\"\n",
    "result_df = aggregate_evaluation_results(file_pattern)\n",
    "# result_df = result_df[\n",
    "#     [\"window_size\", \"horizan\", \"stride\", \"AVG_MAE\", \"AVG_MSE\", \"AVG_RMSE\"]\n",
    "# ]\n",
    "result_df"
   ]
  },
  {
   "cell_type": "code",
   "execution_count": 29,
   "metadata": {},
   "outputs": [
    {
     "name": "stdout",
     "output_type": "stream",
     "text": [
      "('12', '6')\n"
     ]
    },
    {
     "data": {
      "text/html": [
       "<div>\n",
       "<style scoped>\n",
       "    .dataframe tbody tr th:only-of-type {\n",
       "        vertical-align: middle;\n",
       "    }\n",
       "\n",
       "    .dataframe tbody tr th {\n",
       "        vertical-align: top;\n",
       "    }\n",
       "\n",
       "    .dataframe thead th {\n",
       "        text-align: right;\n",
       "    }\n",
       "</style>\n",
       "<table border=\"1\" class=\"dataframe\">\n",
       "  <thead>\n",
       "    <tr style=\"text-align: right;\">\n",
       "      <th></th>\n",
       "      <th>window_size</th>\n",
       "      <th>horizan</th>\n",
       "      <th>stride</th>\n",
       "      <th>AVG_MAE</th>\n",
       "      <th>AVG_MSE</th>\n",
       "      <th>AVG_RMSE</th>\n",
       "      <th>AVG_MAPE</th>\n",
       "    </tr>\n",
       "  </thead>\n",
       "  <tbody>\n",
       "    <tr>\n",
       "      <th>23</th>\n",
       "      <td>12</td>\n",
       "      <td>6</td>\n",
       "      <td>2</td>\n",
       "      <td>10855.181786</td>\n",
       "      <td>2.218483e+08</td>\n",
       "      <td>14846.134275</td>\n",
       "      <td>42.141962</td>\n",
       "    </tr>\n",
       "    <tr>\n",
       "      <th>13</th>\n",
       "      <td>12</td>\n",
       "      <td>6</td>\n",
       "      <td>5</td>\n",
       "      <td>10310.593831</td>\n",
       "      <td>1.786404e+08</td>\n",
       "      <td>13365.640666</td>\n",
       "      <td>44.405902</td>\n",
       "    </tr>\n",
       "    <tr>\n",
       "      <th>0</th>\n",
       "      <td>12</td>\n",
       "      <td>6</td>\n",
       "      <td>8</td>\n",
       "      <td>10310.593831</td>\n",
       "      <td>1.786404e+08</td>\n",
       "      <td>13365.640666</td>\n",
       "      <td>44.405902</td>\n",
       "    </tr>\n",
       "  </tbody>\n",
       "</table>\n",
       "</div>"
      ],
      "text/plain": [
       "   window_size horizan stride       AVG_MAE       AVG_MSE      AVG_RMSE  \\\n",
       "23          12       6      2  10855.181786  2.218483e+08  14846.134275   \n",
       "13          12       6      5  10310.593831  1.786404e+08  13365.640666   \n",
       "0           12       6      8  10310.593831  1.786404e+08  13365.640666   \n",
       "\n",
       "     AVG_MAPE  \n",
       "23  42.141962  \n",
       "13  44.405902  \n",
       "0   44.405902  "
      ]
     },
     "metadata": {},
     "output_type": "display_data"
    },
    {
     "name": "stdout",
     "output_type": "stream",
     "text": [
      "('6', '12')\n"
     ]
    },
    {
     "data": {
      "text/html": [
       "<div>\n",
       "<style scoped>\n",
       "    .dataframe tbody tr th:only-of-type {\n",
       "        vertical-align: middle;\n",
       "    }\n",
       "\n",
       "    .dataframe tbody tr th {\n",
       "        vertical-align: top;\n",
       "    }\n",
       "\n",
       "    .dataframe thead th {\n",
       "        text-align: right;\n",
       "    }\n",
       "</style>\n",
       "<table border=\"1\" class=\"dataframe\">\n",
       "  <thead>\n",
       "    <tr style=\"text-align: right;\">\n",
       "      <th></th>\n",
       "      <th>window_size</th>\n",
       "      <th>horizan</th>\n",
       "      <th>stride</th>\n",
       "      <th>AVG_MAE</th>\n",
       "      <th>AVG_MSE</th>\n",
       "      <th>AVG_RMSE</th>\n",
       "      <th>AVG_MAPE</th>\n",
       "    </tr>\n",
       "  </thead>\n",
       "  <tbody>\n",
       "    <tr>\n",
       "      <th>19</th>\n",
       "      <td>6</td>\n",
       "      <td>12</td>\n",
       "      <td>2</td>\n",
       "      <td>28024.183079</td>\n",
       "      <td>1.056891e+09</td>\n",
       "      <td>32507.635601</td>\n",
       "      <td>129.206317</td>\n",
       "    </tr>\n",
       "    <tr>\n",
       "      <th>9</th>\n",
       "      <td>6</td>\n",
       "      <td>12</td>\n",
       "      <td>5</td>\n",
       "      <td>27650.073007</td>\n",
       "      <td>1.081246e+09</td>\n",
       "      <td>32882.307635</td>\n",
       "      <td>125.204871</td>\n",
       "    </tr>\n",
       "    <tr>\n",
       "      <th>22</th>\n",
       "      <td>6</td>\n",
       "      <td>12</td>\n",
       "      <td>8</td>\n",
       "      <td>27650.073007</td>\n",
       "      <td>1.081246e+09</td>\n",
       "      <td>32882.307635</td>\n",
       "      <td>125.204871</td>\n",
       "    </tr>\n",
       "  </tbody>\n",
       "</table>\n",
       "</div>"
      ],
      "text/plain": [
       "   window_size horizan stride       AVG_MAE       AVG_MSE      AVG_RMSE  \\\n",
       "19           6      12      2  28024.183079  1.056891e+09  32507.635601   \n",
       "9            6      12      5  27650.073007  1.081246e+09  32882.307635   \n",
       "22           6      12      8  27650.073007  1.081246e+09  32882.307635   \n",
       "\n",
       "      AVG_MAPE  \n",
       "19  129.206317  \n",
       "9   125.204871  \n",
       "22  125.204871  "
      ]
     },
     "metadata": {},
     "output_type": "display_data"
    },
    {
     "name": "stdout",
     "output_type": "stream",
     "text": [
      "('6', '6')\n"
     ]
    },
    {
     "data": {
      "text/html": [
       "<div>\n",
       "<style scoped>\n",
       "    .dataframe tbody tr th:only-of-type {\n",
       "        vertical-align: middle;\n",
       "    }\n",
       "\n",
       "    .dataframe tbody tr th {\n",
       "        vertical-align: top;\n",
       "    }\n",
       "\n",
       "    .dataframe thead th {\n",
       "        text-align: right;\n",
       "    }\n",
       "</style>\n",
       "<table border=\"1\" class=\"dataframe\">\n",
       "  <thead>\n",
       "    <tr style=\"text-align: right;\">\n",
       "      <th></th>\n",
       "      <th>window_size</th>\n",
       "      <th>horizan</th>\n",
       "      <th>stride</th>\n",
       "      <th>AVG_MAE</th>\n",
       "      <th>AVG_MSE</th>\n",
       "      <th>AVG_RMSE</th>\n",
       "      <th>AVG_MAPE</th>\n",
       "    </tr>\n",
       "  </thead>\n",
       "  <tbody>\n",
       "    <tr>\n",
       "      <th>17</th>\n",
       "      <td>6</td>\n",
       "      <td>6</td>\n",
       "      <td>2</td>\n",
       "      <td>35382.421244</td>\n",
       "      <td>1.717726e+09</td>\n",
       "      <td>41259.033101</td>\n",
       "      <td>154.013834</td>\n",
       "    </tr>\n",
       "    <tr>\n",
       "      <th>16</th>\n",
       "      <td>6</td>\n",
       "      <td>6</td>\n",
       "      <td>5</td>\n",
       "      <td>35973.711602</td>\n",
       "      <td>1.792509e+09</td>\n",
       "      <td>42160.245321</td>\n",
       "      <td>146.412696</td>\n",
       "    </tr>\n",
       "    <tr>\n",
       "      <th>5</th>\n",
       "      <td>6</td>\n",
       "      <td>6</td>\n",
       "      <td>8</td>\n",
       "      <td>35187.730503</td>\n",
       "      <td>1.763301e+09</td>\n",
       "      <td>41929.945602</td>\n",
       "      <td>148.406627</td>\n",
       "    </tr>\n",
       "  </tbody>\n",
       "</table>\n",
       "</div>"
      ],
      "text/plain": [
       "   window_size horizan stride       AVG_MAE       AVG_MSE      AVG_RMSE  \\\n",
       "17           6       6      2  35382.421244  1.717726e+09  41259.033101   \n",
       "16           6       6      5  35973.711602  1.792509e+09  42160.245321   \n",
       "5            6       6      8  35187.730503  1.763301e+09  41929.945602   \n",
       "\n",
       "      AVG_MAPE  \n",
       "17  154.013834  \n",
       "16  146.412696  \n",
       "5   148.406627  "
      ]
     },
     "metadata": {},
     "output_type": "display_data"
    }
   ],
   "source": [
    "for name, group in result_df.groupby([\"window_size\", \"horizan\"]):\n",
    "    print(name)\n",
    "    display(group)"
   ]
  },
  {
   "cell_type": "markdown",
   "metadata": {},
   "source": []
  }
 ],
 "metadata": {
  "kernelspec": {
   "display_name": "darts",
   "language": "python",
   "name": "python3"
  },
  "language_info": {
   "codemirror_mode": {
    "name": "ipython",
    "version": 3
   },
   "file_extension": ".py",
   "mimetype": "text/x-python",
   "name": "python",
   "nbconvert_exporter": "python",
   "pygments_lexer": "ipython3",
   "version": "3.11.4"
  },
  "orig_nbformat": 4
 },
 "nbformat": 4,
 "nbformat_minor": 2
}
