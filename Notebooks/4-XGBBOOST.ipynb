{
 "cells": [
  {
   "cell_type": "markdown",
   "metadata": {},
   "source": [
    "# loading libraries"
   ]
  },
  {
   "cell_type": "code",
   "execution_count": 1,
   "metadata": {},
   "outputs": [],
   "source": [
    "import pandas as pd\n",
    "import numpy as np\n",
    "import matplotlib.pyplot as plt\n",
    "import os\n",
    "import glob\n",
    "import pathlib\n",
    "import pandas as pd\n",
    "import numpy as np\n",
    "import darts\n",
    "from darts import TimeSeries\n",
    "import matplotlib.pyplot as plt\n",
    "from statsmodels.tsa.stattools import adfuller\n",
    "import os\n",
    "import glob\n",
    "from tqdm import tqdm\n",
    "from darts.dataprocessing.transformers.scaler import Scaler"
   ]
  },
  {
   "cell_type": "markdown",
   "metadata": {},
   "source": [
    "# Helping Functions\n"
   ]
  },
  {
   "cell_type": "code",
   "execution_count": 2,
   "metadata": {},
   "outputs": [],
   "source": [
    "import numpy as np\n",
    "\n",
    "\n",
    "def calculate_metrics(actual, predicted):\n",
    "    # Convert inputs to numpy arrays for easier calculations\n",
    "    actual = np.array(actual)\n",
    "    predicted = np.array(predicted)\n",
    "\n",
    "    # Calculate individual metrics\n",
    "    mae = np.mean(np.abs(predicted - actual))\n",
    "    rmse = np.sqrt(np.mean((predicted - actual) ** 2))\n",
    "    mape = np.mean(np.abs((predicted - actual) / actual)) * 100\n",
    "    mse = np.mean((predicted - actual) ** 2)\n",
    "\n",
    "    metrics = {\"MAE\": mae, \"RMSE\": rmse, \"MAPE\": mape, \"MSE\": mse}\n",
    "\n",
    "    return metrics"
   ]
  },
  {
   "cell_type": "markdown",
   "metadata": {},
   "source": [
    "# Data Reading 😶"
   ]
  },
  {
   "cell_type": "code",
   "execution_count": 3,
   "metadata": {},
   "outputs": [
    {
     "data": {
      "text/html": [
       "<div>\n",
       "<style scoped>\n",
       "    .dataframe tbody tr th:only-of-type {\n",
       "        vertical-align: middle;\n",
       "    }\n",
       "\n",
       "    .dataframe tbody tr th {\n",
       "        vertical-align: top;\n",
       "    }\n",
       "\n",
       "    .dataframe thead th {\n",
       "        text-align: right;\n",
       "    }\n",
       "</style>\n",
       "<table border=\"1\" class=\"dataframe\">\n",
       "  <thead>\n",
       "    <tr style=\"text-align: right;\">\n",
       "      <th></th>\n",
       "      <th>date</th>\n",
       "      <th>net_sales_total</th>\n",
       "      <th>net_order_entry_total</th>\n",
       "      <th>mitarbeiter_vertrieb</th>\n",
       "      <th>mitarbeiter_service</th>\n",
       "      <th>mitarbeiter_total</th>\n",
       "    </tr>\n",
       "  </thead>\n",
       "  <tbody>\n",
       "    <tr>\n",
       "      <th>0</th>\n",
       "      <td>2014-01-31</td>\n",
       "      <td>9914.85</td>\n",
       "      <td>13197.85</td>\n",
       "      <td>94</td>\n",
       "      <td>178</td>\n",
       "      <td>272</td>\n",
       "    </tr>\n",
       "    <tr>\n",
       "      <th>1</th>\n",
       "      <td>2014-02-28</td>\n",
       "      <td>8793.66</td>\n",
       "      <td>11632.08</td>\n",
       "      <td>96</td>\n",
       "      <td>178</td>\n",
       "      <td>274</td>\n",
       "    </tr>\n",
       "    <tr>\n",
       "      <th>2</th>\n",
       "      <td>2014-03-31</td>\n",
       "      <td>12689.12</td>\n",
       "      <td>14404.37</td>\n",
       "      <td>97</td>\n",
       "      <td>179</td>\n",
       "      <td>276</td>\n",
       "    </tr>\n",
       "    <tr>\n",
       "      <th>3</th>\n",
       "      <td>2014-04-30</td>\n",
       "      <td>12420.60</td>\n",
       "      <td>11512.26</td>\n",
       "      <td>97</td>\n",
       "      <td>180</td>\n",
       "      <td>277</td>\n",
       "    </tr>\n",
       "    <tr>\n",
       "      <th>4</th>\n",
       "      <td>2014-05-31</td>\n",
       "      <td>11825.02</td>\n",
       "      <td>11875.16</td>\n",
       "      <td>99</td>\n",
       "      <td>178</td>\n",
       "      <td>277</td>\n",
       "    </tr>\n",
       "  </tbody>\n",
       "</table>\n",
       "</div>"
      ],
      "text/plain": [
       "         date  net_sales_total  net_order_entry_total  mitarbeiter_vertrieb  \\\n",
       "0  2014-01-31          9914.85               13197.85                    94   \n",
       "1  2014-02-28          8793.66               11632.08                    96   \n",
       "2  2014-03-31         12689.12               14404.37                    97   \n",
       "3  2014-04-30         12420.60               11512.26                    97   \n",
       "4  2014-05-31         11825.02               11875.16                    99   \n",
       "\n",
       "   mitarbeiter_service  mitarbeiter_total  \n",
       "0                  178                272  \n",
       "1                  178                274  \n",
       "2                  179                276  \n",
       "3                  180                277  \n",
       "4                  178                277  "
      ]
     },
     "execution_count": 3,
     "metadata": {},
     "output_type": "execute_result"
    }
   ],
   "source": [
    "fileName = \"highcorrelated_features\"\n",
    "df = pd.read_csv(f\"../ProcessedData/{fileName}/{fileName}.csv\")\n",
    "df.head()"
   ]
  },
  {
   "cell_type": "code",
   "execution_count": 4,
   "metadata": {},
   "outputs": [
    {
     "data": {
      "text/html": [
       "<div>\n",
       "<style scoped>\n",
       "    .dataframe tbody tr th:only-of-type {\n",
       "        vertical-align: middle;\n",
       "    }\n",
       "\n",
       "    .dataframe tbody tr th {\n",
       "        vertical-align: top;\n",
       "    }\n",
       "\n",
       "    .dataframe thead th {\n",
       "        text-align: right;\n",
       "    }\n",
       "</style>\n",
       "<table border=\"1\" class=\"dataframe\">\n",
       "  <thead>\n",
       "    <tr style=\"text-align: right;\">\n",
       "      <th></th>\n",
       "      <th>date</th>\n",
       "      <th>net_sales_total</th>\n",
       "    </tr>\n",
       "  </thead>\n",
       "  <tbody>\n",
       "    <tr>\n",
       "      <th>0</th>\n",
       "      <td>2014-01-31</td>\n",
       "      <td>9914.85</td>\n",
       "    </tr>\n",
       "    <tr>\n",
       "      <th>1</th>\n",
       "      <td>2014-02-28</td>\n",
       "      <td>8793.66</td>\n",
       "    </tr>\n",
       "    <tr>\n",
       "      <th>2</th>\n",
       "      <td>2014-03-31</td>\n",
       "      <td>12689.12</td>\n",
       "    </tr>\n",
       "    <tr>\n",
       "      <th>3</th>\n",
       "      <td>2014-04-30</td>\n",
       "      <td>12420.60</td>\n",
       "    </tr>\n",
       "    <tr>\n",
       "      <th>4</th>\n",
       "      <td>2014-05-31</td>\n",
       "      <td>11825.02</td>\n",
       "    </tr>\n",
       "  </tbody>\n",
       "</table>\n",
       "</div>"
      ],
      "text/plain": [
       "         date  net_sales_total\n",
       "0  2014-01-31          9914.85\n",
       "1  2014-02-28          8793.66\n",
       "2  2014-03-31         12689.12\n",
       "3  2014-04-30         12420.60\n",
       "4  2014-05-31         11825.02"
      ]
     },
     "execution_count": 4,
     "metadata": {},
     "output_type": "execute_result"
    }
   ],
   "source": [
    "df = df[[\"date\", \"net_sales_total\"]]\n",
    "df = df.drop_duplicates()\n",
    "df.head()"
   ]
  },
  {
   "cell_type": "markdown",
   "metadata": {},
   "source": [
    "# stationary Tesst"
   ]
  },
  {
   "cell_type": "code",
   "execution_count": 5,
   "metadata": {},
   "outputs": [],
   "source": [
    "def adfuller_test(values):\n",
    "    result = adfuller(values)\n",
    "    labels = [\n",
    "        \"ADF Test Statistic\",\n",
    "        \"p-value\",\n",
    "        \"#Lags Used\",\n",
    "        \"Number of Observations Used\",\n",
    "    ]\n",
    "    for value, label in zip(result, labels):\n",
    "        print(label + \" : \" + str(value))\n",
    "    if result[1] <= 0.05:\n",
    "        print(\n",
    "            \"P value is less than 0.05 that means we can reject the null hypothesis(Ho). Therefore we can conclude that data has no unit root and is stationary\"\n",
    "        )\n",
    "    else:\n",
    "        print(\n",
    "            \"Weak evidence against null hypothesis that means time series has a unit root which indicates that it is non-stationary \"\n",
    "        )"
   ]
  },
  {
   "cell_type": "code",
   "execution_count": 6,
   "metadata": {},
   "outputs": [
    {
     "name": "stdout",
     "output_type": "stream",
     "text": [
      "ADF Test Statistic : -0.5945418906256462\n",
      "p-value : 0.8722105724767181\n",
      "#Lags Used : 13\n",
      "Number of Observations Used : 94\n",
      "Weak evidence against null hypothesis that means time series has a unit root which indicates that it is non-stationary \n"
     ]
    }
   ],
   "source": [
    "adfuller_test(df[\"net_sales_total\"])"
   ]
  },
  {
   "cell_type": "code",
   "execution_count": 7,
   "metadata": {},
   "outputs": [
    {
     "name": "stdout",
     "output_type": "stream",
     "text": [
      "ADF Test Statistic : -4.015772404893064\n",
      "p-value : 0.0013301372561128658\n",
      "#Lags Used : 12\n",
      "Number of Observations Used : 94\n",
      "P value is less than 0.05 that means we can reject the null hypothesis(Ho). Therefore we can conclude that data has no unit root and is stationary\n"
     ]
    }
   ],
   "source": [
    "adfuller_test(df[\"net_sales_total\"].diff(1).iloc[1:])"
   ]
  },
  {
   "cell_type": "markdown",
   "metadata": {},
   "source": [
    "## Spliting Data into Training & Testing Data"
   ]
  },
  {
   "cell_type": "code",
   "execution_count": 8,
   "metadata": {},
   "outputs": [
    {
     "data": {
      "image/png": "[encoded data removed]",
      "text/plain": [
       "<Figure size 1800x600 with 1 Axes>"
      ]
     },
     "metadata": {},
     "output_type": "display_data"
    }
   ],
   "source": [
    "from darts import TimeSeries\n",
    "import numpy as np\n",
    "import matplotlib.pyplot as plt\n",
    "\n",
    "# Assuming df is your DataFrame containing daily data\n",
    "series = TimeSeries.from_dataframe(\n",
    "    df, \"date\", \"net_sales_total\", freq=\"1M\", fill_missing_dates=True, fillna_value=0\n",
    ")\n",
    "\n",
    "\n",
    "split_point = 0.80\n",
    "\n",
    "train_series, test_series = series.split_after(split_point)\n",
    "\n",
    "# Set the figure size and style\n",
    "plt.figure(figsize=(18, 6))\n",
    "# Plot the training and testing data\n",
    "train_series.plot(label=\"Training Data\", color=\"blue\", linewidth=1.5, marker=\"o\")\n",
    "test_series.plot(label=\"Testing Data\", color=\"orange\", linewidth=1.5, marker=\"o\")\n",
    "\n",
    "# Add title and labels\n",
    "plt.title(\"Training and Testing Data\")\n",
    "plt.xlabel(\"Date\")\n",
    "plt.ylabel(\"net_sales_total\")\n",
    "\n",
    "# Add grid lines\n",
    "plt.grid(True)\n",
    "\n",
    "# Add legend\n",
    "plt.legend()\n",
    "\n",
    "# Display the plot\n",
    "plt.show()"
   ]
  },
  {
   "cell_type": "markdown",
   "metadata": {},
   "source": [
    "# XGB Model"
   ]
  },
  {
   "cell_type": "code",
   "execution_count": 21,
   "metadata": {},
   "outputs": [
    {
     "name": "stderr",
     "output_type": "stream",
     "text": [
      "Specified future encoders in `add_encoders` at model creation but model does not accept future covariates. future encoders will be ignored.\n"
     ]
    },
    {
     "data": {
      "image/png": "[encoded data removed]",
      "text/plain": [
       "<Figure size 1800x600 with 1 Axes>"
      ]
     },
     "metadata": {},
     "output_type": "display_data"
    }
   ],
   "source": [
    "from darts.models.forecasting.xgboost import XGBModel\n",
    "\n",
    "xgb_model = XGBModel(\n",
    "    lags=6,\n",
    "    output_chunk_length=30,\n",
    "    add_encoders={\n",
    "        \"cyclic\": {\"future\": [\"month\"]},\n",
    "        \"datetime_attribute\": {\"future\": [\"hour\", \"dayofweek\"]},\n",
    "        \"position\": {\"future\": [\"relative\"]},\n",
    "        \"custom\": {\"future\": [lambda idx: (idx.year - 2013) / 50]},\n",
    "        \"transformer\": Scaler(),\n",
    "    },\n",
    "    likelihood=None,\n",
    "    quantiles=False,\n",
    "    random_state=199,\n",
    "    multi_models=True,\n",
    "    use_static_covariates=True,\n",
    ")\n",
    "\n",
    "xgb_model.fit(train_series)\n",
    "\n",
    "horizan = 18\n",
    "test_series_ = test_series[0:horizan]\n",
    "plt.figure(figsize=(18, 6))\n",
    "\n",
    "forcast_arima = xgb_model.predict(horizan)\n",
    "xgb_model.predict(horizan).plot(marker=\"o\", label=\"predicted\")\n",
    "test_series_.plot(marker=\"o\", label=\"Actual/Ground truth\")\n",
    "# Add title and labels\n",
    "plt.title(\"Ground truth vs predicted\")\n",
    "plt.xlabel(\"Date\")\n",
    "plt.ylabel(\"net_sales_total\")\n",
    "plt.xticks(\n",
    "    forcast_arima.time_index, forcast_arima.time_index.strftime(\"%Y-%m-%d\"), rotation=90\n",
    ")\n",
    "\n",
    "# Add grid lines\n",
    "plt.grid(True)\n",
    "\n",
    "# Add legend\n",
    "plt.legend()\n",
    "\n",
    "# Display the plot\n",
    "plt.show()"
   ]
  },
  {
   "cell_type": "code",
   "execution_count": 23,
   "metadata": {},
   "outputs": [],
   "source": [
    "import os\n",
    "import numpy as np\n",
    "import matplotlib.pyplot as plt\n",
    "import pandas as pd\n",
    "from tqdm import tqdm\n",
    "\n",
    "\n",
    "# Function to predict and evaluate\n",
    "def predict_and_evaluate(\n",
    "    window_size,\n",
    "    prediction_horizon,\n",
    "    slide_step,\n",
    "    test_series,\n",
    "    arima_model,\n",
    "    result_plot_path,\n",
    "):\n",
    "    num_predictions = len(test_series) - window_size - prediction_horizon + 1\n",
    "\n",
    "    meta_information_evaluation = {\n",
    "        \"Iterations\": [],\n",
    "        \"MAE\": [],\n",
    "        \"RMSE\": [],\n",
    "        \"MAPE\": [],\n",
    "        \"MSE\": [],\n",
    "        \"input_window_size\": [],\n",
    "        \"horizon\": [],\n",
    "        \"stride\": [],\n",
    "    }\n",
    "\n",
    "    try:\n",
    "        for i in tqdm(range(0, num_predictions, slide_step)):\n",
    "            input_window = test_series[i : i + window_size]\n",
    "            ground_truth = test_series[\n",
    "                i + window_size : i + window_size + prediction_horizon\n",
    "            ]\n",
    "            forecast = arima_model.predict(n=prediction_horizon, series=input_window)\n",
    "\n",
    "            actual = ground_truth.values().flatten().tolist()\n",
    "            predicted = forecast.values().flatten().tolist()\n",
    "\n",
    "            metrics = calculate_metrics(actual, predicted)\n",
    "\n",
    "            meta_information_evaluation[\"Iterations\"].append(i)\n",
    "            meta_information_evaluation[\"MAE\"].append(metrics[\"MAE\"])\n",
    "            meta_information_evaluation[\"RMSE\"].append(metrics[\"RMSE\"])\n",
    "            meta_information_evaluation[\"MAPE\"].append(metrics[\"MAPE\"])\n",
    "            meta_information_evaluation[\"MSE\"].append(metrics[\"MSE\"])\n",
    "            meta_information_evaluation[\"input_window_size\"].append(window_size)\n",
    "            meta_information_evaluation[\"horizon\"].append(prediction_horizon)\n",
    "            meta_information_evaluation[\"stride\"].append(slide_step)\n",
    "\n",
    "            bypass_information = {\n",
    "                \"slide_step\": slide_step,\n",
    "                \"window_size\": window_size,\n",
    "                \"horizon\": prediction_horizon,\n",
    "            }\n",
    "            create_plots(\n",
    "                input_window,\n",
    "                forecast,\n",
    "                ground_truth,\n",
    "                result_plot_path,\n",
    "                bypass_information,\n",
    "            )\n",
    "\n",
    "        evalaution_df = pd.DataFrame.from_dict(meta_information_evaluation)\n",
    "\n",
    "        return evalaution_df\n",
    "\n",
    "    except Exception as e:\n",
    "        print(\"Error Occurred in fuction predict_and_evaluate():\", e)\n",
    "        evalaution_df = pd.DataFrame.from_dict(meta_information_evaluation)\n",
    "\n",
    "        return evalaution_df\n",
    "\n",
    "\n",
    "# Function to create plots\n",
    "def create_plots(\n",
    "    input_window, forecast, ground_truth, result_plot_path, bypass_information\n",
    "):\n",
    "    plt.figure(figsize=(30, 6))\n",
    "    input_window.plot(label=\"Input Data\", marker=\"o\")\n",
    "    forecast.plot(label=\"Predicted\", marker=\"o\")\n",
    "    ground_truth.plot(label=\"Ground Truth\", marker=\"o\")\n",
    "\n",
    "    combined_time_index = input_window.time_index.append(forecast.time_index).append(\n",
    "        ground_truth.time_index\n",
    "    )\n",
    "    starting_date_of_input_data = input_window.time_index[0].strftime(\"%Y-%m-%d\")\n",
    "    ending_date_of_input_data = input_window.time_index[-1].strftime(\"%Y-%m-%d\")\n",
    "    starting_date_predicted = forecast.time_index[0].strftime(\"%Y-%m-%d\")\n",
    "    ending_date_of_predicted = forecast.time_index[-1].strftime(\"%Y-%m-%d\")\n",
    "\n",
    "    plt.xticks(\n",
    "        combined_time_index, combined_time_index.strftime(\"%Y-%m-%d\"), rotation=90\n",
    "    )\n",
    "    plt.title(\n",
    "        f\"Results of Input Data from {starting_date_of_input_data} to {ending_date_of_input_data} & Evaluation on from {starting_date_predicted} to {ending_date_of_predicted}\",\n",
    "        fontsize=16,\n",
    "    )\n",
    "    plt.ylabel(\"net_sales_total\", fontsize=14)\n",
    "    plt.xlabel(\"Dates\", fontsize=14)\n",
    "    plt.legend()\n",
    "\n",
    "    plot_filename = f\"{result_plot_path}/{bypass_information['window_size']}_{bypass_information['horizon']}_{bypass_information['slide_step']}.png\"\n",
    "    plt.savefig(plot_filename)\n",
    "    plt.close()\n",
    "    # plt.show()"
   ]
  },
  {
   "cell_type": "markdown",
   "metadata": {},
   "source": [
    "# Model Evaluation"
   ]
  },
  {
   "cell_type": "code",
   "execution_count": 24,
   "metadata": {},
   "outputs": [],
   "source": [
    "def model_evaluation(model_name, model_object, test_series, FileName):\n",
    "    result_path = f\"../ProcessedData/Results/{model_name}/{FileName}\"\n",
    "    result_plot_path = (\n",
    "        f\"../ProcessedData/Results/{model_name}/{FileName}/{model_name}_Plots\"\n",
    "    )\n",
    "    os.makedirs(result_path, exist_ok=True)\n",
    "    os.makedirs(result_plot_path, exist_ok=True)\n",
    "\n",
    "    # Set your parameters\n",
    "    window_sizes = [6, 12, 18]\n",
    "    prediction_horizons = [6, 12, 18]\n",
    "    slide_steps = [2, 5, 8]\n",
    "\n",
    "    test_series = test_series\n",
    "    model = model_object\n",
    "\n",
    "    for window_size in window_sizes:\n",
    "        for prediction_horizon in prediction_horizons:\n",
    "            for slide_step in slide_steps:\n",
    "                print(\n",
    "                    f\"Iteration : Window size : {window_size} Horizan: {prediction_horizon}, Stride : {slide_step}\"\n",
    "                )\n",
    "                evaluation_df = predict_and_evaluate(\n",
    "                    window_size,\n",
    "                    prediction_horizon,\n",
    "                    slide_step,\n",
    "                    test_series,\n",
    "                    model,\n",
    "                    result_plot_path,\n",
    "                )\n",
    "                evaluation_df.to_csv(\n",
    "                    f\"{result_path}/window_size_{window_size}_horizon_{prediction_horizon}_stride_{slide_step}.csv\",\n",
    "                    index=False,\n",
    "                )\n",
    "\n",
    "                print(\n",
    "                    f\"Window_size_{window_size}_prediction_horizon_{prediction_horizon}_slide_step_{slide_step} - Evaluation completed.\"\n",
    "                )\n",
    "        #         break\n",
    "        #     break\n",
    "        # break"
   ]
  },
  {
   "cell_type": "markdown",
   "metadata": {},
   "source": [
    "## XGBModel"
   ]
  },
  {
   "cell_type": "code",
   "execution_count": 25,
   "metadata": {},
   "outputs": [
    {
     "name": "stdout",
     "output_type": "stream",
     "text": [
      "Iteration : Window size : 6 Horizan: 6, Stride : 2\n"
     ]
    },
    {
     "name": "stderr",
     "output_type": "stream",
     "text": [
      "100%|██████████| 6/6 [00:02<00:00,  2.71it/s]\n"
     ]
    },
    {
     "name": "stdout",
     "output_type": "stream",
     "text": [
      "Window_size_6_prediction_horizon_6_slide_step_2 - Evaluation completed.\n",
      "Iteration : Window size : 6 Horizan: 6, Stride : 5\n"
     ]
    },
    {
     "name": "stderr",
     "output_type": "stream",
     "text": [
      "100%|██████████| 3/3 [00:01<00:00,  2.51it/s]\n"
     ]
    },
    {
     "name": "stdout",
     "output_type": "stream",
     "text": [
      "Window_size_6_prediction_horizon_6_slide_step_5 - Evaluation completed.\n",
      "Iteration : Window size : 6 Horizan: 6, Stride : 8\n"
     ]
    },
    {
     "name": "stderr",
     "output_type": "stream",
     "text": [
      "100%|██████████| 2/2 [00:00<00:00,  2.60it/s]\n"
     ]
    },
    {
     "name": "stdout",
     "output_type": "stream",
     "text": [
      "Window_size_6_prediction_horizon_6_slide_step_8 - Evaluation completed.\n",
      "Iteration : Window size : 6 Horizan: 12, Stride : 2\n"
     ]
    },
    {
     "name": "stderr",
     "output_type": "stream",
     "text": [
      "100%|██████████| 3/3 [00:01<00:00,  2.10it/s]\n"
     ]
    },
    {
     "name": "stdout",
     "output_type": "stream",
     "text": [
      "Window_size_6_prediction_horizon_12_slide_step_2 - Evaluation completed.\n",
      "Iteration : Window size : 6 Horizan: 12, Stride : 5\n"
     ]
    },
    {
     "name": "stderr",
     "output_type": "stream",
     "text": [
      "100%|██████████| 1/1 [00:00<00:00,  2.05it/s]\n"
     ]
    },
    {
     "name": "stdout",
     "output_type": "stream",
     "text": [
      "Window_size_6_prediction_horizon_12_slide_step_5 - Evaluation completed.\n",
      "Iteration : Window size : 6 Horizan: 12, Stride : 8\n"
     ]
    },
    {
     "name": "stderr",
     "output_type": "stream",
     "text": [
      "100%|██████████| 1/1 [00:00<00:00,  2.17it/s]\n"
     ]
    },
    {
     "name": "stdout",
     "output_type": "stream",
     "text": [
      "Window_size_6_prediction_horizon_12_slide_step_8 - Evaluation completed.\n",
      "Iteration : Window size : 6 Horizan: 18, Stride : 2\n"
     ]
    },
    {
     "name": "stderr",
     "output_type": "stream",
     "text": [
      "0it [00:00, ?it/s]\n"
     ]
    },
    {
     "name": "stdout",
     "output_type": "stream",
     "text": [
      "Window_size_6_prediction_horizon_18_slide_step_2 - Evaluation completed.\n",
      "Iteration : Window size : 6 Horizan: 18, Stride : 5\n"
     ]
    },
    {
     "name": "stderr",
     "output_type": "stream",
     "text": [
      "0it [00:00, ?it/s]\n"
     ]
    },
    {
     "name": "stdout",
     "output_type": "stream",
     "text": [
      "Window_size_6_prediction_horizon_18_slide_step_5 - Evaluation completed.\n",
      "Iteration : Window size : 6 Horizan: 18, Stride : 8\n"
     ]
    },
    {
     "name": "stderr",
     "output_type": "stream",
     "text": [
      "0it [00:00, ?it/s]\n"
     ]
    },
    {
     "name": "stdout",
     "output_type": "stream",
     "text": [
      "Window_size_6_prediction_horizon_18_slide_step_8 - Evaluation completed.\n",
      "Iteration : Window size : 12 Horizan: 6, Stride : 2\n"
     ]
    },
    {
     "name": "stderr",
     "output_type": "stream",
     "text": [
      "100%|██████████| 3/3 [00:01<00:00,  2.31it/s]\n"
     ]
    },
    {
     "name": "stdout",
     "output_type": "stream",
     "text": [
      "Window_size_12_prediction_horizon_6_slide_step_2 - Evaluation completed.\n",
      "Iteration : Window size : 12 Horizan: 6, Stride : 5\n"
     ]
    },
    {
     "name": "stderr",
     "output_type": "stream",
     "text": [
      "100%|██████████| 1/1 [00:00<00:00,  2.33it/s]\n"
     ]
    },
    {
     "name": "stdout",
     "output_type": "stream",
     "text": [
      "Window_size_12_prediction_horizon_6_slide_step_5 - Evaluation completed.\n",
      "Iteration : Window size : 12 Horizan: 6, Stride : 8\n"
     ]
    },
    {
     "name": "stderr",
     "output_type": "stream",
     "text": [
      "100%|██████████| 1/1 [00:00<00:00,  2.49it/s]\n"
     ]
    },
    {
     "name": "stdout",
     "output_type": "stream",
     "text": [
      "Window_size_12_prediction_horizon_6_slide_step_8 - Evaluation completed.\n",
      "Iteration : Window size : 12 Horizan: 12, Stride : 2\n"
     ]
    },
    {
     "name": "stderr",
     "output_type": "stream",
     "text": [
      "0it [00:00, ?it/s]\n"
     ]
    },
    {
     "name": "stdout",
     "output_type": "stream",
     "text": [
      "Window_size_12_prediction_horizon_12_slide_step_2 - Evaluation completed.\n",
      "Iteration : Window size : 12 Horizan: 12, Stride : 5\n"
     ]
    },
    {
     "name": "stderr",
     "output_type": "stream",
     "text": [
      "0it [00:00, ?it/s]\n"
     ]
    },
    {
     "name": "stdout",
     "output_type": "stream",
     "text": [
      "Window_size_12_prediction_horizon_12_slide_step_5 - Evaluation completed.\n",
      "Iteration : Window size : 12 Horizan: 12, Stride : 8\n"
     ]
    },
    {
     "name": "stderr",
     "output_type": "stream",
     "text": [
      "0it [00:00, ?it/s]\n"
     ]
    },
    {
     "name": "stdout",
     "output_type": "stream",
     "text": [
      "Window_size_12_prediction_horizon_12_slide_step_8 - Evaluation completed.\n",
      "Iteration : Window size : 12 Horizan: 18, Stride : 2\n"
     ]
    },
    {
     "name": "stderr",
     "output_type": "stream",
     "text": [
      "0it [00:00, ?it/s]\n"
     ]
    },
    {
     "name": "stdout",
     "output_type": "stream",
     "text": [
      "Window_size_12_prediction_horizon_18_slide_step_2 - Evaluation completed.\n",
      "Iteration : Window size : 12 Horizan: 18, Stride : 5\n"
     ]
    },
    {
     "name": "stderr",
     "output_type": "stream",
     "text": [
      "0it [00:00, ?it/s]\n"
     ]
    },
    {
     "name": "stdout",
     "output_type": "stream",
     "text": [
      "Window_size_12_prediction_horizon_18_slide_step_5 - Evaluation completed.\n",
      "Iteration : Window size : 12 Horizan: 18, Stride : 8\n"
     ]
    },
    {
     "name": "stderr",
     "output_type": "stream",
     "text": [
      "0it [00:00, ?it/s]\n"
     ]
    },
    {
     "name": "stdout",
     "output_type": "stream",
     "text": [
      "Window_size_12_prediction_horizon_18_slide_step_8 - Evaluation completed.\n",
      "Iteration : Window size : 18 Horizan: 6, Stride : 2\n"
     ]
    },
    {
     "name": "stderr",
     "output_type": "stream",
     "text": [
      "0it [00:00, ?it/s]\n"
     ]
    },
    {
     "name": "stdout",
     "output_type": "stream",
     "text": [
      "Window_size_18_prediction_horizon_6_slide_step_2 - Evaluation completed.\n",
      "Iteration : Window size : 18 Horizan: 6, Stride : 5\n"
     ]
    },
    {
     "name": "stderr",
     "output_type": "stream",
     "text": [
      "0it [00:00, ?it/s]\n"
     ]
    },
    {
     "name": "stdout",
     "output_type": "stream",
     "text": [
      "Window_size_18_prediction_horizon_6_slide_step_5 - Evaluation completed.\n",
      "Iteration : Window size : 18 Horizan: 6, Stride : 8\n"
     ]
    },
    {
     "name": "stderr",
     "output_type": "stream",
     "text": [
      "0it [00:00, ?it/s]\n"
     ]
    },
    {
     "name": "stdout",
     "output_type": "stream",
     "text": [
      "Window_size_18_prediction_horizon_6_slide_step_8 - Evaluation completed.\n",
      "Iteration : Window size : 18 Horizan: 12, Stride : 2\n"
     ]
    },
    {
     "name": "stderr",
     "output_type": "stream",
     "text": [
      "0it [00:00, ?it/s]\n"
     ]
    },
    {
     "name": "stdout",
     "output_type": "stream",
     "text": [
      "Window_size_18_prediction_horizon_12_slide_step_2 - Evaluation completed.\n",
      "Iteration : Window size : 18 Horizan: 12, Stride : 5\n"
     ]
    },
    {
     "name": "stderr",
     "output_type": "stream",
     "text": [
      "0it [00:00, ?it/s]\n"
     ]
    },
    {
     "name": "stdout",
     "output_type": "stream",
     "text": [
      "Window_size_18_prediction_horizon_12_slide_step_5 - Evaluation completed.\n",
      "Iteration : Window size : 18 Horizan: 12, Stride : 8\n"
     ]
    },
    {
     "name": "stderr",
     "output_type": "stream",
     "text": [
      "0it [00:00, ?it/s]\n"
     ]
    },
    {
     "name": "stdout",
     "output_type": "stream",
     "text": [
      "Window_size_18_prediction_horizon_12_slide_step_8 - Evaluation completed.\n",
      "Iteration : Window size : 18 Horizan: 18, Stride : 2\n"
     ]
    },
    {
     "name": "stderr",
     "output_type": "stream",
     "text": [
      "0it [00:00, ?it/s]\n"
     ]
    },
    {
     "name": "stdout",
     "output_type": "stream",
     "text": [
      "Window_size_18_prediction_horizon_18_slide_step_2 - Evaluation completed.\n",
      "Iteration : Window size : 18 Horizan: 18, Stride : 5\n"
     ]
    },
    {
     "name": "stderr",
     "output_type": "stream",
     "text": [
      "0it [00:00, ?it/s]\n"
     ]
    },
    {
     "name": "stdout",
     "output_type": "stream",
     "text": [
      "Window_size_18_prediction_horizon_18_slide_step_5 - Evaluation completed.\n",
      "Iteration : Window size : 18 Horizan: 18, Stride : 8\n"
     ]
    },
    {
     "name": "stderr",
     "output_type": "stream",
     "text": [
      "0it [00:00, ?it/s]"
     ]
    },
    {
     "name": "stdout",
     "output_type": "stream",
     "text": [
      "Window_size_18_prediction_horizon_18_slide_step_8 - Evaluation completed.\n"
     ]
    },
    {
     "name": "stderr",
     "output_type": "stream",
     "text": [
      "\n"
     ]
    }
   ],
   "source": [
    "model_name = \"XGBMODEl\"\n",
    "model_object = xgb_model\n",
    "FileName = fileName\n",
    "test_series = test_series\n",
    "model_evaluation(model_name, model_object, test_series, FileName)"
   ]
  },
  {
   "cell_type": "markdown",
   "metadata": {},
   "source": [
    "# Evaluate Metrics"
   ]
  },
  {
   "cell_type": "code",
   "execution_count": 26,
   "metadata": {},
   "outputs": [
    {
     "data": {
      "text/html": [
       "<div>\n",
       "<style scoped>\n",
       "    .dataframe tbody tr th:only-of-type {\n",
       "        vertical-align: middle;\n",
       "    }\n",
       "\n",
       "    .dataframe tbody tr th {\n",
       "        vertical-align: top;\n",
       "    }\n",
       "\n",
       "    .dataframe thead th {\n",
       "        text-align: right;\n",
       "    }\n",
       "</style>\n",
       "<table border=\"1\" class=\"dataframe\">\n",
       "  <thead>\n",
       "    <tr style=\"text-align: right;\">\n",
       "      <th></th>\n",
       "      <th>window_size</th>\n",
       "      <th>horizan</th>\n",
       "      <th>stride</th>\n",
       "      <th>AVG_MAE</th>\n",
       "      <th>AVG_MSE</th>\n",
       "      <th>AVG_RMSE</th>\n",
       "      <th>AVG_MAPE</th>\n",
       "    </tr>\n",
       "  </thead>\n",
       "  <tbody>\n",
       "    <tr>\n",
       "      <th>23</th>\n",
       "      <td>12</td>\n",
       "      <td>6</td>\n",
       "      <td>2</td>\n",
       "      <td>8017.053088</td>\n",
       "      <td>9.460755e+07</td>\n",
       "      <td>9245.144667</td>\n",
       "      <td>29.450823</td>\n",
       "    </tr>\n",
       "    <tr>\n",
       "      <th>13</th>\n",
       "      <td>12</td>\n",
       "      <td>6</td>\n",
       "      <td>5</td>\n",
       "      <td>4936.804753</td>\n",
       "      <td>3.921743e+07</td>\n",
       "      <td>6262.382406</td>\n",
       "      <td>21.496901</td>\n",
       "    </tr>\n",
       "    <tr>\n",
       "      <th>0</th>\n",
       "      <td>12</td>\n",
       "      <td>6</td>\n",
       "      <td>8</td>\n",
       "      <td>4936.804753</td>\n",
       "      <td>3.921743e+07</td>\n",
       "      <td>6262.382406</td>\n",
       "      <td>21.496901</td>\n",
       "    </tr>\n",
       "    <tr>\n",
       "      <th>19</th>\n",
       "      <td>6</td>\n",
       "      <td>12</td>\n",
       "      <td>2</td>\n",
       "      <td>7068.089058</td>\n",
       "      <td>8.930277e+07</td>\n",
       "      <td>9410.868805</td>\n",
       "      <td>26.613009</td>\n",
       "    </tr>\n",
       "    <tr>\n",
       "      <th>9</th>\n",
       "      <td>6</td>\n",
       "      <td>12</td>\n",
       "      <td>5</td>\n",
       "      <td>6767.775013</td>\n",
       "      <td>7.028889e+07</td>\n",
       "      <td>8383.847159</td>\n",
       "      <td>27.134308</td>\n",
       "    </tr>\n",
       "    <tr>\n",
       "      <th>22</th>\n",
       "      <td>6</td>\n",
       "      <td>12</td>\n",
       "      <td>8</td>\n",
       "      <td>6767.775013</td>\n",
       "      <td>7.028889e+07</td>\n",
       "      <td>8383.847159</td>\n",
       "      <td>27.134308</td>\n",
       "    </tr>\n",
       "    <tr>\n",
       "      <th>17</th>\n",
       "      <td>6</td>\n",
       "      <td>6</td>\n",
       "      <td>2</td>\n",
       "      <td>7806.366788</td>\n",
       "      <td>1.003931e+08</td>\n",
       "      <td>9306.172466</td>\n",
       "      <td>29.729597</td>\n",
       "    </tr>\n",
       "    <tr>\n",
       "      <th>16</th>\n",
       "      <td>6</td>\n",
       "      <td>6</td>\n",
       "      <td>5</td>\n",
       "      <td>8416.995718</td>\n",
       "      <td>1.069833e+08</td>\n",
       "      <td>9553.111960</td>\n",
       "      <td>31.274775</td>\n",
       "    </tr>\n",
       "    <tr>\n",
       "      <th>5</th>\n",
       "      <td>6</td>\n",
       "      <td>6</td>\n",
       "      <td>8</td>\n",
       "      <td>8795.448652</td>\n",
       "      <td>9.516734e+07</td>\n",
       "      <td>9631.967413</td>\n",
       "      <td>34.521409</td>\n",
       "    </tr>\n",
       "  </tbody>\n",
       "</table>\n",
       "</div>"
      ],
      "text/plain": [
       "   window_size horizan stride      AVG_MAE       AVG_MSE     AVG_RMSE  \\\n",
       "23          12       6      2  8017.053088  9.460755e+07  9245.144667   \n",
       "13          12       6      5  4936.804753  3.921743e+07  6262.382406   \n",
       "0           12       6      8  4936.804753  3.921743e+07  6262.382406   \n",
       "19           6      12      2  7068.089058  8.930277e+07  9410.868805   \n",
       "9            6      12      5  6767.775013  7.028889e+07  8383.847159   \n",
       "22           6      12      8  6767.775013  7.028889e+07  8383.847159   \n",
       "17           6       6      2  7806.366788  1.003931e+08  9306.172466   \n",
       "16           6       6      5  8416.995718  1.069833e+08  9553.111960   \n",
       "5            6       6      8  8795.448652  9.516734e+07  9631.967413   \n",
       "\n",
       "     AVG_MAPE  \n",
       "23  29.450823  \n",
       "13  21.496901  \n",
       "0   21.496901  \n",
       "19  26.613009  \n",
       "9   27.134308  \n",
       "22  27.134308  \n",
       "17  29.729597  \n",
       "16  31.274775  \n",
       "5   34.521409  "
      ]
     },
     "execution_count": 26,
     "metadata": {},
     "output_type": "execute_result"
    }
   ],
   "source": [
    "import pandas as pd\n",
    "import glob\n",
    "\n",
    "\n",
    "def aggregate_evaluation_results(file_pattern):\n",
    "    eval_dict = {\n",
    "        \"window_size\": [],\n",
    "        \"horizan\": [],\n",
    "        \"stride\": [],\n",
    "        \"AVG_MAE\": [],\n",
    "        \"AVG_MSE\": [],\n",
    "        \"AVG_RMSE\": [],\n",
    "        \"AVG_MAPE\": [],\n",
    "    }\n",
    "\n",
    "    paths = glob.glob(file_pattern)\n",
    "\n",
    "    for path in paths:\n",
    "        window_size = path.split(\"/\")[-1].split(\"_\")[2]\n",
    "        horizan = path.split(\"/\")[-1].split(\"_\")[4]\n",
    "        stride = path.split(\"/\")[-1].split(\"_\")[6].split(\".\")[0]\n",
    "\n",
    "        df = pd.read_csv(path)\n",
    "        eval_dict[\"window_size\"].append(window_size)\n",
    "        eval_dict[\"horizan\"].append(horizan)\n",
    "        eval_dict[\"stride\"].append(stride)\n",
    "\n",
    "        eval_dict[\"AVG_MAE\"].append(df[\"MAE\"].mean())\n",
    "        eval_dict[\"AVG_MSE\"].append(df[\"MSE\"].mean())\n",
    "        eval_dict[\"AVG_RMSE\"].append(df[\"RMSE\"].mean())\n",
    "        eval_dict[\"AVG_MAPE\"].append(df[\"MAPE\"].mean())\n",
    "\n",
    "    eval_df = pd.DataFrame.from_dict(eval_dict)\n",
    "    eval_df = eval_df.dropna()\n",
    "    eval_df.sort_values(\n",
    "        [\"window_size\", \"horizan\", \"stride\"], inplace=True, ascending=True\n",
    "    )\n",
    "\n",
    "    return eval_df\n",
    "\n",
    "\n",
    "# Example usage\n",
    "file_pattern = f\"../ProcessedData/Results/XGBMODEl/{fileName}/*.csv\"\n",
    "result_df = aggregate_evaluation_results(file_pattern)\n",
    "# result_df.to_csv('../ProcessedData/FinalResults/') # have to add folder for each model\n",
    "result_df"
   ]
  },
  {
   "cell_type": "code",
   "execution_count": 28,
   "metadata": {},
   "outputs": [
    {
     "data": {
      "text/html": [
       "<div>\n",
       "<style scoped>\n",
       "    .dataframe tbody tr th:only-of-type {\n",
       "        vertical-align: middle;\n",
       "    }\n",
       "\n",
       "    .dataframe tbody tr th {\n",
       "        vertical-align: top;\n",
       "    }\n",
       "\n",
       "    .dataframe thead th {\n",
       "        text-align: right;\n",
       "    }\n",
       "</style>\n",
       "<table border=\"1\" class=\"dataframe\">\n",
       "  <thead>\n",
       "    <tr style=\"text-align: right;\">\n",
       "      <th></th>\n",
       "      <th>window_size</th>\n",
       "      <th>horizan</th>\n",
       "      <th>stride</th>\n",
       "      <th>AVG_MAE</th>\n",
       "      <th>AVG_MSE</th>\n",
       "      <th>AVG_RMSE</th>\n",
       "      <th>AVG_MAPE</th>\n",
       "    </tr>\n",
       "  </thead>\n",
       "  <tbody>\n",
       "    <tr>\n",
       "      <th>23</th>\n",
       "      <td>12</td>\n",
       "      <td>6</td>\n",
       "      <td>2</td>\n",
       "      <td>8017.053088</td>\n",
       "      <td>9.460755e+07</td>\n",
       "      <td>9245.144667</td>\n",
       "      <td>29.450823</td>\n",
       "    </tr>\n",
       "    <tr>\n",
       "      <th>13</th>\n",
       "      <td>12</td>\n",
       "      <td>6</td>\n",
       "      <td>5</td>\n",
       "      <td>4936.804753</td>\n",
       "      <td>3.921743e+07</td>\n",
       "      <td>6262.382406</td>\n",
       "      <td>21.496901</td>\n",
       "    </tr>\n",
       "    <tr>\n",
       "      <th>0</th>\n",
       "      <td>12</td>\n",
       "      <td>6</td>\n",
       "      <td>8</td>\n",
       "      <td>4936.804753</td>\n",
       "      <td>3.921743e+07</td>\n",
       "      <td>6262.382406</td>\n",
       "      <td>21.496901</td>\n",
       "    </tr>\n",
       "    <tr>\n",
       "      <th>19</th>\n",
       "      <td>6</td>\n",
       "      <td>12</td>\n",
       "      <td>2</td>\n",
       "      <td>7068.089058</td>\n",
       "      <td>8.930277e+07</td>\n",
       "      <td>9410.868805</td>\n",
       "      <td>26.613009</td>\n",
       "    </tr>\n",
       "    <tr>\n",
       "      <th>9</th>\n",
       "      <td>6</td>\n",
       "      <td>12</td>\n",
       "      <td>5</td>\n",
       "      <td>6767.775013</td>\n",
       "      <td>7.028889e+07</td>\n",
       "      <td>8383.847159</td>\n",
       "      <td>27.134308</td>\n",
       "    </tr>\n",
       "    <tr>\n",
       "      <th>22</th>\n",
       "      <td>6</td>\n",
       "      <td>12</td>\n",
       "      <td>8</td>\n",
       "      <td>6767.775013</td>\n",
       "      <td>7.028889e+07</td>\n",
       "      <td>8383.847159</td>\n",
       "      <td>27.134308</td>\n",
       "    </tr>\n",
       "    <tr>\n",
       "      <th>17</th>\n",
       "      <td>6</td>\n",
       "      <td>6</td>\n",
       "      <td>2</td>\n",
       "      <td>7806.366788</td>\n",
       "      <td>1.003931e+08</td>\n",
       "      <td>9306.172466</td>\n",
       "      <td>29.729597</td>\n",
       "    </tr>\n",
       "    <tr>\n",
       "      <th>16</th>\n",
       "      <td>6</td>\n",
       "      <td>6</td>\n",
       "      <td>5</td>\n",
       "      <td>8416.995718</td>\n",
       "      <td>1.069833e+08</td>\n",
       "      <td>9553.111960</td>\n",
       "      <td>31.274775</td>\n",
       "    </tr>\n",
       "    <tr>\n",
       "      <th>5</th>\n",
       "      <td>6</td>\n",
       "      <td>6</td>\n",
       "      <td>8</td>\n",
       "      <td>8795.448652</td>\n",
       "      <td>9.516734e+07</td>\n",
       "      <td>9631.967413</td>\n",
       "      <td>34.521409</td>\n",
       "    </tr>\n",
       "  </tbody>\n",
       "</table>\n",
       "</div>"
      ],
      "text/plain": [
       "   window_size horizan stride      AVG_MAE       AVG_MSE     AVG_RMSE  \\\n",
       "23          12       6      2  8017.053088  9.460755e+07  9245.144667   \n",
       "13          12       6      5  4936.804753  3.921743e+07  6262.382406   \n",
       "0           12       6      8  4936.804753  3.921743e+07  6262.382406   \n",
       "19           6      12      2  7068.089058  8.930277e+07  9410.868805   \n",
       "9            6      12      5  6767.775013  7.028889e+07  8383.847159   \n",
       "22           6      12      8  6767.775013  7.028889e+07  8383.847159   \n",
       "17           6       6      2  7806.366788  1.003931e+08  9306.172466   \n",
       "16           6       6      5  8416.995718  1.069833e+08  9553.111960   \n",
       "5            6       6      8  8795.448652  9.516734e+07  9631.967413   \n",
       "\n",
       "     AVG_MAPE  \n",
       "23  29.450823  \n",
       "13  21.496901  \n",
       "0   21.496901  \n",
       "19  26.613009  \n",
       "9   27.134308  \n",
       "22  27.134308  \n",
       "17  29.729597  \n",
       "16  31.274775  \n",
       "5   34.521409  "
      ]
     },
     "execution_count": 28,
     "metadata": {},
     "output_type": "execute_result"
    }
   ],
   "source": [
    "result_df"
   ]
  },
  {
   "cell_type": "code",
   "execution_count": 27,
   "metadata": {},
   "outputs": [
    {
     "name": "stdout",
     "output_type": "stream",
     "text": [
      "('12', '6')\n"
     ]
    },
    {
     "data": {
      "text/html": [
       "<div>\n",
       "<style scoped>\n",
       "    .dataframe tbody tr th:only-of-type {\n",
       "        vertical-align: middle;\n",
       "    }\n",
       "\n",
       "    .dataframe tbody tr th {\n",
       "        vertical-align: top;\n",
       "    }\n",
       "\n",
       "    .dataframe thead th {\n",
       "        text-align: right;\n",
       "    }\n",
       "</style>\n",
       "<table border=\"1\" class=\"dataframe\">\n",
       "  <thead>\n",
       "    <tr style=\"text-align: right;\">\n",
       "      <th></th>\n",
       "      <th>window_size</th>\n",
       "      <th>horizan</th>\n",
       "      <th>stride</th>\n",
       "      <th>AVG_MAE</th>\n",
       "      <th>AVG_MSE</th>\n",
       "      <th>AVG_RMSE</th>\n",
       "      <th>AVG_MAPE</th>\n",
       "    </tr>\n",
       "  </thead>\n",
       "  <tbody>\n",
       "    <tr>\n",
       "      <th>23</th>\n",
       "      <td>12</td>\n",
       "      <td>6</td>\n",
       "      <td>2</td>\n",
       "      <td>8017.053088</td>\n",
       "      <td>9.460755e+07</td>\n",
       "      <td>9245.144667</td>\n",
       "      <td>29.450823</td>\n",
       "    </tr>\n",
       "    <tr>\n",
       "      <th>13</th>\n",
       "      <td>12</td>\n",
       "      <td>6</td>\n",
       "      <td>5</td>\n",
       "      <td>4936.804753</td>\n",
       "      <td>3.921743e+07</td>\n",
       "      <td>6262.382406</td>\n",
       "      <td>21.496901</td>\n",
       "    </tr>\n",
       "    <tr>\n",
       "      <th>0</th>\n",
       "      <td>12</td>\n",
       "      <td>6</td>\n",
       "      <td>8</td>\n",
       "      <td>4936.804753</td>\n",
       "      <td>3.921743e+07</td>\n",
       "      <td>6262.382406</td>\n",
       "      <td>21.496901</td>\n",
       "    </tr>\n",
       "  </tbody>\n",
       "</table>\n",
       "</div>"
      ],
      "text/plain": [
       "   window_size horizan stride      AVG_MAE       AVG_MSE     AVG_RMSE  \\\n",
       "23          12       6      2  8017.053088  9.460755e+07  9245.144667   \n",
       "13          12       6      5  4936.804753  3.921743e+07  6262.382406   \n",
       "0           12       6      8  4936.804753  3.921743e+07  6262.382406   \n",
       "\n",
       "     AVG_MAPE  \n",
       "23  29.450823  \n",
       "13  21.496901  \n",
       "0   21.496901  "
      ]
     },
     "metadata": {},
     "output_type": "display_data"
    },
    {
     "name": "stdout",
     "output_type": "stream",
     "text": [
      "('6', '12')\n"
     ]
    },
    {
     "data": {
      "text/html": [
       "<div>\n",
       "<style scoped>\n",
       "    .dataframe tbody tr th:only-of-type {\n",
       "        vertical-align: middle;\n",
       "    }\n",
       "\n",
       "    .dataframe tbody tr th {\n",
       "        vertical-align: top;\n",
       "    }\n",
       "\n",
       "    .dataframe thead th {\n",
       "        text-align: right;\n",
       "    }\n",
       "</style>\n",
       "<table border=\"1\" class=\"dataframe\">\n",
       "  <thead>\n",
       "    <tr style=\"text-align: right;\">\n",
       "      <th></th>\n",
       "      <th>window_size</th>\n",
       "      <th>horizan</th>\n",
       "      <th>stride</th>\n",
       "      <th>AVG_MAE</th>\n",
       "      <th>AVG_MSE</th>\n",
       "      <th>AVG_RMSE</th>\n",
       "      <th>AVG_MAPE</th>\n",
       "    </tr>\n",
       "  </thead>\n",
       "  <tbody>\n",
       "    <tr>\n",
       "      <th>19</th>\n",
       "      <td>6</td>\n",
       "      <td>12</td>\n",
       "      <td>2</td>\n",
       "      <td>7068.089058</td>\n",
       "      <td>8.930277e+07</td>\n",
       "      <td>9410.868805</td>\n",
       "      <td>26.613009</td>\n",
       "    </tr>\n",
       "    <tr>\n",
       "      <th>9</th>\n",
       "      <td>6</td>\n",
       "      <td>12</td>\n",
       "      <td>5</td>\n",
       "      <td>6767.775013</td>\n",
       "      <td>7.028889e+07</td>\n",
       "      <td>8383.847159</td>\n",
       "      <td>27.134308</td>\n",
       "    </tr>\n",
       "    <tr>\n",
       "      <th>22</th>\n",
       "      <td>6</td>\n",
       "      <td>12</td>\n",
       "      <td>8</td>\n",
       "      <td>6767.775013</td>\n",
       "      <td>7.028889e+07</td>\n",
       "      <td>8383.847159</td>\n",
       "      <td>27.134308</td>\n",
       "    </tr>\n",
       "  </tbody>\n",
       "</table>\n",
       "</div>"
      ],
      "text/plain": [
       "   window_size horizan stride      AVG_MAE       AVG_MSE     AVG_RMSE  \\\n",
       "19           6      12      2  7068.089058  8.930277e+07  9410.868805   \n",
       "9            6      12      5  6767.775013  7.028889e+07  8383.847159   \n",
       "22           6      12      8  6767.775013  7.028889e+07  8383.847159   \n",
       "\n",
       "     AVG_MAPE  \n",
       "19  26.613009  \n",
       "9   27.134308  \n",
       "22  27.134308  "
      ]
     },
     "metadata": {},
     "output_type": "display_data"
    },
    {
     "name": "stdout",
     "output_type": "stream",
     "text": [
      "('6', '6')\n"
     ]
    },
    {
     "data": {
      "text/html": [
       "<div>\n",
       "<style scoped>\n",
       "    .dataframe tbody tr th:only-of-type {\n",
       "        vertical-align: middle;\n",
       "    }\n",
       "\n",
       "    .dataframe tbody tr th {\n",
       "        vertical-align: top;\n",
       "    }\n",
       "\n",
       "    .dataframe thead th {\n",
       "        text-align: right;\n",
       "    }\n",
       "</style>\n",
       "<table border=\"1\" class=\"dataframe\">\n",
       "  <thead>\n",
       "    <tr style=\"text-align: right;\">\n",
       "      <th></th>\n",
       "      <th>window_size</th>\n",
       "      <th>horizan</th>\n",
       "      <th>stride</th>\n",
       "      <th>AVG_MAE</th>\n",
       "      <th>AVG_MSE</th>\n",
       "      <th>AVG_RMSE</th>\n",
       "      <th>AVG_MAPE</th>\n",
       "    </tr>\n",
       "  </thead>\n",
       "  <tbody>\n",
       "    <tr>\n",
       "      <th>17</th>\n",
       "      <td>6</td>\n",
       "      <td>6</td>\n",
       "      <td>2</td>\n",
       "      <td>7806.366788</td>\n",
       "      <td>1.003931e+08</td>\n",
       "      <td>9306.172466</td>\n",
       "      <td>29.729597</td>\n",
       "    </tr>\n",
       "    <tr>\n",
       "      <th>16</th>\n",
       "      <td>6</td>\n",
       "      <td>6</td>\n",
       "      <td>5</td>\n",
       "      <td>8416.995718</td>\n",
       "      <td>1.069833e+08</td>\n",
       "      <td>9553.111960</td>\n",
       "      <td>31.274775</td>\n",
       "    </tr>\n",
       "    <tr>\n",
       "      <th>5</th>\n",
       "      <td>6</td>\n",
       "      <td>6</td>\n",
       "      <td>8</td>\n",
       "      <td>8795.448652</td>\n",
       "      <td>9.516734e+07</td>\n",
       "      <td>9631.967413</td>\n",
       "      <td>34.521409</td>\n",
       "    </tr>\n",
       "  </tbody>\n",
       "</table>\n",
       "</div>"
      ],
      "text/plain": [
       "   window_size horizan stride      AVG_MAE       AVG_MSE     AVG_RMSE  \\\n",
       "17           6       6      2  7806.366788  1.003931e+08  9306.172466   \n",
       "16           6       6      5  8416.995718  1.069833e+08  9553.111960   \n",
       "5            6       6      8  8795.448652  9.516734e+07  9631.967413   \n",
       "\n",
       "     AVG_MAPE  \n",
       "17  29.729597  \n",
       "16  31.274775  \n",
       "5   34.521409  "
      ]
     },
     "metadata": {},
     "output_type": "display_data"
    }
   ],
   "source": [
    "\n",
    "for name, group in result_df.groupby([\"window_size\", \"horizan\"]):\n",
    "    print(name)\n",
    "    display(group)"
   ]
  }
 ],
 "metadata": {
  "kernelspec": {
   "display_name": "darts",
   "language": "python",
   "name": "python3"
  },
  "language_info": {
   "codemirror_mode": {
    "name": "ipython",
    "version": 3
   },
   "file_extension": ".py",
   "mimetype": "text/x-python",
   "name": "python",
   "nbconvert_exporter": "python",
   "pygments_lexer": "ipython3",
   "version": "3.11.4"
  },
  "orig_nbformat": 4
 },
 "nbformat": 4,
 "nbformat_minor": 2
}
